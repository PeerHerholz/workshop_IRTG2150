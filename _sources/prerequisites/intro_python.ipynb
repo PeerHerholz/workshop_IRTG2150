{
 "cells": [
  {
   "cell_type": "markdown",
   "metadata": {},
   "source": [
    "# Introduction to Python "
   ]
  },
  {
   "cell_type": "markdown",
   "metadata": {
    "slideshow": {
     "slide_type": "slide"
    }
   },
   "source": [
    "## Before we get started 1...\n",
    "<br>\n",
    "\n",
    "- most of what you’ll see within this lecture was prepared by Ross Markello, Michael Notter and Peer Herholz and further adapted for this course by Peer Herholz \n",
    "- based on Tal Yarkoni's [\"Introduction to Python\" lecture at Neurohackademy 2019](https://neurohackademy.org/course/introduction-to-python-2/)\n",
    "- based on [IPython notebooks from J. R. Johansson](http://github.com/jrjohansson/scientific-python-lectures)\n",
    "- based on http://www.stavros.io/tutorials/python/ & http://www.swaroopch.com/notes/python\n",
    "- based on https://github.com/oesteban/biss2016 &  https://github.com/jvns/pandas-cookbook\n"
   ]
  },
  {
   "cell_type": "markdown",
   "metadata": {
    "slideshow": {
     "slide_type": "slide"
    }
   },
   "source": [
    "## Objectives 📍\n",
    "\n",
    "* learn basic and efficient usage of the python programming language\n",
    "    * what is python & how to utilize it\n",
    "    * building blocks of & operations in python "
   ]
  },
  {
   "cell_type": "markdown",
   "metadata": {
    "slideshow": {
     "slide_type": "slide"
    }
   },
   "source": [
    "## What is Python?\n",
    "\n",
    "* Python is a programming language\n",
    "* Specifically, it's a **widely used/very flexible**, **high-level**, **general-purpose**, **dynamic** programming language\n",
    "* That's a mouthful! Let's explore each of these points in more detail..."
   ]
  },
  {
   "cell_type": "markdown",
   "metadata": {
    "slideshow": {
     "slide_type": "subslide"
    }
   },
   "source": [
    "### Widely-used\n",
    "* Python is the fastest-growing major programming language\n",
    "* Top 3 overall (with JavaScript, Java)"
   ]
  },
  {
   "cell_type": "markdown",
   "metadata": {
    "slideshow": {
     "slide_type": "subslide"
    }
   },
   "source": [
    "<center><img src=\"https://cdn.stackoverflow.co/images/jo7n4k8s/production/7d911f35e806c8a704746054bf0f222e49924603-1024x878.png?auto=format\" width=\"800px\" style=\"margin-bottom: 10px;\"></center>"
   ]
  },
  {
   "cell_type": "markdown",
   "metadata": {
    "slideshow": {
     "slide_type": "subslide"
    }
   },
   "source": [
    "### High-level\n",
    "Python features a high level of abstraction\n",
    "* Many operations that are explicit in lower-level languages (e.g., C/C++) are implicit in Python\n",
    "* E.g., memory allocation, garbage collection, etc.\n",
    "* Python lets you write code faster"
   ]
  },
  {
   "cell_type": "markdown",
   "metadata": {
    "slideshow": {
     "slide_type": "subslide"
    }
   },
   "source": [
    "#### File reading in Java\n",
    "```java\n",
    "import java.io.BufferedReader;\n",
    "import java.io.FileReader;\n",
    "import java.io.IOException;\n",
    " \n",
    "public class ReadFile {\n",
    "    public static void main(String[] args) throws IOException{\n",
    "        String fileContents = readEntireFile(\"./foo.txt\");\n",
    "    }\n",
    " \n",
    "    private static String readEntireFile(String filename) throws IOException {\n",
    "        FileReader in = new FileReader(filename);\n",
    "        StringBuilder contents = new StringBuilder();\n",
    "        char[] buffer = new char[4096];\n",
    "        int read = 0;\n",
    "        do {\n",
    "            contents.append(buffer, 0, read);\n",
    "            read = in.read(buffer);\n",
    "        } while (read >= 0);\n",
    "        return contents.toString();\n",
    "    }\n",
    "}\n",
    "```"
   ]
  },
  {
   "cell_type": "markdown",
   "metadata": {
    "slideshow": {
     "slide_type": "subslide"
    }
   },
   "source": [
    "#### File-reading in Python\n",
    "```python\n",
    "open(filename).read()\n",
    "```"
   ]
  },
  {
   "cell_type": "markdown",
   "metadata": {
    "slideshow": {
     "slide_type": "subslide"
    }
   },
   "source": [
    "### General-purpose\n",
    "You can do almost everything in Python\n",
    "* Comprehensive standard library\n",
    "* Enormous ecosystem of third-party packages\n",
    "* Widely used in many areas of software development (web, dev-ops, data science, etc.)\n",
    "\n",
    "<center><img src=\"https://raw.githubusercontent.com/PeerHerholz/Python_for_Psychologists_Winter2021/master/lecture/static/general_purpose_meme.png\"></center>"
   ]
  },
  {
   "cell_type": "markdown",
   "metadata": {
    "slideshow": {
     "slide_type": "subslide"
    }
   },
   "source": [
    "### Dynamic\n",
    "Code is interpreted at run-time\n",
    "* No compilation process*; code is read line-by-line when executed\n",
    "* Eliminates delays between development and execution\n",
    "* The downside: poorer performance compared to compiled languages"
   ]
  },
  {
   "cell_type": "markdown",
   "metadata": {
    "slideshow": {
     "slide_type": "subslide"
    }
   },
   "source": [
    "<center><img src=\"https://imgs.xkcd.com/comics/python.png\"></center>"
   ]
  },
  {
   "cell_type": "markdown",
   "metadata": {
    "slideshow": {
     "slide_type": "fragment"
    }
   },
   "source": [
    "(Try typing `import antigravity` into a new cell and running it!)"
   ]
  },
  {
   "cell_type": "markdown",
   "metadata": {
    "slideshow": {
     "slide_type": "slide"
    }
   },
   "source": [
    "What we will do in this section of the course is a _short_ introduction to `Python` to help beginners to get familiar with this `programming language`.\n",
    "\n",
    "It is divided into the following chapters:\n",
    "\n",
    "- [Module](#Module)\n",
    "- [Help and Descriptions](#Help-and-Descriptions)\n",
    "- [Variables and types](#Variables-and-types)\n",
    "    - [Symbol names](#Symbol-names)\n",
    "    - [Assignment](#Assignment)\n",
    "    - [Fundamental types](#Fundamental-types)\n",
    "- [Operators and comparisons](#Operators-and-comparisons)\n",
    "    - [Shortcut math operation and assignment](#Shortcut-math-operation-and-assignment)\n",
    "- [Strings, List and dictionaries](#Strings,-List-and-dictionaries)\n",
    "    - [Strings](#Strings)\n",
    "    - [List](#List)\n",
    "    - [Tuples](#Tuples)\n",
    "    - [Dictionaries](#Dictionaries)\n",
    "- [Indentation](#Indentation)\n",
    "- [Control Flow](#Control-Flow)\n",
    "    - [Conditional statements: `if`, `elif`, `else`](#Conditional-statements:-if,-elif,-else)\n",
    "- [Loops](#Loops)\n",
    "    - [`for` loops](#for-loops)\n",
    "    - [`break`, `continue` and `pass`](#break,-continue-and-pass)\n",
    "- [Functions](#Functions)\n",
    "    - [Default argument and keyword arguments](#Default-argument-and-keyword-arguments)\n",
    "    - [`*args` and `*kwargs` parameters](#*args-and-*kwargs-parameters)\n",
    "    - [Unnamed functions: `lambda` function](#Unnamed-functions:-lambda-function)\n",
    "- [Classes](#Classes)\n",
    "- [Modules](#Modules)\n",
    "- [Exceptions](#Exceptions)"
   ]
  },
  {
   "cell_type": "markdown",
   "metadata": {},
   "source": [
    "Here's what we will focus on in the first block:\n",
    "\n",
    "- [Module](#Module)\n",
    "- [Help and Descriptions](#Help-and-Descriptions)\n",
    "- [Variables and types](#Variables-and-types)\n",
    "    - [Symbol names](#Symbol-names)\n",
    "    - [Assignment](#Assignment)\n",
    "    - [Fundamental types](#Fundamental-types)"
   ]
  },
  {
   "cell_type": "markdown",
   "metadata": {
    "slideshow": {
     "slide_type": "slide"
    }
   },
   "source": [
    "## Modules\n",
    "\n",
    "Most of the functionality in `Python` is provided by *modules*. To use a module in a Python program it first has to be imported. A module can be imported using the `import` statement. \n",
    "\n",
    "\n",
    "<center><img src=\"https://raw.githubusercontent.com/PeerHerholz/Python_for_Psychologists_Winter2021/master/lecture/static/python_import.png\"></center>"
   ]
  },
  {
   "cell_type": "markdown",
   "metadata": {
    "slideshow": {
     "slide_type": "subslide"
    }
   },
   "source": [
    "For example, to import the module `math`, which contains many standard mathematical functions, we can do:"
   ]
  },
  {
   "cell_type": "code",
   "execution_count": 1,
   "metadata": {
    "slideshow": {
     "slide_type": "fragment"
    }
   },
   "outputs": [],
   "source": [
    "import math"
   ]
  },
  {
   "cell_type": "markdown",
   "metadata": {
    "slideshow": {
     "slide_type": "fragment"
    }
   },
   "source": [
    "This includes the whole module and makes it available for use later in the program. For example, we can do:"
   ]
  },
  {
   "cell_type": "code",
   "execution_count": 2,
   "metadata": {
    "slideshow": {
     "slide_type": "fragment"
    }
   },
   "outputs": [
    {
     "name": "stdout",
     "output_type": "stream",
     "text": [
      "1.0\n"
     ]
    }
   ],
   "source": [
    "import math\n",
    "\n",
    "x = math.cos(2 * math.pi)\n",
    "\n",
    "print(x)"
   ]
  },
  {
   "cell_type": "markdown",
   "metadata": {
    "slideshow": {
     "slide_type": "subslide"
    }
   },
   "source": [
    "Importing the whole module us often times unnecessary and can lead to longer loading time or increase the memory consumption. An alternative to the previous method, we can also choose to import only a few selected functions from a module by explicitly listing which ones we want to import:"
   ]
  },
  {
   "cell_type": "code",
   "execution_count": 3,
   "metadata": {
    "slideshow": {
     "slide_type": "fragment"
    }
   },
   "outputs": [
    {
     "name": "stdout",
     "output_type": "stream",
     "text": [
      "1.0\n"
     ]
    }
   ],
   "source": [
    "from math import cos, pi\n",
    "\n",
    "x = cos(2 * pi)\n",
    "\n",
    "print(x)"
   ]
  },
  {
   "cell_type": "markdown",
   "metadata": {
    "slideshow": {
     "slide_type": "subslide"
    }
   },
   "source": [
    "You can make use of `tab` again to get a list of `functions`/`classes`/etc. for a given `module`. Try it out via navigating the cursor behind the `import statement` and press `tab`:"
   ]
  },
  {
   "cell_type": "code",
   "execution_count": null,
   "metadata": {},
   "outputs": [],
   "source": [
    "from math import "
   ]
  },
  {
   "cell_type": "markdown",
   "metadata": {
    "slideshow": {
     "slide_type": "fragment"
    }
   },
   "source": [
    "Comparably you can also use the `help` function to find out more about a given `module`:"
   ]
  },
  {
   "cell_type": "code",
   "execution_count": 5,
   "metadata": {
    "scrolled": true,
    "tags": [
     "output_scroll"
    ]
   },
   "outputs": [
    {
     "name": "stdout",
     "output_type": "stream",
     "text": [
      "Help on module math:\n",
      "\n",
      "NAME\n",
      "    math\n",
      "\n",
      "MODULE REFERENCE\n",
      "    https://docs.python.org/3.11/library/math.html\n",
      "    \n",
      "    The following documentation is automatically generated from the Python\n",
      "    source files.  It may be incomplete, incorrect or include features that\n",
      "    are considered implementation detail and may vary between Python\n",
      "    implementations.  When in doubt, consult the module reference at the\n",
      "    location listed above.\n",
      "\n",
      "DESCRIPTION\n",
      "    This module provides access to the mathematical functions\n",
      "    defined by the C standard.\n",
      "\n",
      "FUNCTIONS\n",
      "    acos(x, /)\n",
      "        Return the arc cosine (measured in radians) of x.\n",
      "        \n",
      "        The result is between 0 and pi.\n",
      "    \n",
      "    acosh(x, /)\n",
      "        Return the inverse hyperbolic cosine of x.\n",
      "    \n",
      "    asin(x, /)\n",
      "        Return the arc sine (measured in radians) of x.\n",
      "        \n",
      "        The result is between -pi/2 and pi/2.\n",
      "    \n",
      "    asinh(x, /)\n",
      "        Return the inverse hyperbolic sine of x.\n",
      "    \n",
      "    atan(x, /)\n",
      "        Return the arc tangent (measured in radians) of x.\n",
      "        \n",
      "        The result is between -pi/2 and pi/2.\n",
      "    \n",
      "    atan2(y, x, /)\n",
      "        Return the arc tangent (measured in radians) of y/x.\n",
      "        \n",
      "        Unlike atan(y/x), the signs of both x and y are considered.\n",
      "    \n",
      "    atanh(x, /)\n",
      "        Return the inverse hyperbolic tangent of x.\n",
      "    \n",
      "    cbrt(x, /)\n",
      "        Return the cube root of x.\n",
      "    \n",
      "    ceil(x, /)\n",
      "        Return the ceiling of x as an Integral.\n",
      "        \n",
      "        This is the smallest integer >= x.\n",
      "    \n",
      "    comb(n, k, /)\n",
      "        Number of ways to choose k items from n items without repetition and without order.\n",
      "        \n",
      "        Evaluates to n! / (k! * (n - k)!) when k <= n and evaluates\n",
      "        to zero when k > n.\n",
      "        \n",
      "        Also called the binomial coefficient because it is equivalent\n",
      "        to the coefficient of k-th term in polynomial expansion of the\n",
      "        expression (1 + x)**n.\n",
      "        \n",
      "        Raises TypeError if either of the arguments are not integers.\n",
      "        Raises ValueError if either of the arguments are negative.\n",
      "    \n",
      "    copysign(x, y, /)\n",
      "        Return a float with the magnitude (absolute value) of x but the sign of y.\n",
      "        \n",
      "        On platforms that support signed zeros, copysign(1.0, -0.0)\n",
      "        returns -1.0.\n",
      "    \n",
      "    cos(x, /)\n",
      "        Return the cosine of x (measured in radians).\n",
      "    \n",
      "    cosh(x, /)\n",
      "        Return the hyperbolic cosine of x.\n",
      "    \n",
      "    degrees(x, /)\n",
      "        Convert angle x from radians to degrees.\n",
      "    \n",
      "    dist(p, q, /)\n",
      "        Return the Euclidean distance between two points p and q.\n",
      "        \n",
      "        The points should be specified as sequences (or iterables) of\n",
      "        coordinates.  Both inputs must have the same dimension.\n",
      "        \n",
      "        Roughly equivalent to:\n",
      "            sqrt(sum((px - qx) ** 2.0 for px, qx in zip(p, q)))\n",
      "    \n",
      "    erf(x, /)\n",
      "        Error function at x.\n",
      "    \n",
      "    erfc(x, /)\n",
      "        Complementary error function at x.\n",
      "    \n",
      "    exp(x, /)\n",
      "        Return e raised to the power of x.\n",
      "    \n",
      "    exp2(x, /)\n",
      "        Return 2 raised to the power of x.\n",
      "    \n",
      "    expm1(x, /)\n",
      "        Return exp(x)-1.\n",
      "        \n",
      "        This function avoids the loss of precision involved in the direct evaluation of exp(x)-1 for small x.\n",
      "    \n",
      "    fabs(x, /)\n",
      "        Return the absolute value of the float x.\n",
      "    \n",
      "    factorial(n, /)\n",
      "        Find n!.\n",
      "        \n",
      "        Raise a ValueError if x is negative or non-integral.\n",
      "    \n",
      "    floor(x, /)\n",
      "        Return the floor of x as an Integral.\n",
      "        \n",
      "        This is the largest integer <= x.\n",
      "    \n",
      "    fmod(x, y, /)\n",
      "        Return fmod(x, y), according to platform C.\n",
      "        \n",
      "        x % y may differ.\n",
      "    \n",
      "    frexp(x, /)\n",
      "        Return the mantissa and exponent of x, as pair (m, e).\n",
      "        \n",
      "        m is a float and e is an int, such that x = m * 2.**e.\n",
      "        If x is 0, m and e are both 0.  Else 0.5 <= abs(m) < 1.0.\n",
      "    \n",
      "    fsum(seq, /)\n",
      "        Return an accurate floating point sum of values in the iterable seq.\n",
      "        \n",
      "        Assumes IEEE-754 floating point arithmetic.\n",
      "    \n",
      "    gamma(x, /)\n",
      "        Gamma function at x.\n",
      "    \n",
      "    gcd(*integers)\n",
      "        Greatest Common Divisor.\n",
      "    \n",
      "    hypot(...)\n",
      "        hypot(*coordinates) -> value\n",
      "        \n",
      "        Multidimensional Euclidean distance from the origin to a point.\n",
      "        \n",
      "        Roughly equivalent to:\n",
      "            sqrt(sum(x**2 for x in coordinates))\n",
      "        \n",
      "        For a two dimensional point (x, y), gives the hypotenuse\n",
      "        using the Pythagorean theorem:  sqrt(x*x + y*y).\n",
      "        \n",
      "        For example, the hypotenuse of a 3/4/5 right triangle is:\n",
      "        \n",
      "            >>> hypot(3.0, 4.0)\n",
      "            5.0\n",
      "    \n",
      "    isclose(a, b, *, rel_tol=1e-09, abs_tol=0.0)\n",
      "        Determine whether two floating point numbers are close in value.\n",
      "        \n",
      "          rel_tol\n",
      "            maximum difference for being considered \"close\", relative to the\n",
      "            magnitude of the input values\n",
      "          abs_tol\n",
      "            maximum difference for being considered \"close\", regardless of the\n",
      "            magnitude of the input values\n",
      "        \n",
      "        Return True if a is close in value to b, and False otherwise.\n",
      "        \n",
      "        For the values to be considered close, the difference between them\n",
      "        must be smaller than at least one of the tolerances.\n",
      "        \n",
      "        -inf, inf and NaN behave similarly to the IEEE 754 Standard.  That\n",
      "        is, NaN is not close to anything, even itself.  inf and -inf are\n",
      "        only close to themselves.\n",
      "    \n",
      "    isfinite(x, /)\n",
      "        Return True if x is neither an infinity nor a NaN, and False otherwise.\n",
      "    \n",
      "    isinf(x, /)\n",
      "        Return True if x is a positive or negative infinity, and False otherwise.\n",
      "    \n",
      "    isnan(x, /)\n",
      "        Return True if x is a NaN (not a number), and False otherwise.\n",
      "    \n",
      "    isqrt(n, /)\n",
      "        Return the integer part of the square root of the input.\n",
      "    \n",
      "    lcm(*integers)\n",
      "        Least Common Multiple.\n",
      "    \n",
      "    ldexp(x, i, /)\n",
      "        Return x * (2**i).\n",
      "        \n",
      "        This is essentially the inverse of frexp().\n",
      "    \n",
      "    lgamma(x, /)\n",
      "        Natural logarithm of absolute value of Gamma function at x.\n",
      "    \n",
      "    log(...)\n",
      "        log(x, [base=math.e])\n",
      "        Return the logarithm of x to the given base.\n",
      "        \n",
      "        If the base not specified, returns the natural logarithm (base e) of x.\n",
      "    \n",
      "    log10(x, /)\n",
      "        Return the base 10 logarithm of x.\n",
      "    \n",
      "    log1p(x, /)\n",
      "        Return the natural logarithm of 1+x (base e).\n",
      "        \n",
      "        The result is computed in a way which is accurate for x near zero.\n",
      "    \n",
      "    log2(x, /)\n",
      "        Return the base 2 logarithm of x.\n",
      "    \n",
      "    modf(x, /)\n",
      "        Return the fractional and integer parts of x.\n",
      "        \n",
      "        Both results carry the sign of x and are floats.\n",
      "    \n",
      "    nextafter(x, y, /)\n",
      "        Return the next floating-point value after x towards y.\n",
      "    \n",
      "    perm(n, k=None, /)\n",
      "        Number of ways to choose k items from n items without repetition and with order.\n",
      "        \n",
      "        Evaluates to n! / (n - k)! when k <= n and evaluates\n",
      "        to zero when k > n.\n",
      "        \n",
      "        If k is not specified or is None, then k defaults to n\n",
      "        and the function returns n!.\n",
      "        \n",
      "        Raises TypeError if either of the arguments are not integers.\n",
      "        Raises ValueError if either of the arguments are negative.\n",
      "    \n",
      "    pow(x, y, /)\n",
      "        Return x**y (x to the power of y).\n",
      "    \n",
      "    prod(iterable, /, *, start=1)\n",
      "        Calculate the product of all the elements in the input iterable.\n",
      "        \n",
      "        The default start value for the product is 1.\n",
      "        \n",
      "        When the iterable is empty, return the start value.  This function is\n",
      "        intended specifically for use with numeric values and may reject\n",
      "        non-numeric types.\n",
      "    \n",
      "    radians(x, /)\n",
      "        Convert angle x from degrees to radians.\n",
      "    \n",
      "    remainder(x, y, /)\n",
      "        Difference between x and the closest integer multiple of y.\n",
      "        \n",
      "        Return x - n*y where n*y is the closest integer multiple of y.\n",
      "        In the case where x is exactly halfway between two multiples of\n",
      "        y, the nearest even value of n is used. The result is always exact.\n",
      "    \n",
      "    sin(x, /)\n",
      "        Return the sine of x (measured in radians).\n",
      "    \n",
      "    sinh(x, /)\n",
      "        Return the hyperbolic sine of x.\n",
      "    \n",
      "    sqrt(x, /)\n",
      "        Return the square root of x.\n",
      "    \n",
      "    tan(x, /)\n",
      "        Return the tangent of x (measured in radians).\n",
      "    \n",
      "    tanh(x, /)\n",
      "        Return the hyperbolic tangent of x.\n",
      "    \n",
      "    trunc(x, /)\n",
      "        Truncates the Real x to the nearest Integral toward 0.\n",
      "        \n",
      "        Uses the __trunc__ magic method.\n",
      "    \n",
      "    ulp(x, /)\n",
      "        Return the value of the least significant bit of the float x.\n",
      "\n",
      "DATA\n",
      "    e = 2.718281828459045\n",
      "    inf = inf\n",
      "    nan = nan\n",
      "    pi = 3.141592653589793\n",
      "    tau = 6.283185307179586\n",
      "\n",
      "FILE\n",
      "    /Users/peerherholz/anaconda3/envs/workshop_IRTG2150/lib/python3.11/lib-dynload/math.cpython-311-darwin.so\n",
      "\n",
      "\n"
     ]
    }
   ],
   "source": [
    "import math\n",
    "help(math)"
   ]
  },
  {
   "cell_type": "markdown",
   "metadata": {
    "slideshow": {
     "slide_type": "subslide"
    }
   },
   "source": [
    "It is also possible to give an imported module or symbol your own access name with the `as` additional:"
   ]
  },
  {
   "cell_type": "code",
   "execution_count": 6,
   "metadata": {
    "slideshow": {
     "slide_type": "fragment"
    }
   },
   "outputs": [
    {
     "name": "stdout",
     "output_type": "stream",
     "text": [
      "180.0\n"
     ]
    }
   ],
   "source": [
    "import numpy as np\n",
    "from math import pi as number_pi\n",
    "\n",
    "x  = np.rad2deg(number_pi)\n",
    "\n",
    "print(x)"
   ]
  },
  {
   "cell_type": "markdown",
   "metadata": {
    "slideshow": {
     "slide_type": "fragment"
    }
   },
   "source": [
    "You can basically provide any name (given it's following `python`/`coding` conventions) but focusing on intelligibility won't be the worst idea: "
   ]
  },
  {
   "cell_type": "code",
   "execution_count": 7,
   "metadata": {
    "slideshow": {
     "slide_type": "fragment"
    }
   },
   "outputs": [],
   "source": [
    "import matplotlib as pineapple"
   ]
  },
  {
   "cell_type": "code",
   "execution_count": null,
   "metadata": {
    "slideshow": {
     "slide_type": "fragment"
    }
   },
   "outputs": [],
   "source": [
    "pineapple."
   ]
  },
  {
   "cell_type": "markdown",
   "metadata": {
    "slideshow": {
     "slide_type": "subslide"
    }
   },
   "source": [
    "##### Exercise 1.1\n",
    "\n",
    "Import the `max` from `numpy` and find out what it does."
   ]
  },
  {
   "cell_type": "code",
   "execution_count": null,
   "metadata": {
    "solution2": "hidden",
    "solution2_first": true
   },
   "outputs": [],
   "source": [
    "# write your solution in this code cell"
   ]
  },
  {
   "cell_type": "code",
   "execution_count": null,
   "metadata": {
    "solution2": "hidden"
   },
   "outputs": [],
   "source": [
    "from numpy import max\n",
    "help(max)"
   ]
  },
  {
   "cell_type": "markdown",
   "metadata": {
    "slideshow": {
     "slide_type": "subslide"
    }
   },
   "source": [
    "##### Exercise 1.2\n",
    "\n",
    "Import the `scipy` package and assign the access name `middle_earth` and check its `functions`."
   ]
  },
  {
   "cell_type": "code",
   "execution_count": null,
   "metadata": {
    "solution2": "hidden",
    "solution2_first": true
   },
   "outputs": [],
   "source": [
    "# write your solution in this code cell"
   ]
  },
  {
   "cell_type": "code",
   "execution_count": 9,
   "metadata": {
    "solution2": "hidden"
   },
   "outputs": [],
   "source": [
    "import scipy as middle_earth"
   ]
  },
  {
   "cell_type": "code",
   "execution_count": null,
   "metadata": {
    "solution2": "hidden"
   },
   "outputs": [],
   "source": [
    "help(middle_earth)"
   ]
  },
  {
   "cell_type": "markdown",
   "metadata": {
    "slideshow": {
     "slide_type": "subslide"
    },
    "solution2": "hidden",
    "solution2_first": true
   },
   "source": [
    "##### Exercise 1.3\n",
    "\n",
    "What happens when we try to import a `module` that is either misspelled or doesn't exist in our `environment` or at all?\n",
    "\n",
    "1. `python` provides us a hint that the `module` name might be misspelled\n",
    "2. we'll get an `error` telling us that the `module` doesn't exist\n",
    "3. `python` automatically searches for the `module` and if it exists downloads/installs it"
   ]
  },
  {
   "cell_type": "code",
   "execution_count": null,
   "metadata": {
    "solution2": "hidden"
   },
   "outputs": [],
   "source": [
    "import welovethisschool"
   ]
  },
  {
   "cell_type": "markdown",
   "metadata": {
    "slideshow": {
     "slide_type": "subslide"
    }
   },
   "source": [
    "## Namespaces and imports\n",
    "* Python is **very** serious about maintaining orderly `namespaces`\n",
    "* If you want to use some code outside the current scope, you need to explicitly \"`import`\" it\n",
    "* Python's import system often annoys beginners, but it substantially increases `code` clarity\n",
    "    * Almost completely eliminates naming conflicts and confusion"
   ]
  },
  {
   "cell_type": "markdown",
   "metadata": {
    "slideshow": {
     "slide_type": "slide"
    }
   },
   "source": [
    "## Help and Descriptions\n",
    "\n",
    "Using the function `help` we can get a description of almost all functions. "
   ]
  },
  {
   "cell_type": "code",
   "execution_count": 10,
   "metadata": {
    "slideshow": {
     "slide_type": "fragment"
    }
   },
   "outputs": [
    {
     "name": "stdout",
     "output_type": "stream",
     "text": [
      "Help on built-in function log in module math:\n",
      "\n",
      "log(...)\n",
      "    log(x, [base=math.e])\n",
      "    Return the logarithm of x to the given base.\n",
      "    \n",
      "    If the base not specified, returns the natural logarithm (base e) of x.\n",
      "\n"
     ]
    }
   ],
   "source": [
    "help(math.log)"
   ]
  },
  {
   "cell_type": "code",
   "execution_count": 11,
   "metadata": {
    "slideshow": {
     "slide_type": "fragment"
    }
   },
   "outputs": [
    {
     "data": {
      "text/plain": [
       "2.302585092994046"
      ]
     },
     "execution_count": 11,
     "metadata": {},
     "output_type": "execute_result"
    }
   ],
   "source": [
    "math.log(10)"
   ]
  },
  {
   "cell_type": "code",
   "execution_count": 12,
   "metadata": {
    "slideshow": {
     "slide_type": "fragment"
    }
   },
   "outputs": [
    {
     "data": {
      "text/plain": [
       "3.3219280948873626"
      ]
     },
     "execution_count": 12,
     "metadata": {},
     "output_type": "execute_result"
    }
   ],
   "source": [
    "math.log(10, 2)"
   ]
  },
  {
   "cell_type": "markdown",
   "metadata": {
    "slideshow": {
     "slide_type": "slide"
    }
   },
   "source": [
    "## Variables and data types\n",
    "* in programming `variables` are things that store `values`\n",
    "* in `Python`, we declare a `variable` by **assigning** it a `value` with the `=` sign\n",
    "    * `name = value`\n",
    "    * code `variables` **!=** math variables\n",
    "        * in mathematics `=` refers to equality (statement of truth), e.g. `y = 10x + 2`\n",
    "        * in coding `=` refers to assignments, e.g. `x = x + 1`\n",
    "    * Variables are pointers, not data stores!\n",
    "    \n",
    "<center><img src=\"https://raw.githubusercontent.com/PeerHerholz/Python_for_Psychologists_Winter2021/master/lecture/static/python_data_types.png\"></center>"
   ]
  },
  {
   "cell_type": "markdown",
   "metadata": {
    "slideshow": {
     "slide_type": "subslide"
    }
   },
   "source": [
    "* `Python` supports a variety of `data types` and `structures`:\n",
    "    * `booleans`\n",
    "    * `numbers` (`ints`, `floats`, etc.)\n",
    "    * `strings`\n",
    "    * `lists`\n",
    "    * `dictionaries`\n",
    "    * many others!\n",
    "* We don't specify a variable's type at assignment"
   ]
  },
  {
   "cell_type": "markdown",
   "metadata": {
    "slideshow": {
     "slide_type": "slide"
    }
   },
   "source": [
    "### Symbol names \n",
    "\n",
    "Variable names in Python can contain alphanumerical characters `a-z`, `A-Z`, `0-9` and some special characters such as `_`. Normal variable names must start with a letter. \n",
    "\n",
    "By convention, variable names start with a lower-case letter, and Class names start with a capital letter. \n",
    "\n",
    "In addition, there are a number of Python keywords that cannot be used as variable names. These keywords are:\n",
    "\n",
    "    and, as, assert, break, class, continue, def, del, elif, else, except, exec, finally, for, from, global, if, import, in, is, lambda, not, or, pass, print, raise, return, try, while, with, yield"
   ]
  },
  {
   "cell_type": "markdown",
   "metadata": {
    "slideshow": {
     "slide_type": "subslide"
    }
   },
   "source": [
    "### Assignment\n",
    "\n",
    "(Not an homework assignment but the operator in `python`.)\n",
    "\n",
    "The assignment operator in `Python` is `=`. `Python` is a `dynamically typed language`, so we do not need to specify the type of a `variable` when we create one.\n",
    "\n",
    "`Assigning` a `value` to a new `variable` _creates_ the `variable`:"
   ]
  },
  {
   "cell_type": "code",
   "execution_count": 13,
   "metadata": {
    "slideshow": {
     "slide_type": "fragment"
    }
   },
   "outputs": [],
   "source": [
    "x = 1.0"
   ]
  },
  {
   "cell_type": "markdown",
   "metadata": {
    "slideshow": {
     "slide_type": "subslide"
    }
   },
   "source": [
    "Again, this does not mean that `x` equals `1` but that the `variable` `x` has the `value` `1`. Thus, our `variable` `x` is _stored_ in the respective `namespace`:"
   ]
  },
  {
   "cell_type": "code",
   "execution_count": 14,
   "metadata": {},
   "outputs": [
    {
     "data": {
      "text/plain": [
       "1.0"
      ]
     },
     "execution_count": 14,
     "metadata": {},
     "output_type": "execute_result"
    }
   ],
   "source": [
    "x"
   ]
  },
  {
   "cell_type": "markdown",
   "metadata": {
    "slideshow": {
     "slide_type": "fragment"
    }
   },
   "source": [
    "This means that we can directly utilize the `value` of our `variable`: "
   ]
  },
  {
   "cell_type": "code",
   "execution_count": 15,
   "metadata": {},
   "outputs": [
    {
     "data": {
      "text/plain": [
       "4.0"
      ]
     },
     "execution_count": 15,
     "metadata": {},
     "output_type": "execute_result"
    }
   ],
   "source": [
    "x + 3"
   ]
  },
  {
   "cell_type": "markdown",
   "metadata": {
    "slideshow": {
     "slide_type": "subslide"
    }
   },
   "source": [
    "Although not explicitly specified, a `variable` does have a `type` associated with it. The `type` is _derived_ from the `value` it was `assigned`."
   ]
  },
  {
   "cell_type": "code",
   "execution_count": 16,
   "metadata": {
    "slideshow": {
     "slide_type": "fragment"
    }
   },
   "outputs": [
    {
     "data": {
      "text/plain": [
       "float"
      ]
     },
     "execution_count": 16,
     "metadata": {},
     "output_type": "execute_result"
    }
   ],
   "source": [
    "type(x)"
   ]
  },
  {
   "cell_type": "markdown",
   "metadata": {
    "slideshow": {
     "slide_type": "subslide"
    }
   },
   "source": [
    "If we `assign` a new `value` to a `variable`, its `type` can change."
   ]
  },
  {
   "cell_type": "code",
   "execution_count": 17,
   "metadata": {
    "slideshow": {
     "slide_type": "fragment"
    }
   },
   "outputs": [],
   "source": [
    "x = 1"
   ]
  },
  {
   "cell_type": "code",
   "execution_count": 18,
   "metadata": {
    "slideshow": {
     "slide_type": "fragment"
    }
   },
   "outputs": [
    {
     "data": {
      "text/plain": [
       "int"
      ]
     },
     "execution_count": 18,
     "metadata": {},
     "output_type": "execute_result"
    }
   ],
   "source": [
    "type(x)"
   ]
  },
  {
   "cell_type": "markdown",
   "metadata": {
    "slideshow": {
     "slide_type": "subslide"
    }
   },
   "source": [
    "This outline one further _very important_ characteristic of `python` (and many other programming languages): `variables` can be directly overwritten by `assigning` them a new `value`. We don't get an error like \"This `namespace` is already taken.\" Thus, always remember/keep track of what `namespaces` were already used to avoid unintentional deletions/errors (reproducibility/replicability much?). "
   ]
  },
  {
   "cell_type": "code",
   "execution_count": 19,
   "metadata": {
    "slideshow": {
     "slide_type": "fragment"
    }
   },
   "outputs": [
    {
     "data": {
      "text/plain": [
       "'Bilbo'"
      ]
     },
     "execution_count": 19,
     "metadata": {},
     "output_type": "execute_result"
    }
   ],
   "source": [
    "ring_bearer = 'Bilbo'\n",
    "ring_bearer"
   ]
  },
  {
   "cell_type": "code",
   "execution_count": 20,
   "metadata": {
    "slideshow": {
     "slide_type": "fragment"
    }
   },
   "outputs": [
    {
     "data": {
      "text/plain": [
       "'Frodo'"
      ]
     },
     "execution_count": 20,
     "metadata": {},
     "output_type": "execute_result"
    }
   ],
   "source": [
    "ring_bearer = 'Frodo'\n",
    "ring_bearer"
   ]
  },
  {
   "cell_type": "markdown",
   "metadata": {
    "slideshow": {
     "slide_type": "subslide"
    }
   },
   "source": [
    "If we try to use a variable that has not yet been defined we get an `NameError` (Note for later sessions, that we will use in the notebooks `try/except` blocks to handle the exception, so the notebook doesn't stop. The code below will try to execute `print` function and if the `NameError` occurs the error message will be printed. Otherwise, an error will be raised. You will learn more about exception handling later.):"
   ]
  },
  {
   "cell_type": "code",
   "execution_count": 21,
   "metadata": {
    "slideshow": {
     "slide_type": "fragment"
    }
   },
   "outputs": [
    {
     "name": "stdout",
     "output_type": "stream",
     "text": [
      "NameError name 'Peer' is not defined\n"
     ]
    }
   ],
   "source": [
    "try:\n",
    "    print(Peer)\n",
    "except(NameError) as err:\n",
    "    print(\"NameError\", err)\n",
    "else:\n",
    "    raise"
   ]
  },
  {
   "cell_type": "markdown",
   "metadata": {
    "slideshow": {
     "slide_type": "subslide"
    }
   },
   "source": [
    "Variable names:\n",
    "\n",
    "* Can include `letters` (A-Z), `digits` (0-9), and `underscores` ( _ )\n",
    "* Cannot start with a `digit`\n",
    "* Are **case sensitive** (questions: where did \"lower/upper case\" originate?)\n",
    "\n",
    "This means that, for example:\n",
    "\n",
    "* `shire0` is a valid variable name, whereas `0shire` is not\n",
    "* `shire` and `Shire` are different variables"
   ]
  },
  {
   "cell_type": "markdown",
   "metadata": {
    "slideshow": {
     "slide_type": "subslide"
    }
   },
   "source": [
    "##### Exercise 2.1\n",
    "\n",
    "Create the following `variables` `n_elves`, `n_dwarfs`, `n_humans` with the respective values `3`, `7.0` and `nine`."
   ]
  },
  {
   "cell_type": "code",
   "execution_count": 22,
   "metadata": {
    "solution2": "hidden",
    "solution2_first": true
   },
   "outputs": [],
   "source": [
    "# write your solution here"
   ]
  },
  {
   "cell_type": "code",
   "execution_count": 23,
   "metadata": {
    "solution2": "hidden"
   },
   "outputs": [],
   "source": [
    "n_elves = 3\n",
    "n_dwarfs = 7.0\n",
    "n_humans = \"nine\""
   ]
  },
  {
   "cell_type": "markdown",
   "metadata": {
    "slideshow": {
     "slide_type": "subslide"
    },
    "solution2": "hidden",
    "solution2_first": true
   },
   "source": [
    "##### Exercise 2.2\n",
    "\n",
    "What's the output of `n_elves + n_dwarfs`?\n",
    "\n",
    "1. `n_elves + n_dwarfs`\n",
    "2. 10\n",
    "3. 10.0"
   ]
  },
  {
   "cell_type": "code",
   "execution_count": null,
   "metadata": {
    "solution2": "hidden"
   },
   "outputs": [],
   "source": [
    "n_elves + n_dwarfs"
   ]
  },
  {
   "cell_type": "markdown",
   "metadata": {
    "slideshow": {
     "slide_type": "subslide"
    },
    "solution2": "hidden",
    "solution2_first": true
   },
   "source": [
    "##### Exercise 2.3\n",
    "\n",
    "Consider the following lines of code. \n",
    "\n",
    "`ring_bearer = 'Gollum'`  \n",
    "`ring_bearer`  \n",
    "`ring_bearer = 'Bilbo'`  \n",
    "`ring_bearer`  \n",
    "\n",
    "What is the final output?\n",
    "\n",
    "1. `'Bilbo'`\n",
    "2. `'Gollum'`\n",
    "3. neither, the variable got deleted"
   ]
  },
  {
   "cell_type": "code",
   "execution_count": null,
   "metadata": {
    "solution2": "hidden"
   },
   "outputs": [],
   "source": [
    "ring_bearer = 'Gollum'\n",
    "ring_bearer  \n",
    "ring_bearer = 'Bilbo'\n",
    "ring_bearer"
   ]
  },
  {
   "cell_type": "markdown",
   "metadata": {
    "slideshow": {
     "slide_type": "subslide"
    }
   },
   "source": [
    "### Fundamental types & data structures\n",
    "\n",
    "* Most code requires more _complex structures_ built out of _basic data `types`_\n",
    "* `data type` refers to the `value` that is `assigned` to a `variable` \n",
    "* `Python` provides built-in support for many common structures\n",
    "    * Many additional structures can be found in the [collections](https://docs.python.org/3/library/collections.html) module"
   ]
  },
  {
   "cell_type": "markdown",
   "metadata": {
    "slideshow": {
     "slide_type": "subslide"
    }
   },
   "source": [
    "Most of the time you'll encounter the following `data types`\n",
    "\n",
    "* `integers` (e.g. `1`, `42`, `180`)\n",
    "* `floating-point numbers` (e.g. `1.0`, `42.42`, `180.90`)\n",
    "* `strings` (e.g. `\"Rivendell\"`, `\"Weathertop\"`)\n",
    "* `Boolean` (`True`, `False`)\n",
    "\n",
    "If you're unsure about the `data type` of a given `variable`, you can always use the `type()` command."
   ]
  },
  {
   "cell_type": "markdown",
   "metadata": {
    "slideshow": {
     "slide_type": "subslide"
    }
   },
   "source": [
    "#### Integers\n",
    "\n",
    "Lets check out the different `data types` in more detail, starting with `integers`. `Intergers` are _natural numbers_ that can be _signed_ (e.g. `1`, `42`, `180`, `-1`, `-42`, `-180`)."
   ]
  },
  {
   "cell_type": "code",
   "execution_count": 24,
   "metadata": {
    "slideshow": {
     "slide_type": "fragment"
    }
   },
   "outputs": [
    {
     "data": {
      "text/plain": [
       "int"
      ]
     },
     "execution_count": 24,
     "metadata": {},
     "output_type": "execute_result"
    }
   ],
   "source": [
    "x = 1\n",
    "type(x)"
   ]
  },
  {
   "cell_type": "code",
   "execution_count": 25,
   "metadata": {
    "slideshow": {
     "slide_type": "fragment"
    }
   },
   "outputs": [
    {
     "data": {
      "text/plain": [
       "int"
      ]
     },
     "execution_count": 25,
     "metadata": {},
     "output_type": "execute_result"
    }
   ],
   "source": [
    "n_nazgul = 9\n",
    "type(n_nazgul)"
   ]
  },
  {
   "cell_type": "code",
   "execution_count": 26,
   "metadata": {
    "slideshow": {
     "slide_type": "fragment"
    }
   },
   "outputs": [
    {
     "data": {
      "text/plain": [
       "int"
      ]
     },
     "execution_count": 26,
     "metadata": {},
     "output_type": "execute_result"
    }
   ],
   "source": [
    "remaining_rings = -1\n",
    "type(remaining_rings)"
   ]
  },
  {
   "cell_type": "markdown",
   "metadata": {
    "slideshow": {
     "slide_type": "subslide"
    }
   },
   "source": [
    "#### Floating-point numbers\n",
    "\n",
    "So what's the difference to `floating-point numbers`? `Floating-point numbers` are _decimal-point number_ that can be _signed_ (e.g. `1.0`, `42.42`, `180.90`, `-1.0`, `-42.42`, `-180.90`)."
   ]
  },
  {
   "cell_type": "code",
   "execution_count": 27,
   "metadata": {
    "slideshow": {
     "slide_type": "fragment"
    }
   },
   "outputs": [
    {
     "data": {
      "text/plain": [
       "float"
      ]
     },
     "execution_count": 27,
     "metadata": {},
     "output_type": "execute_result"
    }
   ],
   "source": [
    "x_float = 1.0\n",
    "type(x_float)"
   ]
  },
  {
   "cell_type": "code",
   "execution_count": 28,
   "metadata": {
    "slideshow": {
     "slide_type": "fragment"
    }
   },
   "outputs": [
    {
     "data": {
      "text/plain": [
       "float"
      ]
     },
     "execution_count": 28,
     "metadata": {},
     "output_type": "execute_result"
    }
   ],
   "source": [
    "n_nazgul_float = 9.0\n",
    "type(n_nazgul_float)"
   ]
  },
  {
   "cell_type": "code",
   "execution_count": 29,
   "metadata": {
    "slideshow": {
     "slide_type": "fragment"
    }
   },
   "outputs": [
    {
     "data": {
      "text/plain": [
       "float"
      ]
     },
     "execution_count": 29,
     "metadata": {},
     "output_type": "execute_result"
    }
   ],
   "source": [
    "remaining_rings_float = -1.0\n",
    "type(remaining_rings_float)"
   ]
  },
  {
   "cell_type": "markdown",
   "metadata": {
    "slideshow": {
     "slide_type": "subslide"
    }
   },
   "source": [
    "#### Strings\n",
    "\n",
    "Next up: `strings`. `Strings` are basically `text elements`, from `letters` to `words` to `sentences` all can be/are `strings` in `python`. In order to define a `string`, `Python` needs **quotation marks**, more precisely `strings` start and end with quotation marks, e.g. `\"Rivendell\"`. You can choose between `\"` and `'` as both will work (NB: `python` will put `'` around `strings` even if you specified `\"`). However, it is recommended to decide on one and be consistent."
   ]
  },
  {
   "cell_type": "code",
   "execution_count": 30,
   "metadata": {
    "slideshow": {
     "slide_type": "fragment"
    }
   },
   "outputs": [
    {
     "data": {
      "text/plain": [
       "str"
      ]
     },
     "execution_count": 30,
     "metadata": {},
     "output_type": "execute_result"
    }
   ],
   "source": [
    "location = \"Weathertop\"\n",
    "type(location)"
   ]
  },
  {
   "cell_type": "code",
   "execution_count": 31,
   "metadata": {
    "slideshow": {
     "slide_type": "fragment"
    }
   },
   "outputs": [
    {
     "data": {
      "text/plain": [
       "str"
      ]
     },
     "execution_count": 31,
     "metadata": {},
     "output_type": "execute_result"
    }
   ],
   "source": [
    "abbreviation = 'LOTR'\n",
    "type(abbreviation)"
   ]
  },
  {
   "cell_type": "code",
   "execution_count": 32,
   "metadata": {
    "slideshow": {
     "slide_type": "fragment"
    }
   },
   "outputs": [
    {
     "data": {
      "text/plain": [
       "str"
      ]
     },
     "execution_count": 32,
     "metadata": {},
     "output_type": "execute_result"
    }
   ],
   "source": [
    "book_one = \"The fellowship of the ring\"\n",
    "type(book_one)"
   ]
  },
  {
   "cell_type": "markdown",
   "metadata": {
    "slideshow": {
     "slide_type": "subslide"
    }
   },
   "source": [
    "#### Booleans\n",
    "\n",
    "How about some `Boolean`s? At this point it gets a bit more \"abstract\". While there are many possible `numbers` and `strings`, a Boolean can only have one of two `values`: `True` or `False`. That is, a `Boolean` says something about whether something _is the case or not_. It's easier to understand with some examples. First try the `type()` function with a `Boolean` as an argument. "
   ]
  },
  {
   "cell_type": "code",
   "execution_count": 33,
   "metadata": {
    "slideshow": {
     "slide_type": "fragment"
    }
   },
   "outputs": [
    {
     "data": {
      "text/plain": [
       "bool"
      ]
     },
     "execution_count": 33,
     "metadata": {},
     "output_type": "execute_result"
    }
   ],
   "source": [
    "b1 = True\n",
    "type(b1)"
   ]
  },
  {
   "cell_type": "code",
   "execution_count": 34,
   "metadata": {
    "slideshow": {
     "slide_type": "fragment"
    }
   },
   "outputs": [
    {
     "data": {
      "text/plain": [
       "bool"
      ]
     },
     "execution_count": 34,
     "metadata": {},
     "output_type": "execute_result"
    }
   ],
   "source": [
    "b2 = False\n",
    "type(b2)"
   ]
  },
  {
   "cell_type": "code",
   "execution_count": 35,
   "metadata": {
    "slideshow": {
     "slide_type": "fragment"
    }
   },
   "outputs": [
    {
     "data": {
      "text/plain": [
       "bool"
      ]
     },
     "execution_count": 35,
     "metadata": {},
     "output_type": "execute_result"
    }
   ],
   "source": [
    "lotr_is_awesome = True\n",
    "type(lotr_is_awesome)"
   ]
  },
  {
   "cell_type": "markdown",
   "metadata": {
    "slideshow": {
     "slide_type": "subslide"
    }
   },
   "source": [
    "Interestingly, `True` and `False` also have `numeric values`! `True` has a value of `1` and `False` has a value of `0`. "
   ]
  },
  {
   "cell_type": "code",
   "execution_count": 36,
   "metadata": {
    "slideshow": {
     "slide_type": "fragment"
    }
   },
   "outputs": [
    {
     "data": {
      "text/plain": [
       "2"
      ]
     },
     "execution_count": 36,
     "metadata": {},
     "output_type": "execute_result"
    }
   ],
   "source": [
    "True + True"
   ]
  },
  {
   "cell_type": "code",
   "execution_count": 37,
   "metadata": {
    "slideshow": {
     "slide_type": "fragment"
    }
   },
   "outputs": [
    {
     "data": {
      "text/plain": [
       "0"
      ]
     },
     "execution_count": 37,
     "metadata": {},
     "output_type": "execute_result"
    }
   ],
   "source": [
    "False + False"
   ]
  },
  {
   "cell_type": "markdown",
   "metadata": {
    "slideshow": {
     "slide_type": "subslide"
    }
   },
   "source": [
    "#### Converting data types\n",
    "\n",
    "As mentioned before the `data type` is not set when `assigning` a `value` to a `variable` but determined based on its properties. Additionally, the `data type` of a given `value` can also be changed via set of functions.\n",
    "\n",
    "- `int()` -> convert the `value` of a `variable` to an `integer`\n",
    "- `float()` -> convert the `value` of a `variable` to a `floating-point number`\n",
    "- `str()` -> convert the `value` of a `variable` to a `string`\n",
    "- `bool()` -> convert the `value` of a `variable` to a `Boolean`  "
   ]
  },
  {
   "cell_type": "code",
   "execution_count": 38,
   "metadata": {
    "slideshow": {
     "slide_type": "fragment"
    }
   },
   "outputs": [
    {
     "data": {
      "text/plain": [
       "4"
      ]
     },
     "execution_count": 38,
     "metadata": {},
     "output_type": "execute_result"
    }
   ],
   "source": [
    "int(\"4\")"
   ]
  },
  {
   "cell_type": "code",
   "execution_count": 39,
   "metadata": {
    "slideshow": {
     "slide_type": "fragment"
    }
   },
   "outputs": [
    {
     "data": {
      "text/plain": [
       "3.0"
      ]
     },
     "execution_count": 39,
     "metadata": {},
     "output_type": "execute_result"
    }
   ],
   "source": [
    "float(3)"
   ]
  },
  {
   "cell_type": "code",
   "execution_count": 40,
   "metadata": {
    "slideshow": {
     "slide_type": "fragment"
    }
   },
   "outputs": [
    {
     "data": {
      "text/plain": [
       "'2'"
      ]
     },
     "execution_count": 40,
     "metadata": {},
     "output_type": "execute_result"
    }
   ],
   "source": [
    "str(2)"
   ]
  },
  {
   "cell_type": "code",
   "execution_count": 41,
   "metadata": {
    "slideshow": {
     "slide_type": "fragment"
    }
   },
   "outputs": [
    {
     "data": {
      "text/plain": [
       "True"
      ]
     },
     "execution_count": 41,
     "metadata": {},
     "output_type": "execute_result"
    }
   ],
   "source": [
    "bool(1)"
   ]
  },
  {
   "cell_type": "markdown",
   "metadata": {
    "slideshow": {
     "slide_type": "subslide"
    }
   },
   "source": [
    "##### Exercise 3.1\n",
    "\n",
    "Define the following `variables` with the respective `values` and `data types`: `fellowship_n_humans` with a `value` of two as a `float`, `fellowship_n_hobbits` with a `value` of four as a `string` and `fellowship_n_elves` with a value of one as an `integer`. "
   ]
  },
  {
   "cell_type": "code",
   "execution_count": 42,
   "metadata": {
    "solution2": "hidden",
    "solution2_first": true
   },
   "outputs": [],
   "source": [
    "# write your solution here"
   ]
  },
  {
   "cell_type": "code",
   "execution_count": 43,
   "metadata": {
    "solution2": "hidden"
   },
   "outputs": [],
   "source": [
    "fellowship_n_humans = 2.0\n",
    "fellowship_n_hobbits = 'four'\n",
    "fellowship_n_elves = 1"
   ]
  },
  {
   "cell_type": "markdown",
   "metadata": {
    "slideshow": {
     "slide_type": "subslide"
    },
    "solution2": "hidden",
    "solution2_first": true
   },
   "source": [
    "##### Exercise 3.2\n",
    "\n",
    "What outcome would you expect based on the following lines of code?\n",
    "\n",
    "1. `True - False`\n",
    "2. `type(True)`"
   ]
  },
  {
   "cell_type": "markdown",
   "metadata": {
    "solution2": "hidden"
   },
   "source": [
    "1. `1`\n",
    "2. `bool`"
   ]
  },
  {
   "cell_type": "markdown",
   "metadata": {
    "slideshow": {
     "slide_type": "subslide"
    },
    "solution2": "hidden",
    "solution2_first": true
   },
   "source": [
    "##### Exercise 3.3\n",
    "\n",
    "Define two `variables`, `fellowship_n_dwarfs` with a `value` of one as a `string` and `fellowship_n_wizards` with a `value` of one as a `float`. Subsequently, change the `data type` of `fellowship_n_dwarfs` to `integer` and the `data type` of `fellowship_n_wizard` to `string`.    "
   ]
  },
  {
   "cell_type": "code",
   "execution_count": null,
   "metadata": {
    "solution2": "hidden"
   },
   "outputs": [],
   "source": [
    "fellowship_n_dwarfs = 1.0\n",
    "fellowship_n_wizards = '1.0'"
   ]
  },
  {
   "cell_type": "code",
   "execution_count": null,
   "metadata": {
    "solution2": "hidden"
   },
   "outputs": [],
   "source": [
    "int(fellowship_n_dwarfs)"
   ]
  },
  {
   "cell_type": "code",
   "execution_count": null,
   "metadata": {
    "solution2": "hidden"
   },
   "outputs": [],
   "source": [
    "str(fellowship_n_wizards)"
   ]
  },
  {
   "cell_type": "markdown",
   "metadata": {
    "slideshow": {
     "slide_type": "slide"
    }
   },
   "source": [
    "### Why do programming/science in Python?\n",
    "\n",
    "Lets go through some advantages of the `python` programming language.  \n",
    "<br/><br/>\n",
    "\n",
    "<center><img src=\"https://media1.tenor.com/m/ZhC2OUGhEoIAAAAd/kevin-malone-the-office.gif\"></center>\n",
    "\n",
    "<center><sup><sup><sup><sup> https://media1.tenor.com/m/ZhC2OUGhEoIAAAAd/kevin-malone-the-office.gif </sup></sup></sup></sup></center>"
   ]
  },
  {
   "cell_type": "markdown",
   "metadata": {
    "slideshow": {
     "slide_type": "subslide"
    }
   },
   "source": [
    "### Easy to learn\n",
    "* Readable, explicit syntax\n",
    "* Most packages are very well documented\n",
    "    * e.g., `scikit-learn`'s [documentation](http://scikit-learn.org/stable/documentation.html) is widely held up as a model\n",
    "* A huge number of tutorials, guides, and other educational materials"
   ]
  },
  {
   "cell_type": "markdown",
   "metadata": {
    "slideshow": {
     "slide_type": "subslide"
    }
   },
   "source": [
    "### Comprehensive standard library\n",
    "* The [Python standard library](https://docs.python.org/2/library/) contains a huge number of high-quality modules\n",
    "* When in doubt, check the standard library first before you write your own tools!\n",
    "* For example:\n",
    "    * `os`: operating system tools\n",
    "    * `re`: regular expressions\n",
    "    * `collections`: useful data structures\n",
    "    * `multiprocessing`: simple parallelization tools\n",
    "    * `pickle`: serialization\n",
    "    * `json`: reading and writing JSON"
   ]
  },
  {
   "cell_type": "markdown",
   "metadata": {
    "slideshow": {
     "slide_type": "subslide"
    }
   },
   "source": [
    "### Exceptional external libraries\n",
    "\n",
    "* `Python` has very good (often best-in-class) external `packages` for almost everything\n",
    "* Particularly important for \"data science\", which draws on a very broad toolkit\n",
    "* Package management is easy (`conda`, `pip`)\n",
    "* Examples:\n",
    "    * Web development: flask, Django\n",
    "    * Database ORMs: SQLAlchemy, Django ORM (w/ adapters for all major DBs)\n",
    "    * Scraping/parsing text/markup: beautifulsoup, scrapy\n",
    "    * Natural language processing (NLP): nltk, gensim, textblob\n",
    "    * Numerical computation and data analysis: numpy, scipy, pandas, xarray, statsmodels, pingouin\n",
    "    * Machine learning: scikit-learn, Tensorflow, keras\n",
    "    * Image processing: pillow, scikit-image, OpenCV\n",
    "    * audio processing: librosa, pyaudio\n",
    "    * Plotting: matplotlib, seaborn, altair, ggplot, Bokeh\n",
    "    * GUI development: pyQT, wxPython\n",
    "    * Testing: py.test\n",
    "    * Etc. etc. etc."
   ]
  },
  {
   "cell_type": "markdown",
   "metadata": {
    "slideshow": {
     "slide_type": "subslide"
    }
   },
   "source": [
    "### (Relatively) good performance\n",
    "* `Python` is a high-level dynamic language — this comes at a performance cost\n",
    "* For many (not all!) use cases, performance is irrelevant most of the time\n",
    "* In general, the less `Python` code you write yourself, the better your performance will be\n",
    "    * Much of the standard library consists of `Python` interfaces to `C` functions\n",
    "    * `Numpy`, `scikit-learn`, etc. all rely heavily on `C/C++` or `Fortran`"
   ]
  },
  {
   "cell_type": "markdown",
   "metadata": {
    "slideshow": {
     "slide_type": "slide"
    }
   },
   "source": [
    "### Python vs. other data science languages\n",
    "\n",
    "* `Python` competes for mind share with many other languages\n",
    "* Most notably, `R`\n",
    "* To a lesser extent, `Matlab`, `Mathematica`, `SAS`, `Julia`, `Java`, `Scala`, etc."
   ]
  },
  {
   "cell_type": "markdown",
   "metadata": {
    "slideshow": {
     "slide_type": "subslide"
    }
   },
   "source": [
    "### R\n",
    "* [R](https://www.r-project.org/) is dominant in traditional statistics and some fields of science\n",
    "    * Has attracted many SAS, SPSS, and Stata users\n",
    "* Exceptional statistics support; hundreds of best-in-class libraries\n",
    "* Designed to make data analysis and visualization as easy as possible\n",
    "* Slow\n",
    "* Language quirks drive many experienced software developers crazy\n",
    "* Less support for most things non-data-related"
   ]
  },
  {
   "cell_type": "markdown",
   "metadata": {
    "slideshow": {
     "slide_type": "subslide"
    }
   },
   "source": [
    "### MATLAB\n",
    "* A proprietary numerical computing language widely used by engineers\n",
    "* Good performance and very active development, but expensive\n",
    "* Closed ecosystem, relatively few third-party libraries\n",
    "    * There is an open-source port (Octave)\n",
    "* Not suitable for use as a general-purpose language"
   ]
  },
  {
   "cell_type": "markdown",
   "metadata": {
    "slideshow": {
     "slide_type": "subslide"
    }
   },
   "source": [
    "### So, why Python?\n",
    "Why choose Python over other languages?\n",
    "* Arguably none of these offers the same combination of readability, flexibility, libraries, and performance\n",
    "* Python is sometimes described as \"the second best language for everything\"\n",
    "* Doesn't mean you should always use Python\n",
    "    * Depends on your needs, community, etc.\n",
    "    \n",
    "<center><img src=\"https://raw.githubusercontent.com/PeerHerholz/Python_for_Psychologists_Winter2021/master/lecture/static/general_purpose_meme.png\"></center>    "
   ]
  },
  {
   "cell_type": "markdown",
   "metadata": {
    "slideshow": {
     "slide_type": "subslide"
    }
   },
   "source": [
    "### You can have your cake _and_ eat it!\n",
    "* Many languages—particularly R—now interface seamlessly with Python\n",
    "* You can work primarily in Python, fall back on R when you need it (or vice versa)\n",
    "* The best of all possible worlds?"
   ]
  },
  {
   "cell_type": "markdown",
   "metadata": {
    "slideshow": {
     "slide_type": "slide"
    }
   },
   "source": [
    "### The core Python \"data science\" stack\n",
    "* The Python ecosystem contains tens of thousands of packages\n",
    "* Several are very widely used in data science applications:\n",
    "    * [Jupyter](http://jupyter.org): interactive notebooks\n",
    "    * [Numpy](http://numpy.org): numerical computing in Python\n",
    "    * [pandas](http://pandas.pydata.org/): data structures for Python\n",
    "    * [Scipy](http://scipy.org): scientific Python tools\n",
    "    * [Matplotlib](http://matplotlib.org): plotting in Python\n",
    "    * [scikit-learn](http://scikit-learn.org): machine learning in Python\n",
    "* We'll cover the first three very briefly here\n",
    "    * Other tutorials will go into greater detail on most of the others"
   ]
  },
  {
   "cell_type": "markdown",
   "metadata": {
    "slideshow": {
     "slide_type": "subslide"
    }
   },
   "source": [
    "### The core \"Python for psychology/neuroscience\" stack\n",
    "* The `Python ecosystem` contains tens of thousands of `packages`\n",
    "* Several are very widely used in psychology research:\n",
    "    * [Jupyter](http://jupyter.org): interactive notebooks\n",
    "    * [Numpy](http://numpy.org): numerical computing in `Python`\n",
    "    * [pandas](http://pandas.pydata.org/): data structures for `Python`\n",
    "    * [Scipy](http://scipy.org): scientific `Python` tools\n",
    "    * [Matplotlib](http://matplotlib.org): plotting in `Python`\n",
    "    * [seaborn](https://seaborn.pydata.org/index.html): plotting in `Python`\n",
    "    * [scikit-learn](http://scikit-learn.org): machine learning in `Python`\n",
    "    * [statsmodels](https://www.statsmodels.org/stable/index.html): statistical analyses in `Python`\n",
    "    * [pingouin](https://pingouin-stats.org/): statistical analyses in `Python`\n",
    "    * [psychopy](https://www.psychopy.org/): running experiments in `Python`\n",
    "    * [nilearn](https://nilearn.github.io/stable/index.html): brain imaging analyses in `Python``\n",
    "    * [mne](https://mne.tools/stable/index.html): electrophysiology analyses in `Python` \n",
    "* Execept `scikit-learn`, `nilearn` and `mne`, we'll cover all very briefly in this course\n",
    "    * there are many free tutorials online that will go into greater detail and also cover the other `packages`"
   ]
  },
  {
   "cell_type": "markdown",
   "metadata": {},
   "source": [
    "# Introduction to Python II\n",
    "\n",
    "Here's what we will focus on in the second block.\n",
    "\n",
    "- [Operators and comparisons](#Operators-and-comparisons)\n",
    "    - [Shortcut math operation and assignment](#Shortcut-math-operation-and-assignment)\n",
    "- [Strings, List and dictionaries](#Strings,-List-and-dictionaries)\n",
    "    - [Strings](#Strings)\n",
    "    - [List](#List)\n",
    "    - [Tuples](#Tuples)\n",
    "    - [Dictionaries](#Dictionaries)"
   ]
  },
  {
   "cell_type": "markdown",
   "metadata": {
    "slideshow": {
     "slide_type": "slide"
    }
   },
   "source": [
    "## Objectives 📍\n",
    "\n",
    "* learn basic and efficient usage of the python programming language\n",
    "    * building blocks of & operations in python \n",
    "    * `operators` & `comparisons`\n",
    "    * `strings`, `lists`, `tuples` & `dictionaries` "
   ]
  },
  {
   "cell_type": "markdown",
   "metadata": {
    "slideshow": {
     "slide_type": "slide"
    }
   },
   "source": [
    "## Recap of the prior section\n",
    "\n",
    "Before we dive into new endeavors, it might be important to briefly recap the things we've talked about so far. Specifically, we will do this to evaluate if everyone's roughly on the same page. Thus, if some of the aspects within the recap are either new or fuzzy to you, please have a quick look at the respective part of the last section again and as usual: ask questions wherever something is not clear."
   ]
  },
  {
   "cell_type": "markdown",
   "metadata": {
    "slideshow": {
     "slide_type": "subslide"
    }
   },
   "source": [
    "### What is Python?\n",
    "\n",
    "* Python is a programming language\n",
    "* Specifically, it's a **widely used/very flexible**, **high-level**, **general-purpose**, **dynamic** programming language\n",
    "* That's a mouthful! Let's explore each of these points in more detail..."
   ]
  },
  {
   "cell_type": "markdown",
   "metadata": {
    "slideshow": {
     "slide_type": "subslide"
    }
   },
   "source": [
    "### Module\n",
    "\n",
    "Most of the functionality in Python is provided by *modules*. To use a module in a Python program it first has to be imported. A module can be imported using the `import` statement. \n",
    "\n",
    "\n",
    "<center><img src=\"https://raw.githubusercontent.com/PeerHerholz/Python_for_Psychologists_Winter2021/master/lecture/static/python_import.png\"></center>"
   ]
  },
  {
   "cell_type": "markdown",
   "metadata": {
    "slideshow": {
     "slide_type": "subslide"
    }
   },
   "source": [
    "Assuming you want to import the entire `pandas` module to do some `data exploration`, `wrangling` and `statistics`, how would you do that?"
   ]
  },
  {
   "cell_type": "code",
   "execution_count": null,
   "metadata": {
    "solution2": "hidden",
    "solution2_first": true
   },
   "outputs": [],
   "source": [
    "# Pleae write your solution in this cell"
   ]
  },
  {
   "cell_type": "code",
   "execution_count": null,
   "metadata": {
    "solution2": "hidden"
   },
   "outputs": [],
   "source": [
    "import pandas"
   ]
  },
  {
   "cell_type": "markdown",
   "metadata": {},
   "source": [
    "As this might be a bit hard to navigate, specifically for `finding`/`referencing` `functions`. Thus, it might be a good idea to provide a respective `access name`. For example, could you show how you would provide the `pandas` module the `access name` `pd`?"
   ]
  },
  {
   "cell_type": "code",
   "execution_count": null,
   "metadata": {
    "solution2": "hidden",
    "solution2_first": true
   },
   "outputs": [],
   "source": [
    "# Please write your solution in this cell"
   ]
  },
  {
   "cell_type": "code",
   "execution_count": null,
   "metadata": {
    "solution2": "hidden"
   },
   "outputs": [],
   "source": [
    "import pandas as pd"
   ]
  },
  {
   "cell_type": "markdown",
   "metadata": {},
   "source": [
    "During your analyzes you recognize that some of the analyses you want to run require functions from the `statistics` `module` `pingouin`. Is there a way to only import the `functions` you want from this `module`, e.g. the `wilcoxon` test?"
   ]
  },
  {
   "cell_type": "code",
   "execution_count": null,
   "metadata": {
    "solution2": "hidden",
    "solution2_first": true
   },
   "outputs": [],
   "source": [
    "# Please write your solution in this cell"
   ]
  },
  {
   "cell_type": "code",
   "execution_count": null,
   "metadata": {
    "solution2": "hidden"
   },
   "outputs": [],
   "source": [
    "from pingouin import wolcoxon"
   ]
  },
  {
   "cell_type": "markdown",
   "metadata": {
    "slideshow": {
     "slide_type": "subslide"
    }
   },
   "source": [
    "### Variables and data types\n",
    "* in programming `variables` are things that store `values`\n",
    "* in `Python`, we declare a `variable` by **assigning** it a `value` with the `=` sign\n",
    "    * `name = value`\n",
    "    * code `variables` **!=** math variables\n",
    "        * in mathematics `=` refers to equality (statement of truth), e.g. `y = 10x + 2`\n",
    "        * in coding `=` refers to assignments, e.g. `x = x + 1`\n",
    "    * Variables are pointers, not data stores!\n",
    "    \n",
    "<center><img src=\"https://raw.githubusercontent.com/PeerHerholz/Python_for_Psychologists_Winter2021/master/lecture/static/python_data_types.png\"></center>"
   ]
  },
  {
   "cell_type": "markdown",
   "metadata": {
    "slideshow": {
     "slide_type": "subslide"
    }
   },
   "source": [
    "* `Python` supports a variety of `data types` and `structures`:\n",
    "    * `booleans`\n",
    "    * `numbers` (`ints`, `floats`, etc.)\n",
    "    * `strings`\n",
    "    * `lists`\n",
    "    * `dictionaries`\n",
    "    * many others!\n",
    "* We don't specify a variable's type at assignment"
   ]
  },
  {
   "cell_type": "markdown",
   "metadata": {
    "slideshow": {
     "slide_type": "subslide"
    }
   },
   "source": [
    "### Assignment\n",
    "\n",
    "(Not an homework assignment but the operator in `python`.)\n",
    "\n",
    "The assignment operator in `Python` is `=`. `Python` is a `dynamically typed language`, so we do not need to specify the type of a `variable` when we create one.\n",
    "\n",
    "`Assigning` a `value` to a new `variable` _creates_ the `variable`:"
   ]
  },
  {
   "cell_type": "markdown",
   "metadata": {
    "slideshow": {
     "slide_type": "subslide"
    }
   },
   "source": [
    "Within your analyzes you need to create a `variable` called `n_students` and assign it the `value` `21`, how would that work?"
   ]
  },
  {
   "cell_type": "code",
   "execution_count": null,
   "metadata": {
    "solution2": "hidden",
    "solution2_first": true
   },
   "outputs": [],
   "source": [
    "# Please write your solution in this cell"
   ]
  },
  {
   "cell_type": "code",
   "execution_count": null,
   "metadata": {
    "solution2": "hidden"
   },
   "outputs": [],
   "source": [
    "n_students = 21"
   ]
  },
  {
   "cell_type": "markdown",
   "metadata": {
    "slideshow": {
     "slide_type": "subslide"
    }
   },
   "source": [
    "Quickly after you realize that the value should actually be `20`. What options do you have to change the `value` of this `variable`?"
   ]
  },
  {
   "cell_type": "code",
   "execution_count": null,
   "metadata": {
    "solution2": "hidden",
    "solution2_first": true
   },
   "outputs": [],
   "source": [
    "# Please write your solution in this cell"
   ]
  },
  {
   "cell_type": "code",
   "execution_count": null,
   "metadata": {
    "solution2": "hidden"
   },
   "outputs": [],
   "source": [
    "n_students = 20\n",
    "n_students = n_students - 1"
   ]
  },
  {
   "cell_type": "markdown",
   "metadata": {
    "slideshow": {
     "slide_type": "subslide"
    }
   },
   "source": [
    "During the analyzes you noticed that the `data type` of `n_students` changed. How can you find out the `data type`? "
   ]
  },
  {
   "cell_type": "code",
   "execution_count": null,
   "metadata": {
    "solution2": "hidden",
    "solution2_first": true
   },
   "outputs": [],
   "source": [
    "# Please write your solution in this cell"
   ]
  },
  {
   "cell_type": "code",
   "execution_count": null,
   "metadata": {
    "solution2": "hidden"
   },
   "outputs": [],
   "source": [
    "type(n_students)"
   ]
  },
  {
   "cell_type": "markdown",
   "metadata": {
    "slideshow": {
     "slide_type": "subslide"
    }
   },
   "source": [
    "Is there a way to change the `data type` of `n_students` to something else, e.g. `float`?"
   ]
  },
  {
   "cell_type": "code",
   "execution_count": null,
   "metadata": {
    "solution2": "hidden",
    "solution2_first": true
   },
   "outputs": [],
   "source": [
    "# Please write your solution in this cell"
   ]
  },
  {
   "cell_type": "code",
   "execution_count": null,
   "metadata": {
    "solution2": "hidden"
   },
   "outputs": [],
   "source": [
    "float(n_students)"
   ]
  },
  {
   "cell_type": "markdown",
   "metadata": {
    "slideshow": {
     "slide_type": "subslide"
    }
   },
   "source": [
    "Along the way you want to create another `variable`, this time called `acquisition_time` and the `value` `December`. How would we do that and what `data type` would that be? "
   ]
  },
  {
   "cell_type": "code",
   "execution_count": null,
   "metadata": {
    "solution2": "hidden"
   },
   "outputs": [],
   "source": [
    "import pandas as pd"
   ]
  },
  {
   "cell_type": "code",
   "execution_count": null,
   "metadata": {
    "solution2": "hidden",
    "solution2_first": true
   },
   "outputs": [],
   "source": [
    "# Please write your solution here"
   ]
  },
  {
   "cell_type": "code",
   "execution_count": null,
   "metadata": {
    "solution2": "hidden"
   },
   "outputs": [],
   "source": [
    "acquisition_time = \"December\"\n",
    "type(acquisition_time)"
   ]
  },
  {
   "cell_type": "markdown",
   "metadata": {
    "slideshow": {
     "slide_type": "subslide"
    }
   },
   "source": [
    "As a final step you want to create two `variables` that indicate that the outcome of a statistical test is either `significant` or not. How would you do that for the following example: for `outcome_anova` it's _true_ that the result was `significant` and for `outcome_ancova` it's _false_ that the result was `significant`?   "
   ]
  },
  {
   "cell_type": "code",
   "execution_count": null,
   "metadata": {
    "solution2": "hidden",
    "solution2_first": true
   },
   "outputs": [],
   "source": [
    "# Please write your solution in this cell "
   ]
  },
  {
   "cell_type": "code",
   "execution_count": null,
   "metadata": {
    "solution2": "hidden"
   },
   "outputs": [],
   "source": [
    "outcome_anova = True\n",
    "outcome_ancova = False"
   ]
  },
  {
   "cell_type": "markdown",
   "metadata": {
    "slideshow": {
     "slide_type": "subslide"
    }
   },
   "source": [
    "Alright, thanks for taking the time to go through this `recap`. Again: if you could solve/answer all questions, you should have the information/knowledge needed for this session. "
   ]
  },
  {
   "cell_type": "markdown",
   "metadata": {
    "slideshow": {
     "slide_type": "slide"
    }
   },
   "source": [
    "Here's what we will focus on in the first block:\n",
    "\n",
    "- [Operators and comparisons](#Operators-and-comparisons)\n",
    "    - [Shortcut math operation and assignment](#Shortcut-math-operation-and-assignment)\n",
    "- [Strings, List and dictionaries](#Strings,-List-and-dictionaries)\n",
    "    - [Strings](#Strings)\n",
    "    - [List](#List)\n",
    "    - [Tuples](#Tuples)\n",
    "    - [Dictionaries](#Dictionaries)"
   ]
  },
  {
   "cell_type": "markdown",
   "metadata": {
    "slideshow": {
     "slide_type": "subslide"
    }
   },
   "source": [
    "## Operators and comparisons\n",
    "\n",
    "One of the most basic utilizations of `python` might be simple `arithmetic operations` and `comparisons`. `operators` and `comparisons` in `python` work as one would expect:\n",
    "\n",
    "* `Arithmetic operators` available in `python`: `+`, `-`, `*`, `/`, `**` power, `%` modulo\n",
    "* `comparisons` available in `python`: `<`, `>`, `>=` (greater or equal), `<=` (less or equal), `==` (equal), `!=` (not equal) and `is` (identical)\n",
    "\n",
    "Obviously, these `operators` and `comparisons` can be used within tremendously complex analyzes and actually build their basis."
   ]
  },
  {
   "cell_type": "markdown",
   "metadata": {
    "slideshow": {
     "slide_type": "subslide"
    }
   },
   "source": [
    "Lets check them out further via a few quick examples, starting with `operators`:"
   ]
  },
  {
   "cell_type": "code",
   "execution_count": 44,
   "metadata": {
    "slideshow": {
     "slide_type": "fragment"
    }
   },
   "outputs": [
    {
     "data": {
      "text/plain": [
       "[3, -1, 2, 0.5, 1, 1]"
      ]
     },
     "execution_count": 44,
     "metadata": {},
     "output_type": "execute_result"
    }
   ],
   "source": [
    "[1 + 2, \n",
    " 1 - 2,\n",
    " 1 * 2,\n",
    " 1 / 2,\n",
    " 1 ** 2,\n",
    " 1 % 2]"
   ]
  },
  {
   "cell_type": "markdown",
   "metadata": {
    "slideshow": {
     "slide_type": "subslide"
    }
   },
   "source": [
    "In `Python 2.7`, what kind of `division` (`/`) will be executed, _depends_ on the type of the numbers involved. If all numbers are `integers`, the `division` will be an `integer division`, otherwise, it will be a `float division`. In `Python 3` this has been changed and fractions aren't lost when `dividing` `integers` (for `integer` `division` you can use another operator, `//`). In `Python 3` the following two `operations` will give the same result (in `Python 2` the first one will be treated as an `integer division`). It's thus important to remember that the `data type` of  `division outcomes` will always be `float`. "
   ]
  },
  {
   "cell_type": "code",
   "execution_count": 45,
   "metadata": {
    "slideshow": {
     "slide_type": "fragment"
    }
   },
   "outputs": [
    {
     "name": "stdout",
     "output_type": "stream",
     "text": [
      "0.5\n",
      "0.5\n"
     ]
    }
   ],
   "source": [
    "print(1 / 2)\n",
    "print(1 / 2.0)"
   ]
  },
  {
   "cell_type": "markdown",
   "metadata": {
    "slideshow": {
     "slide_type": "subslide"
    }
   },
   "source": [
    "`Python` also respects `arithemic rules`, like the sequence of `+`/`-` and `*`/`/`.  "
   ]
  },
  {
   "cell_type": "code",
   "execution_count": 46,
   "metadata": {
    "slideshow": {
     "slide_type": "fragment"
    }
   },
   "outputs": [
    {
     "data": {
      "text/plain": [
       "1.5"
      ]
     },
     "execution_count": 46,
     "metadata": {},
     "output_type": "execute_result"
    }
   ],
   "source": [
    "1 + 2/4"
   ]
  },
  {
   "cell_type": "code",
   "execution_count": 47,
   "metadata": {
    "slideshow": {
     "slide_type": "fragment"
    }
   },
   "outputs": [
    {
     "data": {
      "text/plain": [
       "3.75"
      ]
     },
     "execution_count": 47,
     "metadata": {},
     "output_type": "execute_result"
    }
   ],
   "source": [
    "1 + 2 + 3/4"
   ]
  },
  {
   "cell_type": "markdown",
   "metadata": {
    "slideshow": {
     "slide_type": "subslide"
    }
   },
   "source": [
    "The same holds true for `()` and `operators`:"
   ]
  },
  {
   "cell_type": "code",
   "execution_count": 48,
   "metadata": {
    "slideshow": {
     "slide_type": "fragment"
    }
   },
   "outputs": [
    {
     "data": {
      "text/plain": [
       "0.75"
      ]
     },
     "execution_count": 48,
     "metadata": {},
     "output_type": "execute_result"
    }
   ],
   "source": [
    "(1 + 2)/4"
   ]
  },
  {
   "cell_type": "code",
   "execution_count": 49,
   "metadata": {
    "slideshow": {
     "slide_type": "fragment"
    }
   },
   "outputs": [
    {
     "data": {
      "text/plain": [
       "1.5"
      ]
     },
     "execution_count": 49,
     "metadata": {},
     "output_type": "execute_result"
    }
   ],
   "source": [
    "(1 + 2 + 3)/4"
   ]
  },
  {
   "cell_type": "markdown",
   "metadata": {
    "slideshow": {
     "slide_type": "subslide"
    }
   },
   "source": [
    "Thus, always watch out for how you define `arithmetic operations`!"
   ]
  },
  {
   "cell_type": "markdown",
   "metadata": {
    "slideshow": {
     "slide_type": "fragment"
    }
   },
   "source": [
    "Just as a reminder: the `power operator` in `python` is `**` and not `^`:"
   ]
  },
  {
   "cell_type": "code",
   "execution_count": 50,
   "metadata": {
    "slideshow": {
     "slide_type": "fragment"
    }
   },
   "outputs": [
    {
     "data": {
      "text/plain": [
       "4"
      ]
     },
     "execution_count": 50,
     "metadata": {},
     "output_type": "execute_result"
    }
   ],
   "source": [
    "2 ** 2"
   ]
  },
  {
   "cell_type": "markdown",
   "metadata": {
    "slideshow": {
     "slide_type": "subslide"
    }
   },
   "source": [
    "This `arithmetic operations` also show some \"handy\" properties in combination with `assignments`, specifically you can apply these `operations` and modify the `value` of a given `variable` \"in-place\". This means that you don't have to `assign` a given `variable` a new `value` via an additional line like so:"
   ]
  },
  {
   "cell_type": "code",
   "execution_count": 51,
   "metadata": {
    "slideshow": {
     "slide_type": "fragment"
    }
   },
   "outputs": [
    {
     "name": "stdout",
     "output_type": "stream",
     "text": [
      "4\n"
     ]
    }
   ],
   "source": [
    "a = 2\n",
    "a = a * 2\n",
    "print(a)"
   ]
  },
  {
   "cell_type": "markdown",
   "metadata": {
    "slideshow": {
     "slide_type": "subslide"
    }
   },
   "source": [
    "but you can `shortcut` the command `a = a * 2` to `a *= 2`. This also works with other `operators`: `+=`, `-=` and `/=`."
   ]
  },
  {
   "cell_type": "code",
   "execution_count": 52,
   "metadata": {
    "slideshow": {
     "slide_type": "fragment"
    }
   },
   "outputs": [
    {
     "name": "stdout",
     "output_type": "stream",
     "text": [
      "9\n"
     ]
    }
   ],
   "source": [
    "b = 3\n",
    "b *= 3\n",
    "print(b)"
   ]
  },
  {
   "cell_type": "markdown",
   "metadata": {
    "slideshow": {
     "slide_type": "subslide"
    }
   },
   "source": [
    "Interestingly, we meet `booleans` again. This time in the form of `operators`. So `booleans` can not only be referred to as a `data type` but also `operators`. Whereas the `data type` entails the `values` `True` and `False`, the `operators` are spelled out as the words `and`, `not`, `or`. They therefore allow us to evaluate if \n",
    "\n",
    "- something **`and`** something else is the case \n",
    "- something is **`not`** the case\n",
    "- something **`or`** something else is the case"
   ]
  },
  {
   "cell_type": "markdown",
   "metadata": {
    "slideshow": {
     "slide_type": "subslide"
    }
   },
   "source": [
    "How about we check this on an example, i.e. the `significance` of our test results from the `recap`: "
   ]
  },
  {
   "cell_type": "code",
   "execution_count": 53,
   "metadata": {
    "slideshow": {
     "slide_type": "fragment"
    }
   },
   "outputs": [],
   "source": [
    "outcome_anova = True"
   ]
  },
  {
   "cell_type": "code",
   "execution_count": 54,
   "metadata": {},
   "outputs": [],
   "source": [
    "outcome_ancova = False"
   ]
  },
  {
   "cell_type": "code",
   "execution_count": 55,
   "metadata": {
    "slideshow": {
     "slide_type": "fragment"
    }
   },
   "outputs": [
    {
     "data": {
      "text/plain": [
       "False"
      ]
     },
     "execution_count": 55,
     "metadata": {},
     "output_type": "execute_result"
    }
   ],
   "source": [
    "outcome_anova and outcome_ancova"
   ]
  },
  {
   "cell_type": "code",
   "execution_count": 56,
   "metadata": {
    "slideshow": {
     "slide_type": "fragment"
    }
   },
   "outputs": [
    {
     "data": {
      "text/plain": [
       "True"
      ]
     },
     "execution_count": 56,
     "metadata": {},
     "output_type": "execute_result"
    }
   ],
   "source": [
    "not outcome_ancova"
   ]
  },
  {
   "cell_type": "code",
   "execution_count": 57,
   "metadata": {
    "slideshow": {
     "slide_type": "fragment"
    }
   },
   "outputs": [
    {
     "data": {
      "text/plain": [
       "True"
      ]
     },
     "execution_count": 57,
     "metadata": {},
     "output_type": "execute_result"
    }
   ],
   "source": [
    "outcome_anova or outcome_ancova"
   ]
  },
  {
   "cell_type": "markdown",
   "metadata": {
    "slideshow": {
     "slide_type": "subslide"
    }
   },
   "source": [
    "While the \"classic\" `operators` appear to be rather simple and the \"boolean\" `operators` rather abstract, a sufficient understanding of both is very important to efficiently utilize the `python` programming language. However, don't worry: we'll use them throughout the entire course going forward to gain further experience. "
   ]
  },
  {
   "cell_type": "markdown",
   "metadata": {
    "slideshow": {
     "slide_type": "subslide"
    }
   },
   "source": [
    "After spending a look at `operators`, it's time to check out `comparisons` in more detail. Again, most of them might seem familiar and work as you would expect. Here's the list again:\n",
    "\n",
    "* `Comparisons` in `python` `>`, `<`, `>=` (greater or equal), `<=` (less or equal), `==` (equal), `!=` (not equal) and `is` (identical)\n",
    "\n",
    "The first four are the \"classics\" and something you might remember from your `math classes` in high school. Nevertheless, it's worth to check how they exactly work in `python`. "
   ]
  },
  {
   "cell_type": "markdown",
   "metadata": {
    "slideshow": {
     "slide_type": "subslide"
    }
   },
   "source": [
    "If we compare `numerical values`, we obtain `booleans` that indicate if the `comparisons` is `True` or `False`. Lets start with the \"classics\". "
   ]
  },
  {
   "cell_type": "code",
   "execution_count": 58,
   "metadata": {
    "slideshow": {
     "slide_type": "fragment"
    }
   },
   "outputs": [
    {
     "data": {
      "text/plain": [
       "(True, False)"
      ]
     },
     "execution_count": 58,
     "metadata": {},
     "output_type": "execute_result"
    }
   ],
   "source": [
    "2 > 1, 2 < 1"
   ]
  },
  {
   "cell_type": "code",
   "execution_count": 59,
   "metadata": {
    "slideshow": {
     "slide_type": "fragment"
    }
   },
   "outputs": [
    {
     "data": {
      "text/plain": [
       "(False, False)"
      ]
     },
     "execution_count": 59,
     "metadata": {},
     "output_type": "execute_result"
    }
   ],
   "source": [
    "2 > 2, 2 < 2"
   ]
  },
  {
   "cell_type": "code",
   "execution_count": 60,
   "metadata": {
    "slideshow": {
     "slide_type": "fragment"
    }
   },
   "outputs": [
    {
     "data": {
      "text/plain": [
       "(True, True)"
      ]
     },
     "execution_count": 60,
     "metadata": {},
     "output_type": "execute_result"
    }
   ],
   "source": [
    "2 >= 2, 2 <= 2"
   ]
  },
  {
   "cell_type": "markdown",
   "metadata": {
    "slideshow": {
     "slide_type": "subslide"
    }
   },
   "source": [
    "So far so good and no major surprises. Now lets have a look at those `comparisons` that might be less familiar. At first, `==`. You might think: \"What, a double `assignment`?\" but actually `==` is the `equal` `comparison` and thus `compares` two `variables`, `numbers`, etc., evaluating if they are `equal` to each other.    "
   ]
  },
  {
   "cell_type": "code",
   "execution_count": 61,
   "metadata": {
    "slideshow": {
     "slide_type": "fragment"
    }
   },
   "outputs": [
    {
     "data": {
      "text/plain": [
       "True"
      ]
     },
     "execution_count": 61,
     "metadata": {},
     "output_type": "execute_result"
    }
   ],
   "source": [
    "1 == 1"
   ]
  },
  {
   "cell_type": "code",
   "execution_count": 62,
   "metadata": {
    "slideshow": {
     "slide_type": "fragment"
    }
   },
   "outputs": [
    {
     "data": {
      "text/plain": [
       "False"
      ]
     },
     "execution_count": 62,
     "metadata": {},
     "output_type": "execute_result"
    }
   ],
   "source": [
    "outcome_anova == outcome_ancova"
   ]
  },
  {
   "cell_type": "code",
   "execution_count": 63,
   "metadata": {
    "slideshow": {
     "slide_type": "fragment"
    }
   },
   "outputs": [
    {
     "data": {
      "text/plain": [
       "False"
      ]
     },
     "execution_count": 63,
     "metadata": {},
     "output_type": "execute_result"
    }
   ],
   "source": [
    "'This course' == \"cool\""
   ]
  },
  {
   "cell_type": "code",
   "execution_count": 64,
   "metadata": {
    "slideshow": {
     "slide_type": "fragment"
    }
   },
   "outputs": [
    {
     "data": {
      "text/plain": [
       "False"
      ]
     },
     "execution_count": 64,
     "metadata": {},
     "output_type": "execute_result"
    }
   ],
   "source": [
    "1 == 1 == 2"
   ]
  },
  {
   "cell_type": "markdown",
   "metadata": {
    "slideshow": {
     "slide_type": "subslide"
    }
   },
   "source": [
    "One interesting thing to mention here is that `equal` `values` of different `data types`, i.e. `integers` and `floats`, are still evaluated as equal by `==`:"
   ]
  },
  {
   "cell_type": "code",
   "execution_count": 65,
   "metadata": {
    "slideshow": {
     "slide_type": "fragment"
    }
   },
   "outputs": [
    {
     "data": {
      "text/plain": [
       "True"
      ]
     },
     "execution_count": 65,
     "metadata": {},
     "output_type": "execute_result"
    }
   ],
   "source": [
    "1 == 1.0"
   ]
  },
  {
   "cell_type": "markdown",
   "metadata": {
    "slideshow": {
     "slide_type": "subslide"
    }
   },
   "source": [
    "Contrarily to evaluating if two or more things are `equal` via `==`, we can utilize `!=` to evaluate if two are more things are `not equal`. The behavior of these `comparison` concerning the `outcome` is however identical: we get `booleans`. "
   ]
  },
  {
   "cell_type": "code",
   "execution_count": 66,
   "metadata": {
    "slideshow": {
     "slide_type": "fragment"
    }
   },
   "outputs": [
    {
     "data": {
      "text/plain": [
       "True"
      ]
     },
     "execution_count": 66,
     "metadata": {},
     "output_type": "execute_result"
    }
   ],
   "source": [
    "2 != 3"
   ]
  },
  {
   "cell_type": "code",
   "execution_count": 67,
   "metadata": {
    "slideshow": {
     "slide_type": "fragment"
    }
   },
   "outputs": [
    {
     "data": {
      "text/plain": [
       "True"
      ]
     },
     "execution_count": 67,
     "metadata": {},
     "output_type": "execute_result"
    }
   ],
   "source": [
    "outcome_anova = True \n",
    "outcome_ancova = False\n",
    "outcome_anova != outcome_ancova "
   ]
  },
  {
   "cell_type": "code",
   "execution_count": 68,
   "metadata": {
    "slideshow": {
     "slide_type": "fragment"
    }
   },
   "outputs": [
    {
     "data": {
      "text/plain": [
       "False"
      ]
     },
     "execution_count": 68,
     "metadata": {},
     "output_type": "execute_result"
    }
   ],
   "source": [
    "1 != 1 != 2"
   ]
  },
  {
   "cell_type": "markdown",
   "metadata": {
    "slideshow": {
     "slide_type": "subslide"
    }
   },
   "source": [
    "There's actually one very specific `comparison` that only works for one `data type`: `string comparison`. The `string comparison` is reflected by the word `in` and evaluates if a `string` **`is`** part of another `string`. For example, you can evaluate if a `word` or certain `string pattern` **`is`** part of another `string`. Two fantastic beings are going to help showcasing this! "
   ]
  },
  {
   "cell_type": "markdown",
   "metadata": {
    "slideshow": {
     "slide_type": "subslide"
    }
   },
   "source": [
    "Please welcome, the [Wombat](http://en.wikipedia.org/wiki/Wombat) & the [Capybara](http://en.wikipedia.org/wiki/Capybara).\n",
    "<center><img src=\"https://raw.githubusercontent.com/PeerHerholz/Python_for_Psychologists_Winter2021/master/lecture/static/wombat_capybara.png\" width=500></center>"
   ]
  },
  {
   "cell_type": "code",
   "execution_count": 69,
   "metadata": {
    "slideshow": {
     "slide_type": "fragment"
    }
   },
   "outputs": [
    {
     "data": {
      "text/plain": [
       "True"
      ]
     },
     "execution_count": 69,
     "metadata": {},
     "output_type": "execute_result"
    }
   ],
   "source": [
    "\"cool\" in \"Wombats are cool\""
   ]
  },
  {
   "cell_type": "code",
   "execution_count": 70,
   "metadata": {
    "slideshow": {
     "slide_type": "fragment"
    }
   },
   "outputs": [
    {
     "data": {
      "text/plain": [
       "True"
      ]
     },
     "execution_count": 70,
     "metadata": {},
     "output_type": "execute_result"
    }
   ],
   "source": [
    "\"ras ar\" in \"Wombats and capybaras are cool\""
   ]
  },
  {
   "cell_type": "markdown",
   "metadata": {
    "slideshow": {
     "slide_type": "subslide"
    }
   },
   "source": [
    "The `string comparison` can also be combined with the `boolean` operator to evaluate if a `string` or `string pattern` **`is not`** part of another `string`."
   ]
  },
  {
   "cell_type": "code",
   "execution_count": 71,
   "metadata": {
    "slideshow": {
     "slide_type": "fragment"
    }
   },
   "outputs": [
    {
     "data": {
      "text/plain": [
       "True"
      ]
     },
     "execution_count": 71,
     "metadata": {},
     "output_type": "execute_result"
    }
   ],
   "source": [
    "\"stupid\" not in \"Wombats and capybaras\""
   ]
  },
  {
   "cell_type": "markdown",
   "metadata": {
    "slideshow": {
     "slide_type": "subslide"
    }
   },
   "source": [
    "Before we finish the `operators` & `comparison` part, it's important to outline one important aspects that you've actually already seen here and there but was never mentioned/explained in detail: `operators` & `comparisons` work directly on `variables`, that is their `values`. For example, if we want to change the number of a `variable` called `n_lectures` from `5` to `6`, we can simply run: "
   ]
  },
  {
   "cell_type": "code",
   "execution_count": 72,
   "metadata": {
    "slideshow": {
     "slide_type": "fragment"
    }
   },
   "outputs": [
    {
     "data": {
      "text/plain": [
       "6"
      ]
     },
     "execution_count": 72,
     "metadata": {},
     "output_type": "execute_result"
    }
   ],
   "source": [
    "n_lectures = 5\n",
    "n_lectures = n_lectures + 1 \n",
    "n_lectures"
   ]
  },
  {
   "cell_type": "markdown",
   "metadata": {
    "slideshow": {
     "slide_type": "fragment"
    }
   },
   "source": [
    "or use the `shortcut` as seen before"
   ]
  },
  {
   "cell_type": "code",
   "execution_count": 73,
   "metadata": {},
   "outputs": [
    {
     "data": {
      "text/plain": [
       "6"
      ]
     },
     "execution_count": 73,
     "metadata": {},
     "output_type": "execute_result"
    }
   ],
   "source": [
    "n_lectures = 5\n",
    "n_lectures += 1\n",
    "n_lectures"
   ]
  },
  {
   "cell_type": "markdown",
   "metadata": {
    "slideshow": {
     "slide_type": "subslide"
    }
   },
   "source": [
    "This works with other `types` and `operators`/`comparisons` too, for example `strings` and `==`: "
   ]
  },
  {
   "cell_type": "code",
   "execution_count": 74,
   "metadata": {},
   "outputs": [
    {
     "data": {
      "text/plain": [
       "False"
      ]
     },
     "execution_count": 74,
     "metadata": {},
     "output_type": "execute_result"
    }
   ],
   "source": [
    "'Wombats' == 'Capybaras'"
   ]
  },
  {
   "cell_type": "markdown",
   "metadata": {
    "slideshow": {
     "slide_type": "subslide"
    }
   },
   "source": [
    "##### Exercise 4.1 \n",
    "\n",
    "You want to compute the `mean` of the following `reaction times`: `1.2`, `1.0`, `1.5`, `1.9`, `1.3`, `1.2`, `1.7`. Is there a way to achieve that using `operators`?  "
   ]
  },
  {
   "cell_type": "code",
   "execution_count": 75,
   "metadata": {
    "solution2": "hidden",
    "solution2_first": true
   },
   "outputs": [],
   "source": [
    "# Please write your solution here"
   ]
  },
  {
   "cell_type": "code",
   "execution_count": null,
   "metadata": {
    "solution2": "hidden"
   },
   "outputs": [],
   "source": [
    "(1.2 + 1.0 + 1.5 + 1.9 + 1.3 + 1.2 + 1.7)/7"
   ]
  },
  {
   "cell_type": "markdown",
   "metadata": {
    "slideshow": {
     "slide_type": "fragment"
    }
   },
   "source": [
    "Spoiler: there are of course many existing `functions` for all sorts of equations and statistics so you don't have to write it yourself every time. For example, we could also compute the `mean` using `numpy`'s `mean` `function`:  "
   ]
  },
  {
   "cell_type": "code",
   "execution_count": null,
   "metadata": {},
   "outputs": [],
   "source": [
    "import numpy as np\n",
    "np.mean([1.2, 1.0, 1.5, 1.9, 1.3, 1.2, 1.7]) "
   ]
  },
  {
   "cell_type": "markdown",
   "metadata": {
    "slideshow": {
     "slide_type": "subslide"
    }
   },
   "source": [
    "##### Exercise 4.2\n",
    "\n",
    "Having computed the `mean`, you need to compare it to a reference `value`. The latter can be _possibly_ found in a `string` that entails data from a previous analyses. If that's the case, the `string` should contain the words `\"mean reaction time\"`. Is there a way to evaluate this?\n",
    "\n",
    "The `string` would be: \"In contrast to the majority of the prior studies the mean reaction time of the here described analyses was `1.2`.\""
   ]
  },
  {
   "cell_type": "code",
   "execution_count": null,
   "metadata": {
    "solution2": "hidden",
    "solution2_first": true
   },
   "outputs": [],
   "source": [
    "# Please write your solution here"
   ]
  },
  {
   "cell_type": "code",
   "execution_count": null,
   "metadata": {
    "solution2": "hidden"
   },
   "outputs": [],
   "source": [
    "reference = \"In contrast to the majority of the prior studies the mean reaction time of the here described analyses was `1.2`.\"\n",
    "\"mean reaction time\" in reference"
   ]
  },
  {
   "cell_type": "markdown",
   "metadata": {
    "slideshow": {
     "slide_type": "subslide"
    }
   },
   "source": [
    "###### Exercise 4.3 \n",
    "\n",
    "Having found the reference `value`, that is `1.2` we can compare it to our `mean`. Specifically, you want to know if the `mean` is `less or equal` than `1.2`. The outcome of the `comparison` should then be the `value` of a new `variable` called `mean_reference_comp`. "
   ]
  },
  {
   "cell_type": "code",
   "execution_count": null,
   "metadata": {
    "solution2": "hidden",
    "solution2_first": true
   },
   "outputs": [],
   "source": [
    "# Please write your solution here"
   ]
  },
  {
   "cell_type": "code",
   "execution_count": null,
   "metadata": {
    "solution2": "hidden"
   },
   "outputs": [],
   "source": [
    "mean = (1.2 + 1.0 + 1.5 + 1.9 + 1.3 + 1.2 + 1.7)/7\n",
    "mean_reference_comp = mean <= 1.2\n",
    "mean_reference_comp"
   ]
  },
  {
   "cell_type": "markdown",
   "metadata": {
    "slideshow": {
     "slide_type": "subslide"
    }
   },
   "source": [
    "**Fantastic work folks, really really great! Time for a quick party!**\n",
    "\n",
    "</br>\n",
    "\n",
    "<center><img src=\"https://media4.giphy.com/media/kyLYXonQYYfwYDIeZl/giphy.gif?cid=ecf05e47vl8lju7wj80ak9p5azuq5imkcbv64d2jple35roj&rid=giphy.gif&ct=g\" width=\"300\"></center>\n",
    "\n",
    "<center><a href=\"https://giphy.com/gifs/sesamestreet-sesame-street-50th-anniversary-kyLYXonQYYfwYDIeZl\">via GIPHY</a></center>"
   ]
  },
  {
   "cell_type": "markdown",
   "metadata": {
    "slideshow": {
     "slide_type": "subslide"
    }
   },
   "source": [
    "Having already checked out `modules`, `help & descriptions`, `variables and data types`, `operators and comparisons`, we will continue with the final section of the first block of our `python` introduction. More precisely, we will advance to new, more complex `data types` and `structures`: `strings`, `lists`, `tuples` and `dictionaries`.\n",
    "\n",
    "- [Module](#Module)\n",
    "- [Help and Descriptions](#Help-and-Descriptions)\n",
    "- [Variables and types](#Variables-and-types)\n",
    "    - [Symbol names](#Symbol-names)\n",
    "    - [Assignment](#Assignment)\n",
    "    - [Fundamental types](#Fundamental-types)\n",
    "- [Operators and comparisons](#Operators-and-comparisons)\n",
    "    - [Shortcut math operation and assignment](#Shortcut-math-operation-and-assignment)\n",
    "- [Strings, List and dictionaries](#Strings,-List-and-dictionaries)\n",
    "    - [Strings](#Strings)\n",
    "    - [List](#List)\n",
    "    - [Tuples](#Tuples)\n",
    "    - [Dictionaries](#Dictionaries)"
   ]
  },
  {
   "cell_type": "markdown",
   "metadata": {
    "slideshow": {
     "slide_type": "slide"
    }
   },
   "source": [
    "## Strings, List and dictionaries\n",
    "\n",
    "So far, we've explored `integers`, `float`, `strings` and `boolean` as `fundamental types`. However, there are a few more that are equally important within the `python` programing language and allow you to easily achieve complex behavoir and ease up your everyday programming life: `strings`, `lists`, `tuples` and `dictionaries`.\n",
    "\n",
    "</br>\n",
    "<center><img src=\"https://raw.githubusercontent.com/PeerHerholz/Python_for_Psychologists_Winter2021/master/lecture/static/python_data_types_2.png\"></center>"
   ]
  },
  {
   "cell_type": "markdown",
   "metadata": {
    "slideshow": {
     "slide_type": "subslide"
    }
   },
   "source": [
    "### Strings\n",
    "\n",
    "Wait, what? Why are we talking about strings again? Well, actually, `strings` are more than a \"just\" fundamental type. There are quite a few things you can do with `strings` that we haven't talked about yet. However, first things first: `strings` contain text:\n"
   ]
  },
  {
   "cell_type": "code",
   "execution_count": 77,
   "metadata": {
    "slideshow": {
     "slide_type": "fragment"
    }
   },
   "outputs": [
    {
     "data": {
      "text/plain": [
       "'The wombat and the capybara are equally cute. However, while the wombat lives in Australia, the capybara can be found in south america.'"
      ]
     },
     "execution_count": 77,
     "metadata": {},
     "output_type": "execute_result"
    }
   ],
   "source": [
    "statement = \"The wombat and the capybara are equally cute. However, while the wombat lives in Australia, the capybara can be found in south america.\"\n",
    "statement"
   ]
  },
  {
   "cell_type": "code",
   "execution_count": 78,
   "metadata": {
    "slideshow": {
     "slide_type": "fragment"
    }
   },
   "outputs": [
    {
     "data": {
      "text/plain": [
       "str"
      ]
     },
     "execution_count": 78,
     "metadata": {},
     "output_type": "execute_result"
    }
   ],
   "source": [
    "type(statement)"
   ]
  },
  {
   "cell_type": "markdown",
   "metadata": {
    "slideshow": {
     "slide_type": "subslide"
    }
   },
   "source": [
    "So, what else can we do? For example, we can get the `length` of the `string` which reflects the number of `characters` in the `string`. The respective `len` function is one of the `python functions` that's always available to you, even without `importing` it. Notably, `len` can `operate` on various `data types` which we will explore later."
   ]
  },
  {
   "cell_type": "code",
   "execution_count": 79,
   "metadata": {
    "slideshow": {
     "slide_type": "-"
    }
   },
   "outputs": [
    {
     "data": {
      "text/plain": [
       "135"
      ]
     },
     "execution_count": 79,
     "metadata": {},
     "output_type": "execute_result"
    }
   ],
   "source": [
    "len(statement)"
   ]
  },
  {
   "cell_type": "markdown",
   "metadata": {
    "slideshow": {
     "slide_type": "subslide"
    }
   },
   "source": [
    "The `string` `data types` also allows us to `replace` parts of it, i.e. `substrings`, with a different `string`. The respective syntax is `string.replace(\"substring_to_replace\", \"replacement_string\")`, that is, `.replace` searches for `\"substring_to_replace\"` and `replaces` it with `\"replacement_string\"`. If we for example want to state that `wombats` and `capybaras` are `awesome` instead of `cute`, we could do the following:"
   ]
  },
  {
   "cell_type": "code",
   "execution_count": 80,
   "metadata": {
    "slideshow": {
     "slide_type": "fragment"
    }
   },
   "outputs": [
    {
     "data": {
      "text/plain": [
       "'The wombat and the capybara are equally awesome. However, while the wombat lives in Australia, the capybara can be found in south america.'"
      ]
     },
     "execution_count": 80,
     "metadata": {},
     "output_type": "execute_result"
    }
   ],
   "source": [
    "statement.replace(\"cute\", \"awesome\")"
   ]
  },
  {
   "cell_type": "markdown",
   "metadata": {
    "slideshow": {
     "slide_type": "subslide"
    }
   },
   "source": [
    "Importantly, `strings` are not `replaced` in-place but require a new `variable assignment`."
   ]
  },
  {
   "cell_type": "code",
   "execution_count": 81,
   "metadata": {
    "slideshow": {
     "slide_type": "fragment"
    }
   },
   "outputs": [
    {
     "data": {
      "text/plain": [
       "'The wombat and the capybara are equally cute. However, while the wombat lives in Australia, the capybara can be found in south america.'"
      ]
     },
     "execution_count": 81,
     "metadata": {},
     "output_type": "execute_result"
    }
   ],
   "source": [
    "statement"
   ]
  },
  {
   "cell_type": "code",
   "execution_count": 82,
   "metadata": {
    "slideshow": {
     "slide_type": "fragment"
    }
   },
   "outputs": [
    {
     "data": {
      "text/plain": [
       "'The wombat and the capybara are equally awesome. However, while the wombat lives in Australia, the capybara can be found in south america.'"
      ]
     },
     "execution_count": 82,
     "metadata": {},
     "output_type": "execute_result"
    }
   ],
   "source": [
    "statement_2 = statement.replace(\"cute\", \"awesome\")\n",
    "statement_2"
   ]
  },
  {
   "cell_type": "markdown",
   "metadata": {
    "slideshow": {
     "slide_type": "subslide"
    }
   },
   "source": [
    "We can also `index` a `string` using `string[x]` to get the `character` at the specified `index`:"
   ]
  },
  {
   "cell_type": "code",
   "execution_count": 83,
   "metadata": {
    "slideshow": {
     "slide_type": "fragment"
    }
   },
   "outputs": [
    {
     "data": {
      "text/plain": [
       "'The wombat and the capybara are equally awesome. However, while the wombat lives in Australia, the capybara can be found in south america.'"
      ]
     },
     "execution_count": 83,
     "metadata": {},
     "output_type": "execute_result"
    }
   ],
   "source": [
    "statement_2"
   ]
  },
  {
   "cell_type": "code",
   "execution_count": 84,
   "metadata": {
    "slideshow": {
     "slide_type": "fragment"
    }
   },
   "outputs": [
    {
     "data": {
      "text/plain": [
       "'h'"
      ]
     },
     "execution_count": 84,
     "metadata": {},
     "output_type": "execute_result"
    }
   ],
   "source": [
    "statement_2[1]"
   ]
  },
  {
   "cell_type": "markdown",
   "metadata": {
    "slideshow": {
     "slide_type": "fragment"
    }
   },
   "source": [
    "Pump the breaks right there: why do we get `h` when we specify `1` as `index`? Shouldn't this get us the `first index` and thus `T`? "
   ]
  },
  {
   "cell_type": "markdown",
   "metadata": {
    "slideshow": {
     "slide_type": "subslide"
    }
   },
   "source": [
    "<center><img src=\"https://media1.giphy.com/media/BXOEmFSzNkOObZhIA3/giphy.gif?cid=ecf05e47iuhbrrici7z2tn33dxeu0xxi96i19uk7qphiojb3&rid=giphy.gif&ct=g\" width=\"300\"></center>\n",
    "\n",
    "<center><a href=\"https://giphy.com/gifs/theoffice-the-office-tv-secret-santa-BXOEmFSzNkOObZhIA3\">via GIPHY</a></center>\n",
    "\n",
    "**HEADS UP EVERYONE: INDEXING IN `PYTHON` STARTS AT 0**\n",
    "\n",
    "</br>\n",
    "<center><img src=\"https://raw.githubusercontent.com/PeerHerholz/Python_for_Psychologists_Winter2021/master/lecture/static/index_string.png\"></center>\n",
    "\n",
    "This means that the `first index` is `0`, the `second index` `1`, the `third index` 2, etc. . This holds true independent of the `data type` and is one of the major confusions when folks start programming in `python`, so always watch out!"
   ]
  },
  {
   "cell_type": "code",
   "execution_count": 85,
   "metadata": {
    "slideshow": {
     "slide_type": "subslide"
    }
   },
   "outputs": [
    {
     "data": {
      "text/plain": [
       "'The wombat and the capybara are equally awesome. However, while the wombat lives in Australia, the capybara can be found in south america.'"
      ]
     },
     "execution_count": 85,
     "metadata": {},
     "output_type": "execute_result"
    }
   ],
   "source": [
    "statement_2"
   ]
  },
  {
   "cell_type": "code",
   "execution_count": 86,
   "metadata": {
    "slideshow": {
     "slide_type": "fragment"
    }
   },
   "outputs": [
    {
     "data": {
      "text/plain": [
       "'T'"
      ]
     },
     "execution_count": 86,
     "metadata": {},
     "output_type": "execute_result"
    }
   ],
   "source": [
    "statement_2[0]"
   ]
  },
  {
   "cell_type": "code",
   "execution_count": 87,
   "metadata": {
    "slideshow": {
     "slide_type": "fragment"
    }
   },
   "outputs": [
    {
     "data": {
      "text/plain": [
       "'h'"
      ]
     },
     "execution_count": 87,
     "metadata": {},
     "output_type": "execute_result"
    }
   ],
   "source": [
    "statement_2[1]"
   ]
  },
  {
   "cell_type": "code",
   "execution_count": 88,
   "metadata": {
    "slideshow": {
     "slide_type": "fragment"
    }
   },
   "outputs": [
    {
     "data": {
      "text/plain": [
       "'e'"
      ]
     },
     "execution_count": 88,
     "metadata": {},
     "output_type": "execute_result"
    }
   ],
   "source": [
    "statement_2[2]"
   ]
  },
  {
   "cell_type": "markdown",
   "metadata": {
    "slideshow": {
     "slide_type": "subslide"
    }
   },
   "source": [
    "If we want to get more than one `character` of a `string` we can use the following syntax `string[start:stop]` which extracts characters between `index` `start` and `stop`. This technique is called *slicing*."
   ]
  },
  {
   "cell_type": "code",
   "execution_count": 89,
   "metadata": {
    "slideshow": {
     "slide_type": "fragment"
    }
   },
   "outputs": [
    {
     "data": {
      "text/plain": [
       "'wombat'"
      ]
     },
     "execution_count": 89,
     "metadata": {},
     "output_type": "execute_result"
    }
   ],
   "source": [
    "statement_2[4:10]"
   ]
  },
  {
   "cell_type": "markdown",
   "metadata": {
    "slideshow": {
     "slide_type": "subslide"
    }
   },
   "source": [
    "If we omit either (or both) of `start` or `stop` from `[start:stop]`, the default is the beginning and the end of the `string`, respectively:"
   ]
  },
  {
   "cell_type": "code",
   "execution_count": 90,
   "metadata": {
    "slideshow": {
     "slide_type": "fragment"
    }
   },
   "outputs": [
    {
     "data": {
      "text/plain": [
       "'The wombat'"
      ]
     },
     "execution_count": 90,
     "metadata": {},
     "output_type": "execute_result"
    }
   ],
   "source": [
    "statement_2[:10]"
   ]
  },
  {
   "cell_type": "code",
   "execution_count": 91,
   "metadata": {
    "slideshow": {
     "slide_type": "fragment"
    }
   },
   "outputs": [
    {
     "data": {
      "text/plain": [
       "' and the capybara are equally awesome. However, while the wombat lives in Australia, the capybara can be found in south america.'"
      ]
     },
     "execution_count": 91,
     "metadata": {},
     "output_type": "execute_result"
    }
   ],
   "source": [
    "statement_2[10:]"
   ]
  },
  {
   "cell_type": "code",
   "execution_count": 92,
   "metadata": {
    "slideshow": {
     "slide_type": "fragment"
    }
   },
   "outputs": [
    {
     "data": {
      "text/plain": [
       "'The wombat and the capybara are equally awesome. However, while the wombat lives in Australia, the capybara can be found in south america.'"
      ]
     },
     "execution_count": 92,
     "metadata": {},
     "output_type": "execute_result"
    }
   ],
   "source": [
    "statement_2[:]"
   ]
  },
  {
   "cell_type": "markdown",
   "metadata": {
    "slideshow": {
     "slide_type": "subslide"
    }
   },
   "source": [
    "We can also define the `step size` using the syntax `[start:end:step]` (the default value for `step` is `1`, as we saw above):"
   ]
  },
  {
   "cell_type": "code",
   "execution_count": 93,
   "metadata": {
    "slideshow": {
     "slide_type": "fragment"
    }
   },
   "outputs": [
    {
     "data": {
      "text/plain": [
       "'The wombat and the capybara are equally awesome. However, while the wombat lives in Australia, the capybara can be found in south america.'"
      ]
     },
     "execution_count": 93,
     "metadata": {},
     "output_type": "execute_result"
    }
   ],
   "source": [
    "statement_2[::1]"
   ]
  },
  {
   "cell_type": "code",
   "execution_count": 94,
   "metadata": {
    "slideshow": {
     "slide_type": "fragment"
    }
   },
   "outputs": [
    {
     "data": {
      "text/plain": [
       "'Tewma n h ayaaaeeulyaeoe oee,wietewma ie nAsrla h ayaacnb on nsuhaeia'"
      ]
     },
     "execution_count": 94,
     "metadata": {},
     "output_type": "execute_result"
    }
   ],
   "source": [
    "statement_2[::2]"
   ]
  },
  {
   "cell_type": "markdown",
   "metadata": {
    "slideshow": {
     "slide_type": "subslide"
    }
   },
   "source": [
    "#### String formatting \n",
    "\n",
    "Besides `operating` on `strings` we can also apply different `formatting styles`. More precisely, this refers to different ways of displaying `strings`. The main `function` we'll explore regarding this will be the `print` function. Comparable to `len`, it's one of the `python` `functions` that's always available to you, even without `import`. \n",
    "\n",
    "For example, if we `print` `strings` added with `+`, they are concatenated without space: "
   ]
  },
  {
   "cell_type": "code",
   "execution_count": 95,
   "metadata": {
    "slideshow": {
     "slide_type": "fragment"
    }
   },
   "outputs": [
    {
     "name": "stdout",
     "output_type": "stream",
     "text": [
      "Theresultsweresignificant\n"
     ]
    }
   ],
   "source": [
    "print(\"The\" + \"results\" + \"were\" + \"significant\")"
   ]
  },
  {
   "cell_type": "markdown",
   "metadata": {
    "slideshow": {
     "slide_type": "subslide"
    }
   },
   "source": [
    "The `print` `function` concatenates `strings` differently, depending how the `inputs` are specified. If we just provide all `strings` without anything else, they will be concatenated without spaces:"
   ]
  },
  {
   "cell_type": "code",
   "execution_count": 96,
   "metadata": {
    "slideshow": {
     "slide_type": "fragment"
    }
   },
   "outputs": [
    {
     "name": "stdout",
     "output_type": "stream",
     "text": [
      "Theresultsweresignificant\n"
     ]
    }
   ],
   "source": [
    "print(\"The\" \"results\" \"were\" \"significant\")"
   ]
  },
  {
   "cell_type": "markdown",
   "metadata": {
    "slideshow": {
     "slide_type": "subslide"
    }
   },
   "source": [
    "If we provide `strings` separated by `,`, they will be concatenated with spaces:"
   ]
  },
  {
   "cell_type": "code",
   "execution_count": 97,
   "metadata": {
    "slideshow": {
     "slide_type": "fragment"
    }
   },
   "outputs": [
    {
     "name": "stdout",
     "output_type": "stream",
     "text": [
      "The results were significant\n"
     ]
    }
   ],
   "source": [
    "print(\"The\", \"results\", \"were\", \"significant\")"
   ]
  },
  {
   "cell_type": "markdown",
   "metadata": {
    "slideshow": {
     "slide_type": "subslide"
    }
   },
   "source": [
    "Interestingly, the `print` `function` converts all `inputs` to `strings`, no matter their actual `type`:"
   ]
  },
  {
   "cell_type": "code",
   "execution_count": 98,
   "metadata": {
    "slideshow": {
     "slide_type": "fragment"
    }
   },
   "outputs": [
    {
     "name": "stdout",
     "output_type": "stream",
     "text": [
      "The results were significant 0.049 False\n"
     ]
    }
   ],
   "source": [
    "print(\"The\", \"results\", \"were\", \"significant\", 0.049, False)"
   ]
  },
  {
   "cell_type": "markdown",
   "metadata": {
    "slideshow": {
     "slide_type": "subslide"
    }
   },
   "source": [
    "Another very cool and handy option that we can specify `placeholders` which will be filled with an `input` according to a given `formatting style`. `Python` has two `string formatting styles`. An example of the old style is below, the `placeholder` or `specifier` `%.3f` transforms the `input` `number` into a `string`, that corresponds to a `floating point number` with `3 decimal places` and the `specifier` `%d` transforms the `input` `number` into a `string`, corresponding to a `decimal number`."
   ]
  },
  {
   "cell_type": "code",
   "execution_count": 99,
   "metadata": {
    "slideshow": {
     "slide_type": "fragment"
    }
   },
   "outputs": [
    {
     "name": "stdout",
     "output_type": "stream",
     "text": [
      "The results were significant at 0.049\n"
     ]
    }
   ],
   "source": [
    "print(\"The results were significant at %.3f\" %(0.049))"
   ]
  },
  {
   "cell_type": "code",
   "execution_count": 100,
   "metadata": {
    "slideshow": {
     "slide_type": "-"
    }
   },
   "outputs": [
    {
     "name": "stdout",
     "output_type": "stream",
     "text": [
      "The results were significant at 0\n"
     ]
    }
   ],
   "source": [
    "print(\"The results were significant at %d\" %(0.049))"
   ]
  },
  {
   "cell_type": "markdown",
   "metadata": {
    "slideshow": {
     "slide_type": "subslide"
    }
   },
   "source": [
    "As you can see, you have to be very careful with `string formatting` as important information might otherwise get lost!  "
   ]
  },
  {
   "cell_type": "markdown",
   "metadata": {
    "slideshow": {
     "slide_type": "subslide"
    }
   },
   "source": [
    "We can achieve the same outcome using the new style string formatting which uses `{}` followed by `.format()`."
   ]
  },
  {
   "cell_type": "code",
   "execution_count": 101,
   "metadata": {
    "slideshow": {
     "slide_type": "fragment"
    }
   },
   "outputs": [
    {
     "name": "stdout",
     "output_type": "stream",
     "text": [
      "The results were significant at 0.049\n"
     ]
    }
   ],
   "source": [
    "print(\"The results were significant at {:.3f}\" .format(0.049))"
   ]
  },
  {
   "cell_type": "markdown",
   "metadata": {
    "slideshow": {
     "slide_type": "subslide"
    }
   },
   "source": [
    "If you would like to include `line-breaks` and/or `tabs` in your `strings`, you can use `\\n` and `\\t` respectively: "
   ]
  },
  {
   "cell_type": "code",
   "execution_count": 102,
   "metadata": {
    "slideshow": {
     "slide_type": "fragment"
    }
   },
   "outputs": [
    {
     "name": "stdout",
     "output_type": "stream",
     "text": [
      "Geez, there are some many things \n",
      "Python can do with \t strings.\n"
     ]
    }
   ],
   "source": [
    "print(\"Geez, there are some many things \\nPython can do with \\t strings.\")"
   ]
  },
  {
   "cell_type": "markdown",
   "metadata": {
    "slideshow": {
     "slide_type": "subslide"
    }
   },
   "source": [
    "We can of course also combine the different `string formatting` options:"
   ]
  },
  {
   "cell_type": "code",
   "execution_count": 103,
   "metadata": {
    "slideshow": {
     "slide_type": "-"
    }
   },
   "outputs": [
    {
     "name": "stdout",
     "output_type": "stream",
     "text": [
      "Animal: Wombat\n",
      "Habitat: Australia\n",
      "Rating: 5\n"
     ]
    }
   ],
   "source": [
    "print(\"Animal: {}\\nHabitat: {}\\nRating: {}\".format(\"Wombat\", \"Australia\", 5))"
   ]
  },
  {
   "cell_type": "markdown",
   "metadata": {
    "slideshow": {
     "slide_type": "subslide"
    }
   },
   "source": [
    "\n",
    "\n",
    "\n",
    "\n",
    "#### Single Quote\n",
    "You can specify strings using single quotes such as `'Quote me on this'`.\n",
    "All white space i.e. spaces and tabs, within the quotes, are preserved as-is.\n",
    "\n",
    "#### Double Quotes\n",
    "Strings in double quotes work exactly the same way as strings in single quotes. An example is `\"What's your name?\"`.\n",
    "\n",
    "#### Triple Quotes\n",
    "\n",
    "You can specify multi-line strings using triple quotes - (`\"\"\"` or `'''`). You can use single quotes and double quotes freely within the triple quotes. An example is:"
   ]
  },
  {
   "cell_type": "code",
   "execution_count": 104,
   "metadata": {
    "slideshow": {
     "slide_type": "subslide"
    }
   },
   "outputs": [
    {
     "data": {
      "text/plain": [
       "'I\\'m the first line. Check how line-breaks are shown in the second line.\\nDo you see the line-break?\\n\"What\\'s going on here?,\" you might ask.\\nWell, \"that\\'s just how tiple quotes work.\"\\n'"
      ]
     },
     "execution_count": 104,
     "metadata": {},
     "output_type": "execute_result"
    }
   ],
   "source": [
    "'''I'm the first line. Check how line-breaks are shown in the second line.\n",
    "Do you see the line-break?\n",
    "\"What's going on here?,\" you might ask.\n",
    "Well, \"that's just how tiple quotes work.\"\n",
    "'''"
   ]
  },
  {
   "cell_type": "markdown",
   "metadata": {
    "slideshow": {
     "slide_type": "subslide"
    }
   },
   "source": [
    "##### Exercise 5.1\n",
    "\n",
    "Create two `variable`s called `info_wombat` and `info_capybara` and provide them the following `values` respectively:\n",
    "\n",
    "\"The wombat is quadrupedal marsupial and can weigh up to 35 kg.\"\n",
    "\n",
    "\"The capybara is the largest rodent on earth. Its relatives include the guinea pig and the chinchilla.\" \n",
    "\n",
    "Once created, please verify that the `type` is `string`."
   ]
  },
  {
   "cell_type": "code",
   "execution_count": 105,
   "metadata": {
    "slideshow": {
     "slide_type": "subslide"
    },
    "solution2": "hidden",
    "solution2_first": true
   },
   "outputs": [],
   "source": [
    "# Please write your solution here"
   ]
  },
  {
   "cell_type": "code",
   "execution_count": null,
   "metadata": {
    "solution2": "hidden"
   },
   "outputs": [],
   "source": [
    "info_wombat = \"The wombat is quadrupedal marsupial and can weigh up to 35 kg.\"\n",
    "info_capybara = \"The capybara is the largest rodent on earth. Its relatives include the guinea pig and the chinchilla.\"\n",
    "\n",
    "print(type(info_wombat))\n",
    "print(type(info_capybara))"
   ]
  },
  {
   "cell_type": "markdown",
   "metadata": {
    "slideshow": {
     "slide_type": "subslide"
    }
   },
   "source": [
    "##### Exercise 5.2\n",
    "\n",
    "Compute the `length` and `print` within the `strings` \"The wombat information has [insert length here] characters.\" and \"The capybara information has [insert length here] characters.\" After that, please compare the length of the `strings` and `print` if they are equal."
   ]
  },
  {
   "cell_type": "code",
   "execution_count": null,
   "metadata": {
    "solution2": "hidden",
    "solution2_first": true
   },
   "outputs": [],
   "source": [
    "# Please write your solution here"
   ]
  },
  {
   "cell_type": "code",
   "execution_count": null,
   "metadata": {
    "solution2": "hidden"
   },
   "outputs": [],
   "source": [
    "print(\"The wombat information has %s characters.\" %len(info_wombat))\n",
    "print(\"The capybara information has %s characters.\" %len(info_capybara))\n",
    "print(\"The information has an equal amount of characters: %s\" %str(len(info_wombat)==len(info_capybara)))"
   ]
  },
  {
   "cell_type": "markdown",
   "metadata": {
    "solution2": "hidden",
    "solution2_first": true
   },
   "source": [
    "##### Exercise 5.3\n",
    "\n",
    "Get the following `indices` from the `info_wombat` and `info_capybara` respectively: `4`-`10` and `4`-`12`. Replace the resulting word in `info_wombat` with `capybara` and the resulting word in `info_capybara` with `wombat`."
   ]
  },
  {
   "cell_type": "code",
   "execution_count": null,
   "metadata": {
    "solution2": "hidden"
   },
   "outputs": [],
   "source": [
    "print(info_wombat[4:10])\n",
    "print(info_capybara[4:12])\n",
    "\n",
    "print(info_wombat.replace('wombat', 'capybara'))\n",
    "print(info_capybara.replace('capybara', 'wombat'))"
   ]
  },
  {
   "cell_type": "markdown",
   "metadata": {
    "slideshow": {
     "slide_type": "subslide"
    }
   },
   "source": [
    "### List\n",
    "\n",
    "Next up: `list`s. In general, `list`s are very similar to `strings`. One crucial difference is that `list` elements (things in the `list`) can be of any `type`: `integers`, `floats`, `strings`, etc. . Additionally, `types` can be freely mixed within a `list`, that is, each `element` of a list can be of a different `type`. `List`s are among the `data types` and `structures` you'll work with almost every time you do something in `python`. They are super handy and comparably to `strings`, have a lot of \"in-built\" functionality.\n",
    "\n",
    "\n",
    "</br>\n",
    "<center><img src=\"https://raw.githubusercontent.com/PeerHerholz/Python_for_Psychologists_Winter2021/master/lecture/static/python_data_types_2.png\"></center>"
   ]
  },
  {
   "cell_type": "markdown",
   "metadata": {
    "slideshow": {
     "slide_type": "subslide"
    }
   },
   "source": [
    "The basic `syntax` for creating `list`s in `python` is `[...]`:"
   ]
  },
  {
   "cell_type": "code",
   "execution_count": 107,
   "metadata": {
    "slideshow": {
     "slide_type": "fragment"
    }
   },
   "outputs": [
    {
     "data": {
      "text/plain": [
       "[1, 2, 3, 4]"
      ]
     },
     "execution_count": 107,
     "metadata": {},
     "output_type": "execute_result"
    }
   ],
   "source": [
    "[1,2,3,4]"
   ]
  },
  {
   "cell_type": "code",
   "execution_count": 108,
   "metadata": {
    "slideshow": {
     "slide_type": "fragment"
    }
   },
   "outputs": [
    {
     "data": {
      "text/plain": [
       "list"
      ]
     },
     "execution_count": 108,
     "metadata": {},
     "output_type": "execute_result"
    }
   ],
   "source": [
    "type([1,2,3,4])"
   ]
  },
  {
   "cell_type": "markdown",
   "metadata": {
    "slideshow": {
     "slide_type": "subslide"
    }
   },
   "source": [
    "You can of course also set `list`s as the `value` of a `variable`. For example, we can create a `list` with our `reaction times` from before:"
   ]
  },
  {
   "cell_type": "code",
   "execution_count": 109,
   "metadata": {
    "slideshow": {
     "slide_type": "fragment"
    }
   },
   "outputs": [
    {
     "name": "stdout",
     "output_type": "stream",
     "text": [
      "<class 'list'>\n",
      "[1.2, 1.0, 1.5, 1.9, 1.3, 1.2, 1.7]\n"
     ]
    }
   ],
   "source": [
    "reaction_times = [1.2, 1.0, 1.5, 1.9, 1.3, 1.2, 1.7]\n",
    "print(type(reaction_times))\n",
    "print(reaction_times)"
   ]
  },
  {
   "cell_type": "markdown",
   "metadata": {
    "slideshow": {
     "slide_type": "subslide"
    }
   },
   "source": [
    "Going back to the comparison with `strings`, we can use the same `index` and `slicing` techniques to manipulate `list`s as we could use on `strings`: `list[index]`, `list[start:stop]`."
   ]
  },
  {
   "cell_type": "code",
   "execution_count": 110,
   "metadata": {
    "slideshow": {
     "slide_type": "fragment"
    }
   },
   "outputs": [
    {
     "name": "stdout",
     "output_type": "stream",
     "text": [
      "[1.2, 1.0, 1.5, 1.9, 1.3, 1.2, 1.7]\n",
      "[1.0, 1.5]\n",
      "[1.2, 1.5, 1.3, 1.7]\n"
     ]
    }
   ],
   "source": [
    "print(reaction_times)\n",
    "print(reaction_times[1:3])\n",
    "print(reaction_times[::2])"
   ]
  },
  {
   "cell_type": "markdown",
   "metadata": {
    "slideshow": {
     "slide_type": "subslide"
    }
   },
   "source": [
    "<center><img src=\"https://media1.giphy.com/media/BXOEmFSzNkOObZhIA3/giphy.gif?cid=ecf05e47iuhbrrici7z2tn33dxeu0xxi96i19uk7qphiojb3&rid=giphy.gif&ct=g\" width=\"300\"></center>\n",
    "\n",
    "<center><a href=\"https://giphy.com/gifs/theoffice-the-office-tv-secret-santa-BXOEmFSzNkOObZhIA3\">via GIPHY</a></center>\n",
    "\n",
    "**HEADS UP EVERYONE: INDEXING IN `PYTHON` STARTS AT 0**\n",
    "\n",
    "</br>\n",
    "<center><img src=\"https://raw.githubusercontent.com/PeerHerholz/Python_for_Psychologists_Winter2021/master/lecture/static/index_list.png\"></center>\n",
    "\n",
    "This means that the `first index` is `0`, the `second index` `1`, the `third index` 2, etc. . This holds true independent of the `data type` and is one of the major confusions when folks start programming in `python`, so always watch out!"
   ]
  },
  {
   "cell_type": "markdown",
   "metadata": {
    "slideshow": {
     "slide_type": "subslide"
    }
   },
   "source": [
    "Thus, to get the first index of our `reaction_times`, we have to do the following:"
   ]
  },
  {
   "cell_type": "code",
   "execution_count": 111,
   "metadata": {
    "slideshow": {
     "slide_type": "fragment"
    }
   },
   "outputs": [
    {
     "data": {
      "text/plain": [
       "1.2"
      ]
     },
     "execution_count": 111,
     "metadata": {},
     "output_type": "execute_result"
    }
   ],
   "source": [
    "reaction_times[0]"
   ]
  },
  {
   "cell_type": "markdown",
   "metadata": {
    "slideshow": {
     "slide_type": "fragment"
    }
   },
   "source": [
    "There's another important aspect related to `index` and `slicing`. Have a look at the following example that _should_ get us the `reaction times` from index `1` to `4`: "
   ]
  },
  {
   "cell_type": "code",
   "execution_count": 112,
   "metadata": {
    "slideshow": {
     "slide_type": "fragment"
    }
   },
   "outputs": [
    {
     "name": "stdout",
     "output_type": "stream",
     "text": [
      "[1.2, 1.0, 1.5, 1.9, 1.3, 1.2, 1.7]\n",
      "[1.0, 1.5, 1.9]\n"
     ]
    }
   ],
   "source": [
    "print(reaction_times)\n",
    "print(reaction_times[1:4])"
   ]
  },
  {
   "cell_type": "markdown",
   "metadata": {
    "slideshow": {
     "slide_type": "fragment"
    }
   },
   "source": [
    "Isn't there something missing, specifically the last `index` we wanted to grasp, i.e. `4`?"
   ]
  },
  {
   "cell_type": "markdown",
   "metadata": {
    "slideshow": {
     "slide_type": "subslide"
    }
   },
   "source": [
    "<center><img src=\"https://media1.giphy.com/media/BXOEmFSzNkOObZhIA3/giphy.gif?cid=ecf05e47iuhbrrici7z2tn33dxeu0xxi96i19uk7qphiojb3&rid=giphy.gif&ct=g\" width=\"300\"></center>\n",
    "\n",
    "<center><a href=\"https://giphy.com/gifs/theoffice-the-office-tv-secret-santa-BXOEmFSzNkOObZhIA3\">via GIPHY</a></center>\n",
    "\n",
    "**HEADS UP EVERYONE: SLICING IN `PYTHON` EXCLUDES THE \"STOP\" INDEX**\n",
    "\n",
    "</br>\n",
    "<center><img src=\"https://raw.githubusercontent.com/PeerHerholz/Python_for_Psychologists_Winter2021/master/lecture/static/index_list_slicing.png\"></center>\n",
    "\n",
    "This means that the `slicing` technique gives you everything up to the `stop` `index` but does not include the `stop` `index` itself. For example, `reaction_times[1:4]` will return the `list elements` from index `1` up to `4` but not the fourth `index`. This holds true independent of the `data type` and is one of the major confusions when folks start programming in `python`, so always watch out!"
   ]
  },
  {
   "cell_type": "markdown",
   "metadata": {
    "slideshow": {
     "slide_type": "subslide"
    }
   },
   "source": [
    "So, to get to `list elements` from `index` `0` - `4`, including `4`, we have to do the following:"
   ]
  },
  {
   "cell_type": "code",
   "execution_count": 113,
   "metadata": {
    "slideshow": {
     "slide_type": "fragment"
    }
   },
   "outputs": [
    {
     "name": "stdout",
     "output_type": "stream",
     "text": [
      "[1.2, 1.0, 1.5, 1.9, 1.3, 1.2, 1.7]\n",
      "[1.2, 1.0, 1.5, 1.9, 1.3]\n"
     ]
    }
   ],
   "source": [
    "print(reaction_times)\n",
    "print(reaction_times[0:5])"
   ]
  },
  {
   "cell_type": "markdown",
   "metadata": {
    "slideshow": {
     "slide_type": "fragment"
    }
   },
   "source": [
    "As mentioned before, `elements` in a `list` do not all have to be of the same `type`:"
   ]
  },
  {
   "cell_type": "code",
   "execution_count": 114,
   "metadata": {
    "slideshow": {
     "slide_type": "fragment"
    }
   },
   "outputs": [
    {
     "name": "stdout",
     "output_type": "stream",
     "text": [
      "[1, 'a', 4.0, 'What is happening?']\n"
     ]
    }
   ],
   "source": [
    "mixed_list = [1, 'a', 4.0, 'What is happening?']\n",
    "\n",
    "print(mixed_list)"
   ]
  },
  {
   "cell_type": "markdown",
   "metadata": {
    "slideshow": {
     "slide_type": "subslide"
    }
   },
   "source": [
    "Another nice thing to know: `python` `list`s can be `inhomogeneous` and `arbitrarily nested`, meaning that we can define and access `list`s within `list`s. Is this `list`-ception??"
   ]
  },
  {
   "cell_type": "code",
   "execution_count": 115,
   "metadata": {
    "slideshow": {
     "slide_type": "fragment"
    }
   },
   "outputs": [
    {
     "name": "stdout",
     "output_type": "stream",
     "text": [
      "our nest list looks like this: [1, [2, [3, [4, [5]]]]]\n",
      "the length of our nested list is: 2\n",
      "the first index of our nested_list is: 1\n",
      "the second index of our nested_list is: [2, [3, [4, [5]]]]\n",
      "the second index of our nested_list is a list we can index again via nested_list[1][1]: [3, [4, [5]]]\n"
     ]
    }
   ],
   "source": [
    "nested_list = [1, [2, [3, [4, [5]]]]]\n",
    "\n",
    "print(\"our nest list looks like this: %s\" %nested_list)\n",
    "print(\"the length of our nested list is: %s\" %len(nested_list))\n",
    "print(\"the first index of our nested_list is: %s\" %nested_list[0])\n",
    "print(\"the second index of our nested_list is: %s\" %nested_list[1])\n",
    "print(\"the second index of our nested_list is a list we can index again via nested_list[1][1]: %s\" %nested_list[1][1])"
   ]
  },
  {
   "cell_type": "markdown",
   "metadata": {
    "slideshow": {
     "slide_type": "subslide"
    }
   },
   "source": [
    "Lets have a look at another `list`. Assuming you obtain data describing the favorite `movies` and `snacks` of a sample population, we can put the respective responses in `list`s for easy handling:"
   ]
  },
  {
   "cell_type": "code",
   "execution_count": 116,
   "metadata": {
    "slideshow": {
     "slide_type": "fragment"
    }
   },
   "outputs": [],
   "source": [
    "movies = ['The_Intouchables', 'James Bond', 'Forrest Gump', 'Retired Extremely Dangerous', 'The Imitation Game',\n",
    "          'The Philosophers', 'Call Me by Your Name', 'Shutter Island', 'Love actually', 'The Great Gatsby',\n",
    "          'Interstellar', 'Inception', 'Lord of the Rings - The Two Towers', 'Fight Club', 'Shutter Island',\n",
    "          'Harry Potter', 'Harry Potter and the Halfblood Prince', 'Shindlers List', 'Inception']"
   ]
  },
  {
   "cell_type": "code",
   "execution_count": 117,
   "metadata": {
    "slideshow": {
     "slide_type": "subslide"
    }
   },
   "outputs": [],
   "source": [
    "snacks = ['pancakes', 'Banana', 'dominoes', 'carrots', 'hummus', 'chocolate', 'chocolate', 'Pringles', 'snickers',\n",
    "          'chocolate','Kinder bueno', 'sushi',  'mint chocolate', 'fruit', 'dried mango', 'dark chocolate', \n",
    "          'too complicated', 'snickers', 'Rocher']"
   ]
  },
  {
   "cell_type": "markdown",
   "metadata": {
    "slideshow": {
     "slide_type": "subslide"
    }
   },
   "source": [
    "A smaller subsample also provided their favorite animal. (If you also provided one but it doesn't show up it means that you most likely used the \"add attachment\" option to add images or a way to refers to local files but doesn't embed them directly in the `notebook`. Unfortunately, things can be a bit strange there...so don't worry, we address this in subsequent sessions.)  "
   ]
  },
  {
   "cell_type": "code",
   "execution_count": 118,
   "metadata": {
    "slideshow": {
     "slide_type": "fragment"
    }
   },
   "outputs": [],
   "source": [
    "animals = ['cat', 'lizard', 'coral', 'elephant', 'barred owl', 'groundhog']"
   ]
  },
  {
   "cell_type": "markdown",
   "metadata": {
    "slideshow": {
     "slide_type": "subslide"
    }
   },
   "source": [
    "So lets check what we can do with these lists. At first, here they are again:"
   ]
  },
  {
   "cell_type": "code",
   "execution_count": 119,
   "metadata": {
    "slideshow": {
     "slide_type": "fragment"
    }
   },
   "outputs": [
    {
     "name": "stdout",
     "output_type": "stream",
     "text": [
      "The favorite movies were: ['The_Intouchables', 'James Bond', 'Forrest Gump', 'Retired Extremely Dangerous', 'The Imitation Game', 'The Philosophers', 'Call Me by Your Name', 'Shutter Island', 'Love actually', 'The Great Gatsby', 'Interstellar', 'Inception', 'Lord of the Rings - The Two Towers', 'Fight Club', 'Shutter Island', 'Harry Potter', 'Harry Potter and the Halfblood Prince', 'Shindlers List', 'Inception']\n",
      "\n",
      "\n",
      "The favorite snacks were: ['pancakes', 'Banana', 'dominoes', 'carrots', 'hummus', 'chocolate', 'chocolate', 'Pringles', 'snickers', 'chocolate', 'Kinder bueno', 'sushi', 'mint chocolate', 'fruit', 'dried mango', 'dark chocolate', 'too complicated', 'snickers', 'Rocher']\n",
      "\n",
      "\n",
      "The favorite animals were: ['cat', 'lizard', 'coral', 'elephant', 'barred owl', 'groundhog']\n"
     ]
    }
   ],
   "source": [
    "print('The favorite movies were: %s' %movies)\n",
    "print('\\n')\n",
    "print('The favorite snacks were: %s'%snacks)\n",
    "print('\\n')\n",
    "print('The favorite animals were: %s' %animals)"
   ]
  },
  {
   "cell_type": "markdown",
   "metadata": {
    "slideshow": {
     "slide_type": "subslide"
    }
   },
   "source": [
    "Initially we might want to `count` how many responses there were. We can achieve this via our old friend the `len` `function`. If we want to also check if we got responses from all 19 participants of our sample population, we can directly use `comparisons`.  "
   ]
  },
  {
   "cell_type": "code",
   "execution_count": 120,
   "metadata": {
    "slideshow": {
     "slide_type": "fragment"
    }
   },
   "outputs": [
    {
     "name": "stdout",
     "output_type": "stream",
     "text": [
      "Regarding movies there were 19 responses\n",
      "We got responses from all participants: True\n"
     ]
    }
   ],
   "source": [
    "print('Regarding movies there were %s responses' %len(movies))\n",
    "print('We got responses from all participants: %s' %str(len(movies)==19))"
   ]
  },
  {
   "cell_type": "markdown",
   "metadata": {
    "slideshow": {
     "slide_type": "subslide"
    }
   },
   "source": [
    "We can do the same for `snacks` and `animals`:"
   ]
  },
  {
   "cell_type": "code",
   "execution_count": 121,
   "metadata": {
    "slideshow": {
     "slide_type": "fragment"
    }
   },
   "outputs": [
    {
     "name": "stdout",
     "output_type": "stream",
     "text": [
      "Regarding snacks there were 19 responses\n",
      "We got responses from all participants: True\n"
     ]
    }
   ],
   "source": [
    "print('Regarding snacks there were %s responses' %len(snacks))\n",
    "print('We got responses from all participants: %s' %str(len(snacks)==19))"
   ]
  },
  {
   "cell_type": "code",
   "execution_count": 122,
   "metadata": {
    "slideshow": {
     "slide_type": "fragment"
    }
   },
   "outputs": [
    {
     "name": "stdout",
     "output_type": "stream",
     "text": [
      "Regarding animals there were 6 responses\n",
      "We got responses from all participants: False\n"
     ]
    }
   ],
   "source": [
    "print('Regarding animals there were %s responses' %len(animals))\n",
    "print('We got responses from all participants: %s' %str(len(animals)==19))"
   ]
  },
  {
   "cell_type": "markdown",
   "metadata": {
    "slideshow": {
     "slide_type": "subslide"
    }
   },
   "source": [
    "Another thing we might want to check is the number of `unique` responses, that is if some `values` in our `list` appear multiple times and we might also want to get these `values`.  In `python` we have various ways to do this, most often you'll see (and most likely use) `set` and `numpy`'s `unique` `functions`. While the first is another example of in-built `python functions` that don't need to be `imported`, the second is a `function` of the `numpy` `module`. They however can achieve the same goal, that is getting us the number of `unique` `values`. "
   ]
  },
  {
   "cell_type": "code",
   "execution_count": 123,
   "metadata": {
    "slideshow": {
     "slide_type": "fragment"
    }
   },
   "outputs": [
    {
     "name": "stdout",
     "output_type": "stream",
     "text": [
      "There are 17 unique responses regarding movies\n"
     ]
    }
   ],
   "source": [
    "print('There are %s unique responses regarding movies' %len(set(movies)))"
   ]
  },
  {
   "cell_type": "code",
   "execution_count": 124,
   "metadata": {
    "slideshow": {
     "slide_type": "fragment"
    }
   },
   "outputs": [
    {
     "name": "stdout",
     "output_type": "stream",
     "text": [
      "There are 17 unique responses regarding movies\n"
     ]
    }
   ],
   "source": [
    "import numpy as np\n",
    "print('There are %s unique responses regarding movies' %len(np.unique(movies)))"
   ]
  },
  {
   "cell_type": "markdown",
   "metadata": {
    "slideshow": {
     "slide_type": "subslide"
    }
   },
   "source": [
    "The `function`s themselves will also give us the `list` of `unique` `values`:"
   ]
  },
  {
   "cell_type": "code",
   "execution_count": 125,
   "metadata": {
    "slideshow": {
     "slide_type": "fragment"
    }
   },
   "outputs": [
    {
     "name": "stdout",
     "output_type": "stream",
     "text": [
      "The unique responses regarding movies were:  ['Call Me by Your Name' 'Fight Club' 'Forrest Gump' 'Harry Potter'\n",
      " 'Harry Potter and the Halfblood Prince' 'Inception' 'Interstellar'\n",
      " 'James Bond' 'Lord of the Rings - The Two Towers' 'Love actually'\n",
      " 'Retired Extremely Dangerous' 'Shindlers List' 'Shutter Island'\n",
      " 'The Great Gatsby' 'The Imitation Game' 'The Philosophers'\n",
      " 'The_Intouchables']\n"
     ]
    }
   ],
   "source": [
    "import numpy as np\n",
    "print('The unique responses regarding movies were:  %s' %np.unique(movies))"
   ]
  },
  {
   "cell_type": "markdown",
   "metadata": {
    "slideshow": {
     "slide_type": "subslide"
    }
   },
   "source": [
    "Doing the same for `snacks` and `animals` again is straightforward:"
   ]
  },
  {
   "cell_type": "code",
   "execution_count": 126,
   "metadata": {
    "slideshow": {
     "slide_type": "fragment"
    }
   },
   "outputs": [
    {
     "name": "stdout",
     "output_type": "stream",
     "text": [
      "There are 16 unique responses regarding snacks\n",
      "The unique responses regarding snacks were:  ['Banana' 'Kinder bueno' 'Pringles' 'Rocher' 'carrots' 'chocolate'\n",
      " 'dark chocolate' 'dominoes' 'dried mango' 'fruit' 'hummus'\n",
      " 'mint chocolate' 'pancakes' 'snickers' 'sushi' 'too complicated']\n"
     ]
    }
   ],
   "source": [
    "print('There are %s unique responses regarding snacks' %len(np.unique(snacks)))\n",
    "print('The unique responses regarding snacks were:  %s' %np.unique(snacks))"
   ]
  },
  {
   "cell_type": "code",
   "execution_count": 127,
   "metadata": {
    "slideshow": {
     "slide_type": "fragment"
    }
   },
   "outputs": [
    {
     "name": "stdout",
     "output_type": "stream",
     "text": [
      "There are 6 unique responses regarding animals\n",
      "The unique responses regarding animals were:  ['barred owl' 'cat' 'coral' 'elephant' 'groundhog' 'lizard']\n"
     ]
    }
   ],
   "source": [
    "print('There are %s unique responses regarding animals' %len(np.unique(animals)))\n",
    "print('The unique responses regarding animals were:  %s' %np.unique(animals))"
   ]
  },
  {
   "cell_type": "markdown",
   "metadata": {
    "slideshow": {
     "slide_type": "subslide"
    }
   },
   "source": [
    "##### In-built functions\n",
    "\n",
    "As indicated before, `list`s have a great set of in-built functions that allow to perform various `operations`/`transformations` on them: `sort`, `append`, `insert` and `remove`. Please note, as these `function`s are part of the `data type` \"`list`\", you don't prepend (`sort(list)`) but append them: `list.sort()`, `list.append()`, `list.insert()` and `list.remove()`.  \n",
    "\n",
    "Lets start with `sort` which, as you might have expected, will `sort` our `list`."
   ]
  },
  {
   "cell_type": "code",
   "execution_count": 128,
   "metadata": {
    "slideshow": {
     "slide_type": "subslide"
    }
   },
   "outputs": [
    {
     "data": {
      "text/plain": [
       "['Call Me by Your Name',\n",
       " 'Fight Club',\n",
       " 'Forrest Gump',\n",
       " 'Harry Potter',\n",
       " 'Harry Potter and the Halfblood Prince',\n",
       " 'Inception',\n",
       " 'Inception',\n",
       " 'Interstellar',\n",
       " 'James Bond',\n",
       " 'Lord of the Rings - The Two Towers',\n",
       " 'Love actually',\n",
       " 'Retired Extremely Dangerous',\n",
       " 'Shindlers List',\n",
       " 'Shutter Island',\n",
       " 'Shutter Island',\n",
       " 'The Great Gatsby',\n",
       " 'The Imitation Game',\n",
       " 'The Philosophers',\n",
       " 'The_Intouchables']"
      ]
     },
     "execution_count": 128,
     "metadata": {},
     "output_type": "execute_result"
    }
   ],
   "source": [
    "movies.sort()\n",
    "movies"
   ]
  },
  {
   "cell_type": "markdown",
   "metadata": {
    "slideshow": {
     "slide_type": "fragment"
    }
   },
   "source": [
    "Please note that our `list` is modified/changed in-place. While it's nice to not have to do a new `assignment`, this can become problematic if the `index` is of relevance!"
   ]
  },
  {
   "cell_type": "markdown",
   "metadata": {
    "slideshow": {
     "slide_type": "subslide"
    }
   },
   "source": [
    "`.sort()` also allows you to specify _how_ the `list` should be sorted: `ascending` or `descending`. This is controlled via the `reverse` argument of the `.sort()` `function`. By default, `list`s are sorted in an `descending` order. If you want to sort your `list` in an `ascending` order you have to set the `reverse` argument to `True`: `list.sort(reverse=True)`."
   ]
  },
  {
   "cell_type": "code",
   "execution_count": 129,
   "metadata": {
    "slideshow": {
     "slide_type": "fragment"
    }
   },
   "outputs": [
    {
     "data": {
      "text/plain": [
       "['The_Intouchables',\n",
       " 'The Philosophers',\n",
       " 'The Imitation Game',\n",
       " 'The Great Gatsby',\n",
       " 'Shutter Island',\n",
       " 'Shutter Island',\n",
       " 'Shindlers List',\n",
       " 'Retired Extremely Dangerous',\n",
       " 'Love actually',\n",
       " 'Lord of the Rings - The Two Towers',\n",
       " 'James Bond',\n",
       " 'Interstellar',\n",
       " 'Inception',\n",
       " 'Inception',\n",
       " 'Harry Potter and the Halfblood Prince',\n",
       " 'Harry Potter',\n",
       " 'Forrest Gump',\n",
       " 'Fight Club',\n",
       " 'Call Me by Your Name']"
      ]
     },
     "execution_count": 129,
     "metadata": {},
     "output_type": "execute_result"
    }
   ],
   "source": [
    "movies.sort(reverse=True)\n",
    "movies"
   ]
  },
  {
   "cell_type": "markdown",
   "metadata": {
    "slideshow": {
     "slide_type": "subslide"
    }
   },
   "source": [
    "We of course also want to sort our `list`s of `snacks` and `animals`:"
   ]
  },
  {
   "cell_type": "code",
   "execution_count": 130,
   "metadata": {
    "slideshow": {
     "slide_type": "fragment"
    }
   },
   "outputs": [
    {
     "data": {
      "text/plain": [
       "['Banana',\n",
       " 'Kinder bueno',\n",
       " 'Pringles',\n",
       " 'Rocher',\n",
       " 'carrots',\n",
       " 'chocolate',\n",
       " 'chocolate',\n",
       " 'chocolate',\n",
       " 'dark chocolate',\n",
       " 'dominoes',\n",
       " 'dried mango',\n",
       " 'fruit',\n",
       " 'hummus',\n",
       " 'mint chocolate',\n",
       " 'pancakes',\n",
       " 'snickers',\n",
       " 'snickers',\n",
       " 'sushi',\n",
       " 'too complicated']"
      ]
     },
     "execution_count": 130,
     "metadata": {},
     "output_type": "execute_result"
    }
   ],
   "source": [
    "snacks.sort()\n",
    "snacks"
   ]
  },
  {
   "cell_type": "code",
   "execution_count": 131,
   "metadata": {
    "slideshow": {
     "slide_type": "fragment"
    }
   },
   "outputs": [
    {
     "data": {
      "text/plain": [
       "['barred owl', 'cat', 'coral', 'elephant', 'groundhog', 'lizard']"
      ]
     },
     "execution_count": 131,
     "metadata": {},
     "output_type": "execute_result"
    }
   ],
   "source": [
    "animals.sort()\n",
    "animals"
   ]
  },
  {
   "cell_type": "markdown",
   "metadata": {
    "slideshow": {
     "slide_type": "subslide"
    }
   },
   "source": [
    "Lets assume we got new data from two participants and thus need to update our `list`, we can simply use `.append()` to, well, append or add these new entries:"
   ]
  },
  {
   "cell_type": "code",
   "execution_count": 132,
   "metadata": {
    "slideshow": {
     "slide_type": "fragment"
    }
   },
   "outputs": [
    {
     "data": {
      "text/plain": [
       "['The_Intouchables',\n",
       " 'The Philosophers',\n",
       " 'The Imitation Game',\n",
       " 'The Great Gatsby',\n",
       " 'Shutter Island',\n",
       " 'Shutter Island',\n",
       " 'Shindlers List',\n",
       " 'Retired Extremely Dangerous',\n",
       " 'Love actually',\n",
       " 'Lord of the Rings - The Two Towers',\n",
       " 'James Bond',\n",
       " 'Interstellar',\n",
       " 'Inception',\n",
       " 'Inception',\n",
       " 'Harry Potter and the Halfblood Prince',\n",
       " 'Harry Potter',\n",
       " 'Forrest Gump',\n",
       " 'Fight Club',\n",
       " 'Call Me by Your Name',\n",
       " 'My Neighbor Totoro']"
      ]
     },
     "execution_count": 132,
     "metadata": {},
     "output_type": "execute_result"
    }
   ],
   "source": [
    "movies.append('My Neighbor Totoro')\n",
    "movies"
   ]
  },
  {
   "cell_type": "markdown",
   "metadata": {
    "slideshow": {
     "slide_type": "subslide"
    }
   },
   "source": [
    "We obviously do the same for `snacks` and `animals` again:"
   ]
  },
  {
   "cell_type": "code",
   "execution_count": 133,
   "metadata": {
    "slideshow": {
     "slide_type": "fragment"
    }
   },
   "outputs": [
    {
     "data": {
      "text/plain": [
       "['Banana',\n",
       " 'Kinder bueno',\n",
       " 'Pringles',\n",
       " 'Rocher',\n",
       " 'carrots',\n",
       " 'chocolate',\n",
       " 'chocolate',\n",
       " 'chocolate',\n",
       " 'dark chocolate',\n",
       " 'dominoes',\n",
       " 'dried mango',\n",
       " 'fruit',\n",
       " 'hummus',\n",
       " 'mint chocolate',\n",
       " 'pancakes',\n",
       " 'snickers',\n",
       " 'snickers',\n",
       " 'sushi',\n",
       " 'too complicated',\n",
       " 'Wasabi Peanuts']"
      ]
     },
     "execution_count": 133,
     "metadata": {},
     "output_type": "execute_result"
    }
   ],
   "source": [
    "snacks.append('Wasabi Peanuts')\n",
    "snacks"
   ]
  },
  {
   "cell_type": "code",
   "execution_count": 134,
   "metadata": {
    "slideshow": {
     "slide_type": "fragment"
    }
   },
   "outputs": [
    {
     "data": {
      "text/plain": [
       "['barred owl', 'cat', 'coral', 'elephant', 'groundhog', 'lizard', 'bear']"
      ]
     },
     "execution_count": 134,
     "metadata": {},
     "output_type": "execute_result"
    }
   ],
   "source": [
    "animals.append('bear')\n",
    "animals"
   ]
  },
  {
   "cell_type": "markdown",
   "metadata": {
    "slideshow": {
     "slide_type": "subslide"
    }
   },
   "source": [
    "Should the `index` of the new `value` be important, you have to use `.insert` as `.append` will only ever, you guessed it: append. The `.insert` `functions` takes two `arguments`, the `index` where a new `value` should be inserted and the `value` that should be inserted: `list.insert(index, value)`. The `index` of the subsequent `values` will shift +1 accordingly. Assuming, we want to add a new `value` at the `third index` of each of our `list`s, this how we would do that:"
   ]
  },
  {
   "cell_type": "code",
   "execution_count": 135,
   "metadata": {
    "slideshow": {
     "slide_type": "fragment"
    }
   },
   "outputs": [
    {
     "name": "stdout",
     "output_type": "stream",
     "text": [
      "['The_Intouchables', 'The Philosophers', 'The Big Lebowski', 'The Imitation Game', 'The Great Gatsby', 'Shutter Island', 'Shutter Island', 'Shindlers List', 'Retired Extremely Dangerous', 'Love actually', 'Lord of the Rings - The Two Towers', 'James Bond', 'Interstellar', 'Inception', 'Inception', 'Harry Potter and the Halfblood Prince', 'Harry Potter', 'Forrest Gump', 'Fight Club', 'Call Me by Your Name', 'My Neighbor Totoro']\n"
     ]
    }
   ],
   "source": [
    "movies.insert(2, 'The Big Lebowski')\n",
    "print(movies)"
   ]
  },
  {
   "cell_type": "code",
   "execution_count": 136,
   "metadata": {
    "slideshow": {
     "slide_type": "subslide"
    }
   },
   "outputs": [
    {
     "name": "stdout",
     "output_type": "stream",
     "text": [
      "['Banana', 'Kinder bueno', 'PB&J', 'Pringles', 'Rocher', 'carrots', 'chocolate', 'chocolate', 'chocolate', 'dark chocolate', 'dominoes', 'dried mango', 'fruit', 'hummus', 'mint chocolate', 'pancakes', 'snickers', 'snickers', 'sushi', 'too complicated', 'Wasabi Peanuts']\n"
     ]
    }
   ],
   "source": [
    "snacks.insert(2, 'PB&J')\n",
    "print(snacks)"
   ]
  },
  {
   "cell_type": "code",
   "execution_count": 137,
   "metadata": {
    "slideshow": {
     "slide_type": "fragment"
    }
   },
   "outputs": [
    {
     "name": "stdout",
     "output_type": "stream",
     "text": [
      "['barred owl', 'cat', 'Manatee', 'coral', 'elephant', 'groundhog', 'lizard', 'bear']\n"
     ]
    }
   ],
   "source": [
    "animals.insert(2, 'Manatee')\n",
    "print(animals)"
   ]
  },
  {
   "cell_type": "markdown",
   "metadata": {
    "slideshow": {
     "slide_type": "subslide"
    }
   },
   "source": [
    "If you want to change the `value` of a `list` `element` (e.g. you noticed an error and need to change the `value`), you can do that directly by `assigning` a new `value` to the `element` at the given `index`:"
   ]
  },
  {
   "cell_type": "code",
   "execution_count": 138,
   "metadata": {
    "slideshow": {
     "slide_type": "fragment"
    }
   },
   "outputs": [
    {
     "name": "stdout",
     "output_type": "stream",
     "text": [
      "The element at index 15 of the list movies is: Harry Potter and the Halfblood Prince\n",
      "\n",
      "It is now Harry Potter and the Python-Prince\n",
      "\n",
      "['The_Intouchables', 'The Philosophers', 'The Big Lebowski', 'The Imitation Game', 'The Great Gatsby', 'Shutter Island', 'Shutter Island', 'Shindlers List', 'Retired Extremely Dangerous', 'Love actually', 'Lord of the Rings - The Two Towers', 'James Bond', 'Interstellar', 'Inception', 'Inception', 'Harry Potter and the Python-Prince', 'Harry Potter', 'Forrest Gump', 'Fight Club', 'Call Me by Your Name', 'My Neighbor Totoro']\n"
     ]
    }
   ],
   "source": [
    "print('The element at index 15 of the list movies is: %s\\n' %movies[15])\n",
    "movies[15] = 'Harry Potter and the Python-Prince'\n",
    "print('It is now %s\\n' %movies[15])\n",
    "print(movies)"
   ]
  },
  {
   "cell_type": "markdown",
   "metadata": {
    "slideshow": {
     "slide_type": "fragment"
    }
   },
   "source": [
    "Please note that this is final and the original `value` overwritten. The characteristic of modifying `lists` by `assigning` new `values` to `elements` in the `list` is called `mutable` in technical jargon."
   ]
  },
  {
   "cell_type": "markdown",
   "metadata": {
    "slideshow": {
     "slide_type": "subslide"
    }
   },
   "source": [
    "If you want to remove an `element` of a given `list` (e.g. you noticed there are unwanted duplicates, etc.), you basically have two options `list.remove(element)` and `del list[index]` and which one you have to use depends on the goal. As you can see `.remove(element)` expects the `element` that should be removed from the `list`, that is the `element` with the specified `value`. For example, if we want to remove the duplicate `Shutter Island`, we can do the following:  "
   ]
  },
  {
   "cell_type": "code",
   "execution_count": 139,
   "metadata": {
    "slideshow": {
     "slide_type": "fragment"
    }
   },
   "outputs": [
    {
     "name": "stdout",
     "output_type": "stream",
     "text": [
      "['The_Intouchables', 'The Philosophers', 'The Big Lebowski', 'The Imitation Game', 'The Great Gatsby', 'Shutter Island', 'Shindlers List', 'Retired Extremely Dangerous', 'Love actually', 'Lord of the Rings - The Two Towers', 'James Bond', 'Interstellar', 'Inception', 'Inception', 'Harry Potter and the Python-Prince', 'Harry Potter', 'Forrest Gump', 'Fight Club', 'Call Me by Your Name', 'My Neighbor Totoro']\n"
     ]
    }
   ],
   "source": [
    "movies.remove(\"Shutter Island\")\n",
    "print(movies)"
   ]
  },
  {
   "cell_type": "markdown",
   "metadata": {
    "slideshow": {
     "slide_type": "fragment"
    }
   },
   "source": [
    "As you can see, only one \"Shutter Island\" is removed and not both, this is because `.remove(element)` only removes the first `element` of the `specified` value. Thus, if there are more `elements` you want to remove, the `del` `function` could be more handy.  "
   ]
  },
  {
   "cell_type": "markdown",
   "metadata": {
    "slideshow": {
     "slide_type": "subslide"
    }
   },
   "source": [
    "You may have noticed that the `del` `function` expects the `index` of the `element` that should be removed from the `list`. Thus, if we, for example, want to remove the duplicate `Inception`, we can also achieve that via the following: "
   ]
  },
  {
   "cell_type": "code",
   "execution_count": 140,
   "metadata": {
    "slideshow": {
     "slide_type": "fragment"
    }
   },
   "outputs": [
    {
     "name": "stdout",
     "output_type": "stream",
     "text": [
      "['The_Intouchables', 'The Philosophers', 'The Big Lebowski', 'The Imitation Game', 'The Great Gatsby', 'Shutter Island', 'Shindlers List', 'Retired Extremely Dangerous', 'Love actually', 'Lord of the Rings - The Two Towers', 'James Bond', 'Interstellar', 'Inception', 'Harry Potter and the Python-Prince', 'Harry Potter', 'Forrest Gump', 'Fight Club', 'Call Me by Your Name', 'My Neighbor Totoro']\n"
     ]
    }
   ],
   "source": [
    "del movies[12]\n",
    "print(movies)"
   ]
  },
  {
   "cell_type": "markdown",
   "metadata": {
    "slideshow": {
     "slide_type": "subslide"
    }
   },
   "source": [
    "If there are multiple `elements` you want to remove, you can make use of `slicing` again. For example, our `snack` `list` has multiple `elements` with the `value` `chocolate`. Nothing against `chocolate`, but you might want to have this `value` only once in our `list`. To achieve that, we basically combine `slicing` and `del` via indicating what `indices` should be removed:"
   ]
  },
  {
   "cell_type": "code",
   "execution_count": 141,
   "metadata": {
    "slideshow": {
     "slide_type": "fragment"
    }
   },
   "outputs": [
    {
     "name": "stdout",
     "output_type": "stream",
     "text": [
      "['Banana', 'Kinder bueno', 'PB&J', 'Pringles', 'Rocher', 'carrots', 'chocolate', 'dark chocolate', 'dominoes', 'dried mango', 'fruit', 'hummus', 'mint chocolate', 'pancakes', 'snickers', 'snickers', 'sushi', 'too complicated', 'Wasabi Peanuts']\n"
     ]
    }
   ],
   "source": [
    "del snacks[7:9]\n",
    "print(snacks)"
   ]
  },
  {
   "cell_type": "markdown",
   "metadata": {
    "slideshow": {
     "slide_type": "subslide"
    }
   },
   "source": [
    "`List`s play a very important role in `python` and are for example used in `loops` and other `flow control structures` (discussed in the next session). There are a number of convenient `functions` for generating `list`s of various `types`, for example, the `range` function (note that in Python 3 `range` creates a generator, so you have to use the `list` `function` to convert the output to a `list`). Creating a `list` that ranges from `10` to `50` advancing in steps of `2` is as easy as:"
   ]
  },
  {
   "cell_type": "code",
   "execution_count": 142,
   "metadata": {
    "slideshow": {
     "slide_type": "fragment"
    }
   },
   "outputs": [
    {
     "data": {
      "text/plain": [
       "[10,\n",
       " 12,\n",
       " 14,\n",
       " 16,\n",
       " 18,\n",
       " 20,\n",
       " 22,\n",
       " 24,\n",
       " 26,\n",
       " 28,\n",
       " 30,\n",
       " 32,\n",
       " 34,\n",
       " 36,\n",
       " 38,\n",
       " 40,\n",
       " 42,\n",
       " 44,\n",
       " 46,\n",
       " 48]"
      ]
     },
     "execution_count": 142,
     "metadata": {},
     "output_type": "execute_result"
    }
   ],
   "source": [
    "start = 10\n",
    "stop = 50\n",
    "step = 2\n",
    "\n",
    "list(range(start, stop, step))"
   ]
  },
  {
   "cell_type": "markdown",
   "metadata": {
    "slideshow": {
     "slide_type": "subslide"
    }
   },
   "source": [
    "This can be very handy if you want to create `participant list`s and/or `condition list`s for your experiment and/or analyzes."
   ]
  },
  {
   "cell_type": "markdown",
   "metadata": {
    "slideshow": {
     "slide_type": "subslide"
    }
   },
   "source": [
    "##### Exercise 6.1 \n",
    "\n",
    "Create a `variable` called `rare_animals` that stores the following `values`: 'Addax', 'Black-footed Ferret', 'Northern Bald Ibis', 'Cross River Gorilla', 'Saola', 'Amur Leopard', 'Philippine Crocodile', 'Sumatran Rhino', 'South China Tiger', 'Vaquita'. After that, please count how many `elements` the `list` has and provide the info within the following statement: \"There are [insert number of elements here] animals in the list.\"     "
   ]
  },
  {
   "cell_type": "code",
   "execution_count": null,
   "metadata": {
    "solution2": "hidden",
    "solution2_first": true
   },
   "outputs": [],
   "source": [
    "# Please write your solution here"
   ]
  },
  {
   "cell_type": "code",
   "execution_count": null,
   "metadata": {
    "solution2": "hidden"
   },
   "outputs": [],
   "source": [
    "rare_animals = ['Addax', 'Black-footed Ferret', 'Northern Bald Ibis', 'Cross River Gorilla', 'Saola', 'Amur Leopard', 'Philippine Crocodile', 'Sumatran Rhino', 'South China Tiger', 'Vaquita']\n",
    "print(\"There are %s animals in the list.\" %len(rare_animals))"
   ]
  },
  {
   "cell_type": "markdown",
   "metadata": {
    "slideshow": {
     "slide_type": "subslide"
    }
   },
   "source": [
    "##### Exercise 6.2\n",
    "\n",
    "Please add 'Manatee' to the list and subsequently evaluate how many unique `elements` the list has. "
   ]
  },
  {
   "cell_type": "code",
   "execution_count": null,
   "metadata": {
    "solution2": "hidden",
    "solution2_first": true
   },
   "outputs": [],
   "source": [
    "# Please write your solution here"
   ]
  },
  {
   "cell_type": "code",
   "execution_count": null,
   "metadata": {
    "solution2": "hidden"
   },
   "outputs": [],
   "source": [
    "rare_animals.append('Manatee')\n",
    "len(set(rare_animals))"
   ]
  },
  {
   "cell_type": "markdown",
   "metadata": {
    "slideshow": {
     "slide_type": "subslide"
    }
   },
   "source": [
    "##### Exercise 6.3\n",
    "\n",
    "Learning that the `manatee` is not endangered anymore, please remove it from the list. Unfortunately, we have to add \"Giant Panda\". Could you please do that at `index` `3`."
   ]
  },
  {
   "cell_type": "code",
   "execution_count": null,
   "metadata": {
    "solution2": "hidden",
    "solution2_first": true
   },
   "outputs": [],
   "source": [
    "# Please write your solution here"
   ]
  },
  {
   "cell_type": "code",
   "execution_count": null,
   "metadata": {
    "solution2": "hidden"
   },
   "outputs": [],
   "source": [
    "rare_animals.remove('Manatee') # or del rare_animals[11]\n",
    "rare_animals.insert(2, 'Giant Panda')\n",
    "rare_animals"
   ]
  },
  {
   "cell_type": "markdown",
   "metadata": {
    "slideshow": {
     "slide_type": "subslide"
    }
   },
   "source": [
    "### Tuples\n",
    "\n",
    "`Tuples` are like `lists`, except that they cannot be modified once created, that is they are **immutable**. \n",
    "\n",
    "</br>\n",
    "<center><img src=\"https://raw.githubusercontent.com/PeerHerholz/Python_for_Psychologists_Winter2021/master/lecture/static/python_data_types_2.png\"></center>\n",
    "\n",
    "In `python`, `tuples` are created using the syntax `(..., ..., ...)`, or even `..., ...`:"
   ]
  },
  {
   "cell_type": "code",
   "execution_count": 143,
   "metadata": {
    "slideshow": {
     "slide_type": "subslide"
    }
   },
   "outputs": [
    {
     "name": "stdout",
     "output_type": "stream",
     "text": [
      "<class 'tuple'>\n",
      "(10, 20, 'Whoa another thing')\n"
     ]
    }
   ],
   "source": [
    "point = (10, 20, 'Whoa another thing')\n",
    "print(type(point))\n",
    "print(point)"
   ]
  },
  {
   "cell_type": "markdown",
   "metadata": {
    "slideshow": {
     "slide_type": "fragment"
    }
   },
   "source": [
    "`Elements` of `tuples` can also be referenced via their respective `index`:"
   ]
  },
  {
   "cell_type": "code",
   "execution_count": 144,
   "metadata": {},
   "outputs": [
    {
     "name": "stdout",
     "output_type": "stream",
     "text": [
      "10\n",
      "20\n",
      "Whoa another thing\n"
     ]
    }
   ],
   "source": [
    "print(point[0])\n",
    "print(point[1])\n",
    "print(point[2])"
   ]
  },
  {
   "cell_type": "markdown",
   "metadata": {
    "slideshow": {
     "slide_type": "subslide"
    }
   },
   "source": [
    "However, as mentioned above, if we try to `assign` a new `value` to an `element` in a `tuple` we get an `error`:"
   ]
  },
  {
   "cell_type": "code",
   "execution_count": 145,
   "metadata": {
    "slideshow": {
     "slide_type": "fragment"
    }
   },
   "outputs": [
    {
     "name": "stdout",
     "output_type": "stream",
     "text": [
      "TypeError: 'tuple' object does not support item assignment\n"
     ]
    }
   ],
   "source": [
    "try:\n",
    "    point[0] = 20\n",
    "except(TypeError) as er:\n",
    "    print(\"TypeError:\", er)\n",
    "else:\n",
    "    raise"
   ]
  },
  {
   "cell_type": "markdown",
   "metadata": {
    "slideshow": {
     "slide_type": "subslide"
    }
   },
   "source": [
    "Thus, `tuples` also don't have the set of `functions` to modify `elements` `lists` do."
   ]
  },
  {
   "cell_type": "markdown",
   "metadata": {
    "slideshow": {
     "slide_type": "subslide"
    }
   },
   "source": [
    "##### Exercise 7.1\n",
    "\n",
    "Please create a `tuple` called `deep_thought` with the following `values`: 'answer', `42`."
   ]
  },
  {
   "cell_type": "code",
   "execution_count": 146,
   "metadata": {
    "solution2": "hidden",
    "solution2_first": true
   },
   "outputs": [],
   "source": [
    "# Please write your solution here"
   ]
  },
  {
   "cell_type": "code",
   "execution_count": null,
   "metadata": {
    "solution2": "hidden"
   },
   "outputs": [],
   "source": [
    "deep_thought = ('answer', 42)\n",
    "deep_thought"
   ]
  },
  {
   "cell_type": "markdown",
   "metadata": {
    "slideshow": {
     "slide_type": "subslide"
    }
   },
   "source": [
    "### Dictionaries\n",
    "\n",
    "`Dictionaries` are also like `lists`, except that each element is a `key-value pair`. That is, `elements` or `entries` of the `dictionary`, the `values`, can only be assessed via their respective `key` and not via `indexing`, `slicing`, etc. . \n",
    "\n",
    "</br>\n",
    "<center><img src=\"https://raw.githubusercontent.com/PeerHerholz/Python_for_Psychologists_Winter2021/master/lecture/static/python_data_types_2.png\"></center>\n",
    "\n",
    "The syntax for dictionaries is `{key1 : value1, ...}`."
   ]
  },
  {
   "cell_type": "markdown",
   "metadata": {
    "slideshow": {
     "slide_type": "subslide"
    }
   },
   "source": [
    "`Dictionaries` are fantastic if you need to organize your data in a highly `structured` way where a precise mapping of a multiple of `type`s is crucial and `list`s might be insufficient. For example, we want to have the information we assessed above for our `list`s in a detailed and holistic manner. Instead of specifying multiple `list`s and `variables`, we could also create a `dictionary` that comprises all of that information."
   ]
  },
  {
   "cell_type": "code",
   "execution_count": 147,
   "metadata": {
    "slideshow": {
     "slide_type": "fragment"
    }
   },
   "outputs": [
    {
     "name": "stdout",
     "output_type": "stream",
     "text": [
      "<class 'dict'>\n",
      "{'n_responses': 19, 'n_responses_unique': 19, 'responses': ['The_Intouchables', 'The Philosophers', 'The Big Lebowski', 'The Imitation Game', 'The Great Gatsby', 'Shutter Island', 'Shindlers List', 'Retired Extremely Dangerous', 'Love actually', 'Lord of the Rings - The Two Towers', 'James Bond', 'Interstellar', 'Inception', 'Harry Potter and the Python-Prince', 'Harry Potter', 'Forrest Gump', 'Fight Club', 'Call Me by Your Name', 'My Neighbor Totoro']}\n"
     ]
    }
   ],
   "source": [
    "movie_info = {\"n_responses\" :        len(movies),\n",
    "              \"n_responses_unique\" : len(set(movies)),\n",
    "              \"responses\" :          movies}\n",
    "\n",
    "print(type(movie_info))\n",
    "print(movie_info)"
   ]
  },
  {
   "cell_type": "markdown",
   "metadata": {
    "slideshow": {
     "slide_type": "subslide"
    }
   },
   "source": [
    "See how great this is? We have everything in one place and can access the information we need/want via the respective `key`."
   ]
  },
  {
   "cell_type": "code",
   "execution_count": 148,
   "metadata": {
    "slideshow": {
     "slide_type": "fragment"
    }
   },
   "outputs": [
    {
     "data": {
      "text/plain": [
       "19"
      ]
     },
     "execution_count": 148,
     "metadata": {},
     "output_type": "execute_result"
    }
   ],
   "source": [
    "movie_info['n_responses']"
   ]
  },
  {
   "cell_type": "code",
   "execution_count": 149,
   "metadata": {
    "slideshow": {
     "slide_type": "fragment"
    }
   },
   "outputs": [
    {
     "data": {
      "text/plain": [
       "19"
      ]
     },
     "execution_count": 149,
     "metadata": {},
     "output_type": "execute_result"
    }
   ],
   "source": [
    "movie_info['n_responses_unique']"
   ]
  },
  {
   "cell_type": "code",
   "execution_count": 150,
   "metadata": {
    "slideshow": {
     "slide_type": "fragment"
    }
   },
   "outputs": [
    {
     "data": {
      "text/plain": [
       "['The_Intouchables',\n",
       " 'The Philosophers',\n",
       " 'The Big Lebowski',\n",
       " 'The Imitation Game',\n",
       " 'The Great Gatsby',\n",
       " 'Shutter Island',\n",
       " 'Shindlers List',\n",
       " 'Retired Extremely Dangerous',\n",
       " 'Love actually',\n",
       " 'Lord of the Rings - The Two Towers',\n",
       " 'James Bond',\n",
       " 'Interstellar',\n",
       " 'Inception',\n",
       " 'Harry Potter and the Python-Prince',\n",
       " 'Harry Potter',\n",
       " 'Forrest Gump',\n",
       " 'Fight Club',\n",
       " 'Call Me by Your Name',\n",
       " 'My Neighbor Totoro']"
      ]
     },
     "execution_count": 150,
     "metadata": {},
     "output_type": "execute_result"
    }
   ],
   "source": [
    "movie_info['responses']"
   ]
  },
  {
   "cell_type": "markdown",
   "metadata": {
    "slideshow": {
     "slide_type": "subslide"
    }
   },
   "source": [
    "As you can see and mentioned before: like `list`s, each `value` of a `dictionary` can entail various `types`: `integer`, `float`, `string` and even `data types`: `list`s, `tuples`, etc. . However, in contrast to `list`s, we can access `entries` can only via their `key name` and not `indices`:"
   ]
  },
  {
   "cell_type": "code",
   "execution_count": 151,
   "metadata": {
    "slideshow": {
     "slide_type": "fragment"
    }
   },
   "outputs": [
    {
     "ename": "KeyError",
     "evalue": "1",
     "output_type": "error",
     "traceback": [
      "\u001b[0;31m---------------------------------------------------------------------------\u001b[0m",
      "\u001b[0;31mKeyError\u001b[0m                                  Traceback (most recent call last)",
      "Cell \u001b[0;32mIn [151], line 1\u001b[0m\n\u001b[0;32m----> 1\u001b[0m \u001b[43mmovie_info\u001b[49m\u001b[43m[\u001b[49m\u001b[38;5;241;43m1\u001b[39;49m\u001b[43m]\u001b[49m\n",
      "\u001b[0;31mKeyError\u001b[0m: 1"
     ]
    }
   ],
   "source": [
    "movie_info[1]"
   ]
  },
  {
   "cell_type": "markdown",
   "metadata": {
    "slideshow": {
     "slide_type": "fragment"
    }
   },
   "source": [
    "If you try that, you'll get a `KeyError` indicating that the `key` whose `value` you want to access doesn't exist.\n",
    "If you're uncertain about the `keys` in your `dictionary`, you can get a `list` of all of them via `dictionary.keys()`:"
   ]
  },
  {
   "cell_type": "code",
   "execution_count": 152,
   "metadata": {
    "slideshow": {
     "slide_type": "fragment"
    }
   },
   "outputs": [
    {
     "data": {
      "text/plain": [
       "dict_keys(['n_responses', 'n_responses_unique', 'responses'])"
      ]
     },
     "execution_count": 152,
     "metadata": {},
     "output_type": "execute_result"
    }
   ],
   "source": [
    "movie_info.keys()"
   ]
  },
  {
   "cell_type": "markdown",
   "metadata": {
    "slideshow": {
     "slide_type": "subslide"
    }
   },
   "source": [
    "Comparably, if you want to get all the `values`, you can use `dictionary.values()` to obtain a respective `list`:"
   ]
  },
  {
   "cell_type": "code",
   "execution_count": 153,
   "metadata": {
    "slideshow": {
     "slide_type": "fragment"
    }
   },
   "outputs": [
    {
     "data": {
      "text/plain": [
       "dict_values([19, 19, ['The_Intouchables', 'The Philosophers', 'The Big Lebowski', 'The Imitation Game', 'The Great Gatsby', 'Shutter Island', 'Shindlers List', 'Retired Extremely Dangerous', 'Love actually', 'Lord of the Rings - The Two Towers', 'James Bond', 'Interstellar', 'Inception', 'Harry Potter and the Python-Prince', 'Harry Potter', 'Forrest Gump', 'Fight Club', 'Call Me by Your Name', 'My Neighbor Totoro']])"
      ]
     },
     "execution_count": 153,
     "metadata": {},
     "output_type": "execute_result"
    }
   ],
   "source": [
    "movie_info.values()"
   ]
  },
  {
   "cell_type": "markdown",
   "metadata": {
    "slideshow": {
     "slide_type": "subslide"
    }
   },
   "source": [
    "Assuming you want to add new information to your `dictionary`, i.e. a new `key`, this can directly be done via `dictionary[new_key] = value`. For example, you run some stats on our `list` of `movies` and determined that this selection is `significantly awesome` with a `p value` of `0.000001`, we can easily add this to our `dictionary`:"
   ]
  },
  {
   "cell_type": "code",
   "execution_count": 154,
   "metadata": {
    "slideshow": {
     "slide_type": "fragment"
    }
   },
   "outputs": [
    {
     "data": {
      "text/plain": [
       "{'n_responses': 19,\n",
       " 'n_responses_unique': 19,\n",
       " 'responses': ['The_Intouchables',\n",
       "  'The Philosophers',\n",
       "  'The Big Lebowski',\n",
       "  'The Imitation Game',\n",
       "  'The Great Gatsby',\n",
       "  'Shutter Island',\n",
       "  'Shindlers List',\n",
       "  'Retired Extremely Dangerous',\n",
       "  'Love actually',\n",
       "  'Lord of the Rings - The Two Towers',\n",
       "  'James Bond',\n",
       "  'Interstellar',\n",
       "  'Inception',\n",
       "  'Harry Potter and the Python-Prince',\n",
       "  'Harry Potter',\n",
       "  'Forrest Gump',\n",
       "  'Fight Club',\n",
       "  'Call Me by Your Name',\n",
       "  'My Neighbor Totoro'],\n",
       " 'movie_selection_awesome': True,\n",
       " 'movie_selection_awesome_p_value': 1e-06}"
      ]
     },
     "execution_count": 154,
     "metadata": {},
     "output_type": "execute_result"
    }
   ],
   "source": [
    "movie_info['movie_selection_awesome'] = True\n",
    "movie_info['movie_selection_awesome_p_value'] = 0.000001\n",
    "movie_info"
   ]
  },
  {
   "cell_type": "markdown",
   "metadata": {
    "slideshow": {
     "slide_type": "subslide"
    }
   },
   "source": [
    "As with `list`s, the `value` of a given `element`, here `entry` can be modified and deleted. This means they are `mutable`. If we for example forgot to correct our `p value` for `multiple comparisons`, we can simply overwrite the original with corrected one: "
   ]
  },
  {
   "cell_type": "code",
   "execution_count": 155,
   "metadata": {},
   "outputs": [
    {
     "data": {
      "text/plain": [
       "{'n_responses': 19,\n",
       " 'n_responses_unique': 19,\n",
       " 'responses': ['The_Intouchables',\n",
       "  'The Philosophers',\n",
       "  'The Big Lebowski',\n",
       "  'The Imitation Game',\n",
       "  'The Great Gatsby',\n",
       "  'Shutter Island',\n",
       "  'Shindlers List',\n",
       "  'Retired Extremely Dangerous',\n",
       "  'Love actually',\n",
       "  'Lord of the Rings - The Two Towers',\n",
       "  'James Bond',\n",
       "  'Interstellar',\n",
       "  'Inception',\n",
       "  'Harry Potter and the Python-Prince',\n",
       "  'Harry Potter',\n",
       "  'Forrest Gump',\n",
       "  'Fight Club',\n",
       "  'Call Me by Your Name',\n",
       "  'My Neighbor Totoro'],\n",
       " 'movie_selection_awesome': True,\n",
       " 'movie_selection_awesome_p_value': 0.001}"
      ]
     },
     "execution_count": 155,
     "metadata": {},
     "output_type": "execute_result"
    }
   ],
   "source": [
    "movie_info['movie_selection_awesome_p_value'] = 0.001\n",
    "movie_info"
   ]
  },
  {
   "cell_type": "markdown",
   "metadata": {
    "slideshow": {
     "slide_type": "subslide"
    }
   },
   "source": [
    "Assuming we then want to delete the `p value` from our `dictionary` because we remembered that the sole focus on `significance` and `p values` brought the entirety of science down to a very bad place, we can achieve this via:"
   ]
  },
  {
   "cell_type": "code",
   "execution_count": 156,
   "metadata": {
    "slideshow": {
     "slide_type": "fragment"
    }
   },
   "outputs": [
    {
     "data": {
      "text/plain": [
       "{'n_responses': 19,\n",
       " 'n_responses_unique': 19,\n",
       " 'responses': ['The_Intouchables',\n",
       "  'The Philosophers',\n",
       "  'The Big Lebowski',\n",
       "  'The Imitation Game',\n",
       "  'The Great Gatsby',\n",
       "  'Shutter Island',\n",
       "  'Shindlers List',\n",
       "  'Retired Extremely Dangerous',\n",
       "  'Love actually',\n",
       "  'Lord of the Rings - The Two Towers',\n",
       "  'James Bond',\n",
       "  'Interstellar',\n",
       "  'Inception',\n",
       "  'Harry Potter and the Python-Prince',\n",
       "  'Harry Potter',\n",
       "  'Forrest Gump',\n",
       "  'Fight Club',\n",
       "  'Call Me by Your Name',\n",
       "  'My Neighbor Totoro'],\n",
       " 'movie_selection_awesome': True}"
      ]
     },
     "execution_count": 156,
     "metadata": {},
     "output_type": "execute_result"
    }
   ],
   "source": [
    "del movie_info['movie_selection_awesome_p_value']\n",
    "movie_info"
   ]
  },
  {
   "cell_type": "markdown",
   "metadata": {
    "slideshow": {
     "slide_type": "subslide"
    }
   },
   "source": [
    "##### Exercise 8.1\n",
    "\n",
    "Oh damn, we completely forgot to create a comparable `dictionary` for our `snacks` `list`. How would create one that follows the example from the `movie` `list`? NB: you can skip the `p value` right away: "
   ]
  },
  {
   "cell_type": "code",
   "execution_count": null,
   "metadata": {
    "solution2": "hidden",
    "solution2_first": true
   },
   "outputs": [],
   "source": [
    "# Please write your solution here"
   ]
  },
  {
   "cell_type": "code",
   "execution_count": null,
   "metadata": {
    "solution2": "hidden"
   },
   "outputs": [],
   "source": [
    "snack_info = {\"n_responses\" :            len(snacks),\n",
    "              \"n_responses_unique\" :     len(set(snacks)),\n",
    "              \"responses\" :              snacks,\n",
    "              \"snack_selection_awesome\": True}\n",
    "\n",
    "print(type(snack_info))\n",
    "print(snack_info)"
   ]
  },
  {
   "cell_type": "markdown",
   "metadata": {
    "slideshow": {
     "slide_type": "subslide"
    }
   },
   "source": [
    "##### Exercise 8.2 \n",
    "\n",
    "Obviously, we would love to do the same thing for our `list` of `animals` again!"
   ]
  },
  {
   "cell_type": "code",
   "execution_count": null,
   "metadata": {
    "solution2": "hidden",
    "solution2_first": true
   },
   "outputs": [],
   "source": [
    "# Please write your solution here"
   ]
  },
  {
   "cell_type": "code",
   "execution_count": null,
   "metadata": {
    "solution2": "hidden"
   },
   "outputs": [],
   "source": [
    "animal_info = {\"n_responses\" :            len(animals),\n",
    "              \"n_responses_unique\" :      len(set(animals)),\n",
    "              \"responses\" :               animals,\n",
    "              \"animal_selection_awesome\": True}\n",
    "\n",
    "print(type(animal_info))\n",
    "print(animal_info)"
   ]
  },
  {
   "cell_type": "markdown",
   "metadata": {
    "slideshow": {
     "slide_type": "subslide"
    }
   },
   "source": [
    "### Everything is an object in Python\n",
    "\n",
    "* All of these `data types` are actually just `objects` in `python`\n",
    "* *Everything* is an object in `python`!\n",
    "* The `operations` you can perform with a `variable` depend on the `object`'s definition\n",
    "* E.g., the `multiplication operator` `*` is defined for some `objects` but not others\n",
    "\n",
    "</br>\n",
    "<center><img src=\"https://raw.githubusercontent.com/PeerHerholz/Python_for_Psychologists_Winter2021/master/lecture/static/python_data_types_2.png\"></center>"
   ]
  },
  {
   "cell_type": "markdown",
   "metadata": {},
   "source": [
    "# Introduction to Python III"
   ]
  },
  {
   "cell_type": "markdown",
   "metadata": {
    "slideshow": {
     "slide_type": "slide"
    }
   },
   "source": [
    "## Recap of the prior session\n",
    "\n",
    "Before we dive into new endeavors, it might be important to briefly recap the things we've talked about so far. Specifically, we will do this to evaluate if everyone's roughly on the same page. Thus, if some of the aspects within the recap are either new or fuzzy to you, please have a quick look at the respective part of the first section and second section again and as usual: ask questions wherever something is not clear.\n",
    "\n",
    "This recap will cover the following topics from the last sessions:\n",
    "\n",
    "- `variables` and `types`\n",
    "- `operators` and `comparison`\n",
    "- `strings`, `lists` and `dictionaries`"
   ]
  },
  {
   "cell_type": "markdown",
   "metadata": {
    "slideshow": {
     "slide_type": "subslide"
    }
   },
   "source": [
    "### Variables and data types\n",
    "\n",
    "Two session ago we declared several variables. Could you here create a variable for the following:\n",
    "\n",
    "- a variable random_number with a number between 0 and 10\n",
    "- a variable called my_favorite_food indicating your favorite food\n",
    "\n",
    "What data types do each of these variables have?"
   ]
  },
  {
   "cell_type": "code",
   "execution_count": null,
   "metadata": {
    "slideshow": {
     "slide_type": "fragment"
    },
    "solution2": "hidden",
    "solution2_first": true
   },
   "outputs": [],
   "source": [
    "# Please write your solution here"
   ]
  },
  {
   "cell_type": "code",
   "execution_count": null,
   "metadata": {
    "solution2": "hidden"
   },
   "outputs": [],
   "source": [
    "random_number = 7  # integer\n",
    "my_favorite_food = 'pasta'  # string"
   ]
  },
  {
   "cell_type": "markdown",
   "metadata": {
    "slideshow": {
     "slide_type": "subslide"
    }
   },
   "source": [
    "### operators and comparison\n",
    "\n",
    "Please calculate the following and `assign` them to the `variables` `a`, `b`, `c`, etc., if needed:\n",
    "\n",
    "- 10 divided by 3\n",
    "- 6 to the power of 2\n",
    "- 5 times 29 times 48\n",
    "- Update c by adding 10\n",
    "- Update b by dividing it by 5\n",
    "- Is c divisible by 5?\n",
    "- Is a larger than b?\n",
    "- Are c and b equal?"
   ]
  },
  {
   "cell_type": "code",
   "execution_count": null,
   "metadata": {
    "slideshow": {
     "slide_type": "fragment"
    },
    "solution2": "hidden",
    "solution2_first": true
   },
   "outputs": [],
   "source": [
    "# Please write your solution here"
   ]
  },
  {
   "cell_type": "code",
   "execution_count": null,
   "metadata": {
    "solution2": "hidden"
   },
   "outputs": [],
   "source": [
    "a = 10 / 3\n",
    "b = 6 ** 2\n",
    "c = 5 * 29 * 48\n",
    "c += 10\n",
    "b /= 5\n",
    "print('Is c divisible by 5?', c % 5 == 0)\n",
    "print('Is a larger than b?', a > b)\n",
    "print('Are c and b equal?', c == b)"
   ]
  },
  {
   "cell_type": "markdown",
   "metadata": {
    "slideshow": {
     "slide_type": "subslide"
    }
   },
   "source": [
    "### strings, lists and dictionaries\n",
    "\n",
    "You just did an experiment asking 10 people for a random number between 0 and 100. What data structure would you use to store these values within python? \n",
    "Assume the values were: 1; 50; 23; 77; 91; 3; 34; 81; 55; 49. How would you define a variable of your selected data type to store these values?"
   ]
  },
  {
   "cell_type": "code",
   "execution_count": null,
   "metadata": {
    "slideshow": {
     "slide_type": "fragment"
    },
    "solution2": "hidden",
    "solution2_first": true
   },
   "outputs": [],
   "source": [
    "# Please write your solution here"
   ]
  },
  {
   "cell_type": "code",
   "execution_count": null,
   "metadata": {
    "solution2": "hidden"
   },
   "outputs": [],
   "source": [
    "# you would use a list\n",
    "random_numbers = [1, 50, 23, 77, 91, 3, 34, 81, 55, 49]"
   ]
  },
  {
   "cell_type": "markdown",
   "metadata": {
    "slideshow": {
     "slide_type": "subslide"
    }
   },
   "source": [
    "From the above random numbers you now want to calculate the mean an test if it is above. How would you do that?"
   ]
  },
  {
   "cell_type": "code",
   "execution_count": null,
   "metadata": {
    "slideshow": {
     "slide_type": "fragment"
    },
    "solution2": "hidden",
    "solution2_first": true
   },
   "outputs": [],
   "source": [
    "# Please write your solution here"
   ]
  },
  {
   "cell_type": "code",
   "execution_count": null,
   "metadata": {
    "solution2": "hidden"
   },
   "outputs": [],
   "source": [
    "mean_value = (1 + 50 + 23 + 77 + 91 + 3 + 34 + 81 + 55 + 49)/ 10\n",
    "is_above_50 = mean_value > 50"
   ]
  },
  {
   "cell_type": "markdown",
   "metadata": {
    "slideshow": {
     "slide_type": "subslide"
    }
   },
   "source": [
    "Define a variable rand_num_sub_4 that contains the random number from the fourth subject of your experiment and print the statement 'Subject number four picked 77 as random number' thereby acessing your variable. \n",
    "Assign the variable using indexing. Remember: Where do you start to index in Python?"
   ]
  },
  {
   "cell_type": "code",
   "execution_count": null,
   "metadata": {
    "slideshow": {
     "slide_type": "fragment"
    },
    "solution2": "hidden",
    "solution2_first": true
   },
   "outputs": [],
   "source": [
    "# Please write your solution here"
   ]
  },
  {
   "cell_type": "code",
   "execution_count": null,
   "metadata": {
    "solution2": "hidden"
   },
   "outputs": [],
   "source": [
    "rand_num_sub_4 = random_numbers[3]\n",
    "print(f'Subject number four picked {rand_num_sub_4} as random number')"
   ]
  },
  {
   "cell_type": "markdown",
   "metadata": {
    "slideshow": {
     "slide_type": "subslide"
    }
   },
   "source": [
    "Oh no you made several mistakes! Update your list to correct the mistakes.\n",
    "- The random number of the fourth participant wasn't actually 77 but 76. \n",
    "- You forgot to keep track of another participant and actually recorded 11 subjects. You forgot the 8th subject with the number 33. Please insert into your list\n",
    "- You actually don't want people to choose the number 50. Please remove this value from your list"
   ]
  },
  {
   "cell_type": "code",
   "execution_count": null,
   "metadata": {
    "slideshow": {
     "slide_type": "fragment"
    },
    "solution2": "hidden",
    "solution2_first": true
   },
   "outputs": [],
   "source": [
    "# Please write your solution here"
   ]
  },
  {
   "cell_type": "code",
   "execution_count": null,
   "metadata": {
    "solution2": "hidden"
   },
   "outputs": [],
   "source": [
    "random_numbers[3] = 76\n",
    "random_numbers.insert(7, 33)\n",
    "random_numbers.remove(50)\n",
    "print(random_numbers)"
   ]
  },
  {
   "cell_type": "markdown",
   "metadata": {
    "slideshow": {
     "slide_type": "subslide"
    }
   },
   "source": [
    "Instead of only declaring a list containing all the random numbers, you now want to also assign a personal ID to each subject that you asked. In our case this would simply be Sub_1 to Sub_10 for the first, second, etc. subject, respectively. Define a dictionary to store this information. Then print all the keys and also redefine the rand_num_sub_4 variable from before, this time acessing your dictionary."
   ]
  },
  {
   "cell_type": "code",
   "execution_count": null,
   "metadata": {
    "slideshow": {
     "slide_type": "fragment"
    },
    "solution2": "hidden",
    "solution2_first": true
   },
   "outputs": [],
   "source": [
    "# Please write your solution here"
   ]
  },
  {
   "cell_type": "code",
   "execution_count": null,
   "metadata": {
    "solution2": "hidden"
   },
   "outputs": [],
   "source": [
    "random_num_dict = {'Sub_1': 1,\n",
    "                   'Sub_2': 23,\n",
    "                   'Sub_3': 76,\n",
    "                   'Sub_4': 91,\n",
    "                   'Sub_5': 3,\n",
    "                   'Sub_6': 34,\n",
    "                   'Sub_7': 81,\n",
    "                   'Sub_8': 81,\n",
    "                   'Sub_9': 55,\n",
    "                   'Sub_10': 49}\n",
    "\n",
    "print(random_num_dict.keys())\n",
    "\n",
    "rand_num_sub_4 = random_num_dict['Sub_4']"
   ]
  },
  {
   "cell_type": "code",
   "execution_count": null,
   "metadata": {
    "slideshow": {
     "slide_type": "subslide"
    }
   },
   "outputs": [],
   "source": [
    "lord_of_the_rings = \"One Ring to rule them all, One Ring to find them, One Ring to bring them all, and in the darkness bind them.\""
   ]
  },
  {
   "cell_type": "markdown",
   "metadata": {},
   "source": [
    "Above we defined the inscription on the ring from lord of the rings. We also want to create a fantasy saga. But we are little copy cats. Therefore, we want to define a new statement for the lord of the stones, and only replace the word Ring with stone in the above sentence. How would you do that?"
   ]
  },
  {
   "cell_type": "code",
   "execution_count": null,
   "metadata": {
    "slideshow": {
     "slide_type": "fragment"
    },
    "solution2": "hidden",
    "solution2_first": true
   },
   "outputs": [],
   "source": [
    "# Please write your solution here"
   ]
  },
  {
   "cell_type": "code",
   "execution_count": null,
   "metadata": {
    "solution2": "hidden"
   },
   "outputs": [],
   "source": [
    "lord_of_the_stones = lord_of_the_rings.replace('Ring', 'Stone')"
   ]
  },
  {
   "cell_type": "markdown",
   "metadata": {
    "slideshow": {
     "slide_type": "subslide"
    }
   },
   "source": [
    "How long is this statement now compared to before? Also what was at the indices 40 to 45 before and now in your new sentence?"
   ]
  },
  {
   "cell_type": "code",
   "execution_count": null,
   "metadata": {
    "slideshow": {
     "slide_type": "fragment"
    },
    "solution2": "hidden",
    "solution2_first": true
   },
   "outputs": [],
   "source": [
    "# Please write your solution here"
   ]
  },
  {
   "cell_type": "code",
   "execution_count": null,
   "metadata": {
    "solution2": "hidden"
   },
   "outputs": [],
   "source": [
    "print(f'Length before {len(lord_of_the_rings)}, Length now {len(lord_of_the_stones)}')\n",
    "print(f'Word at indices before: {lord_of_the_rings[40:46]}, now: {lord_of_the_stones[40:46]}')"
   ]
  },
  {
   "cell_type": "markdown",
   "metadata": {
    "slideshow": {
     "slide_type": "subslide"
    }
   },
   "source": [
    "You can split a string into a list of words using list.split(' '). This statementn splits the string at the whitespaces and generates a list.\n",
    "Split the lord of the stones string into a list of words, sort it and print the 10th element. "
   ]
  },
  {
   "cell_type": "code",
   "execution_count": null,
   "metadata": {
    "slideshow": {
     "slide_type": "fragment"
    },
    "solution2": "hidden",
    "solution2_first": true
   },
   "outputs": [],
   "source": [
    "# Please write your solution here"
   ]
  },
  {
   "cell_type": "code",
   "execution_count": null,
   "metadata": {
    "solution2": "hidden"
   },
   "outputs": [],
   "source": [
    "splitted_statement = lord_of_the_stones.split(' ')\n",
    "sorted_statement = sorted(splitted_statement)\n",
    "print('The 10th element is:', sorted_statement[9])"
   ]
  },
  {
   "cell_type": "markdown",
   "metadata": {
    "slideshow": {
     "slide_type": "subslide"
    }
   },
   "source": [
    "Alright, thanks for taking the time to go through this recap. Again: if you could solve/answer all questions, you should have the information/knowledge needed for this session."
   ]
  },
  {
   "cell_type": "markdown",
   "metadata": {
    "slideshow": {
     "slide_type": "slide"
    }
   },
   "source": [
    "- [Indentation](#Indentation)\n",
    "- [Control Flow](#Control-Flow)\n",
    "    - [Conditional statements: `if`, `elif`, `else`](#Conditional-statements:-if,-elif,-else)\n",
    "- [Loops](#Loops)\n",
    "    - [`for` loops](#for-loops)\n",
    "    - [`break`, `continue` and `pass`](#break,-continue-and-pass)\n",
    "- [Functions](#Functions)\n",
    "    - [Default argument and keyword arguments](#Default-argument-and-keyword-arguments)\n",
    "    - [`*args` and `*kwargs` parameters](#*args-and-*kwargs-parameters)\n",
    "    - [Unnamed functions: `lambda` function](#Unnamed-functions:-lambda-function)\n",
    "- [Classes](#Classes)\n",
    "- [Modules](#Modules)\n",
    "- [Exceptions](#Exceptions)"
   ]
  },
  {
   "cell_type": "markdown",
   "metadata": {
    "slideshow": {
     "slide_type": "slide"
    }
   },
   "source": [
    "## Indentation & Control Flow"
   ]
  },
  {
   "cell_type": "markdown",
   "metadata": {
    "slideshow": {
     "slide_type": "slide"
    }
   },
   "source": [
    "### Indentation\n",
    "\n",
    "`Python` uses `whitespaces` to define `code blocks`. Using `whitespaces` at the beginning of a line is the `indentation`. This means that a `codeblock` that is `indented` with the same number of leading `whitespaces` or `tabs` should be run together. In other words: the `indentation` is part of the `syntax` in `python` and one of the major distinctions regarding other programming languages like, e.g. `Matlab`.  \n",
    "\n",
    "Usually in `Python` we use `four whitespaces` for `indentation` of `codeblocks`.\n",
    "\n",
    "Let's see what that means:"
   ]
  },
  {
   "cell_type": "code",
   "execution_count": 157,
   "metadata": {
    "slideshow": {
     "slide_type": "subslide"
    }
   },
   "outputs": [],
   "source": [
    "days_til_holidays = 15\n",
    "current_weekday = 'Thursday'"
   ]
  },
  {
   "cell_type": "markdown",
   "metadata": {
    "slideshow": {
     "slide_type": "fragment"
    }
   },
   "source": [
    "Each such set of statements is called a block, meaning that the lines/`variable` assignments will be run together. We will see examples of how blocks are important later on. What happens when we introduce a \"wrong\" `indentation`?"
   ]
  },
  {
   "cell_type": "code",
   "execution_count": 158,
   "metadata": {
    "slideshow": {
     "slide_type": "fragment"
    }
   },
   "outputs": [
    {
     "ename": "IndentationError",
     "evalue": "unexpected indent (3543835938.py, line 2)",
     "output_type": "error",
     "traceback": [
      "\u001b[0;36m  Cell \u001b[0;32mIn [158], line 2\u001b[0;36m\u001b[0m\n\u001b[0;31m    current_day = 'Thursday'\u001b[0m\n\u001b[0m    ^\u001b[0m\n\u001b[0;31mIndentationError\u001b[0m\u001b[0;31m:\u001b[0m unexpected indent\n"
     ]
    }
   ],
   "source": [
    "days_til_holidays = 15\n",
    "  current_day = 'Thursday'"
   ]
  },
  {
   "cell_type": "markdown",
   "metadata": {
    "slideshow": {
     "slide_type": "fragment"
    }
   },
   "source": [
    "One thing you should remember is that a wrong `indentation` raises an `IndentationError`."
   ]
  },
  {
   "cell_type": "markdown",
   "metadata": {
    "slideshow": {
     "slide_type": "slide"
    }
   },
   "source": [
    "### Control Flow & structures\n",
    "\n",
    "* programming language, i.e. `python`, features that allow us to `control` how code is `executed`\n",
    "* Conditionals (`if` - `else` statements statements)\n",
    "* Iteration (e.g., `for`-loops, `while` statements…)\n",
    "* [Read more here](https://docs.python.org/3/tutorial/controlflow.html)"
   ]
  },
  {
   "cell_type": "markdown",
   "metadata": {
    "slideshow": {
     "slide_type": "subslide"
    }
   },
   "source": [
    "#### Conditional statements: if, elif, else\n",
    "\n",
    "The `python syntax` for `conditional execution` of `code` use the keywords `if`, `elif` (else if), `else`:\n",
    "\n",
    "<center><img src=\"https://www.learnbyexample.org/wp-content/uploads/python/Python-elif-Statement-Syntax.png\" width=600></center>\n",
    "<center><small><small><small>https://www.learnbyexample.org/wp-content/uploads/python/Python-elif-Statement-Syntax.png</small></small></small></center>\n"
   ]
  },
  {
   "cell_type": "markdown",
   "metadata": {
    "slideshow": {
     "slide_type": "subslide"
    }
   },
   "source": [
    "<center><img src=\"https://www.alphacodingskills.com/python/img/python-if-elif-else.png\" width=600></center>\n",
    "<center><small><small><small>https://www.alphacodingskills.com/python/img/python-if-elif-else.png</small></small></small></center>"
   ]
  },
  {
   "cell_type": "code",
   "execution_count": 159,
   "metadata": {
    "slideshow": {
     "slide_type": "slide"
    }
   },
   "outputs": [
    {
     "name": "stdout",
     "output_type": "stream",
     "text": [
      "statement1 and statement2 are False\n"
     ]
    }
   ],
   "source": [
    "statement1 = False\n",
    "statement2 = False\n",
    "\n",
    "if statement1:\n",
    "    print(\"statement1 is True\")\n",
    "    \n",
    "elif statement2:\n",
    "    print(\"statement2 is True\")\n",
    "    \n",
    "else:\n",
    "    print(\"statement1 and statement2 are False\")"
   ]
  },
  {
   "cell_type": "markdown",
   "metadata": {
    "slideshow": {
     "slide_type": "slide"
    }
   },
   "source": [
    "For the first time, here we encountered a peculiar and unusual aspect of the Python programming language: Program blocks are defined by their indentation level. In Python, the extent of a code block is defined by the indentation level (usually a tab or say four white spaces). This means that we have to be careful to indent our code correctly, or else we will get syntax errors. \n",
    "\n",
    "**Examples:**"
   ]
  },
  {
   "cell_type": "code",
   "execution_count": 160,
   "metadata": {
    "slideshow": {
     "slide_type": "fragment"
    }
   },
   "outputs": [
    {
     "name": "stdout",
     "output_type": "stream",
     "text": [
      "both statement1 and statement2 are True\n"
     ]
    }
   ],
   "source": [
    "# Good indentation\n",
    "statement1 = statement2 = True\n",
    "\n",
    "if statement1:\n",
    "    if statement2:\n",
    "        print(\"both statement1 and statement2 are True\")"
   ]
  },
  {
   "cell_type": "code",
   "execution_count": 161,
   "metadata": {
    "slideshow": {
     "slide_type": "fragment"
    }
   },
   "outputs": [
    {
     "ename": "IndentationError",
     "evalue": "expected an indented block after 'if' statement on line 3 (3605224920.py, line 4)",
     "output_type": "error",
     "traceback": [
      "\u001b[0;36m  Cell \u001b[0;32mIn [161], line 4\u001b[0;36m\u001b[0m\n\u001b[0;31m    print(\"both statement1 and statement2 are True\")  # this line is not properly indented\u001b[0m\n\u001b[0m    ^\u001b[0m\n\u001b[0;31mIndentationError\u001b[0m\u001b[0;31m:\u001b[0m expected an indented block after 'if' statement on line 3\n"
     ]
    }
   ],
   "source": [
    "# Bad indentation! This would lead to error\n",
    "if statement1:\n",
    "    if statement2:\n",
    "    print(\"both statement1 and statement2 are True\")  # this line is not properly indented"
   ]
  },
  {
   "cell_type": "code",
   "execution_count": 162,
   "metadata": {
    "slideshow": {
     "slide_type": "subslide"
    }
   },
   "outputs": [],
   "source": [
    "statement1 = False \n",
    "\n",
    "if statement1:\n",
    "    print(\"printed if statement1 is True\")\n",
    "    \n",
    "    print(\"still inside the if block\")"
   ]
  },
  {
   "cell_type": "code",
   "execution_count": 163,
   "metadata": {
    "slideshow": {
     "slide_type": "fragment"
    }
   },
   "outputs": [
    {
     "name": "stdout",
     "output_type": "stream",
     "text": [
      "now outside the if block\n"
     ]
    }
   ],
   "source": [
    "if statement1:\n",
    "    print(\"printed if statement1 is True\")\n",
    "    \n",
    "print(\"now outside the if block\")"
   ]
  },
  {
   "cell_type": "code",
   "execution_count": 164,
   "metadata": {
    "slideshow": {
     "slide_type": "fragment"
    }
   },
   "outputs": [
    {
     "name": "stdout",
     "output_type": "stream",
     "text": [
      "printed if either statement1 or statement2 is True\n"
     ]
    }
   ],
   "source": [
    "# We can even combine statements\n",
    "if statement1 and statement2:\n",
    "    print(\"printed if statement1 and statement2 are True\")\n",
    "elif statement1 or statement2:\n",
    "    print(\"printed if either statement1 or statement2 is True\")\n",
    "else:\n",
    "    print(\"printed if no statement is True\")"
   ]
  },
  {
   "cell_type": "markdown",
   "metadata": {
    "slideshow": {
     "slide_type": "slide"
    }
   },
   "source": [
    "##### Exercise 1.1\n",
    "\n",
    "\n",
    "You want to go to the cinema, but you first need to check whether you have enough money. First define a variable indicating the amount of money in your wallet `money_in_wallet` as 6 EUR and the ticket price for the cinema `ticket_price` as 10 EUR. Indicate with a print statement if you can go to the cinema"
   ]
  },
  {
   "cell_type": "code",
   "execution_count": null,
   "metadata": {
    "solution2": "hidden",
    "solution2_first": true
   },
   "outputs": [],
   "source": [
    "### Write your solution here ###\n"
   ]
  },
  {
   "cell_type": "code",
   "execution_count": null,
   "metadata": {
    "slideshow": {
     "slide_type": "slide"
    },
    "solution2": "hidden"
   },
   "outputs": [],
   "source": [
    "money_in_wallet = 6\n",
    "price_of_ticket = 10\n",
    "\n",
    "\n",
    "if money_in_wallet >= price_of_ticket:\n",
    "    print(\"Let's go to the cinema\")\n",
    "else:\n",
    "    print(\"I have to stay home :(\")"
   ]
  },
  {
   "cell_type": "markdown",
   "metadata": {
    "slideshow": {
     "slide_type": "subslide"
    }
   },
   "source": [
    "#### Exercise 1.2\n",
    "\n",
    "\n",
    "Different films cost different amounts of money. Use if statements to tests which films you can afford and print them. The films cost:\n",
    "\n",
    "- James Bond: 15 EUR\n",
    "- Spider Man - No Way Home: 11 EUR\n",
    "- Dune: 6 EUR\n",
    "- Ghostbusters: 5 EUR\n",
    "\n",
    "Note: as always in coding, there are several ways to get the right solution. "
   ]
  },
  {
   "cell_type": "code",
   "execution_count": null,
   "metadata": {
    "solution2": "hidden",
    "solution2_first": true
   },
   "outputs": [],
   "source": [
    "### Write your solution here ###\n"
   ]
  },
  {
   "cell_type": "code",
   "execution_count": null,
   "metadata": {
    "solution2": "hidden"
   },
   "outputs": [],
   "source": [
    "# possible solution one\n",
    "\n",
    "if money_in_wallet >= 15:\n",
    "    print('I can watch every film: James Bond, Spider Man, Dune & Ghostbusters')\n",
    "elif money_in_wallet >= 11:\n",
    "    print('I can watch Spider Man, Dune & Ghostbusters')\n",
    "elif money_in_wallet >= 6:\n",
    "    print('I can watch Dune & Ghostbusters')\n",
    "elif money_in_wallet >= 5:\n",
    "    print('I can watch Ghostbusters')\n",
    "else:\n",
    "    print('I can\\'t watch any film.')\n",
    "    \n",
    "\n",
    "# possible solution two:\n",
    "\n",
    "affordable_films = []\n",
    "if money_in_wallet >= 15:\n",
    "    affordable_films.append('James Bond')\n",
    "\n",
    "if money_in_wallet >= 11:\n",
    "    affordable_films.append('Spider Man')\n",
    "\n",
    "if money_in_wallet >= 6:\n",
    "    affordable_films.append('Dune')\n",
    "    \n",
    "if money_in_wallet >= 5:\n",
    "    affordable_films.append('Ghostbusters')\n",
    "\n",
    "print('I can watch the following films:', ', '.join(affordable_films))\n"
   ]
  },
  {
   "cell_type": "markdown",
   "metadata": {
    "slideshow": {
     "slide_type": "subslide"
    }
   },
   "source": [
    "#### Exercise 1.3\n",
    "\n",
    "\n",
    "It's your lucky day! You happen to find 34 EUR right in front of your house. You want to celebrate this by inviting as many of your 5 friends as possible to the cinema. How many friends can you invite, while also paying for yourself? First update your money in your wallet and then test this using if statements. "
   ]
  },
  {
   "cell_type": "code",
   "execution_count": null,
   "metadata": {
    "solution2": "hidden",
    "solution2_first": true
   },
   "outputs": [],
   "source": [
    "### Write your solution here ###\n",
    "\n"
   ]
  },
  {
   "cell_type": "code",
   "execution_count": null,
   "metadata": {
    "solution2": "hidden"
   },
   "outputs": [],
   "source": [
    "money_in_wallet += 44\n",
    "\n",
    "if money_in_wallet >= (5+1) * 10:\n",
    "    print('I can invite all 5 friends')\n",
    "elif money_in_wallet >= (4+1) * 10:\n",
    "    print('I can invite 4 friends.')\n",
    "elif money_in_wallet >= (3+1) * 10:\n",
    "    print('I can invite 3 friends.')\n",
    "elif money_in_wallet >= (2+1) * 10:\n",
    "    print('I can invite 2 friends.')\n",
    "elif money_in_wallet >= (1+1) * 10:\n",
    "    print('I can invite 1 friend.')\n",
    "elif money_in_wallet >= (0+1) * 10:\n",
    "    print('I cannot invite any of my friends.')\n",
    "else:\n",
    "    print('I can\\'t even go to the cinema by myself.')"
   ]
  },
  {
   "cell_type": "markdown",
   "metadata": {
    "slideshow": {
     "slide_type": "subslide"
    }
   },
   "source": [
    "#### Exercise 1.4 - Last one, I promise!\n",
    "\n",
    "\n",
    "This year you want to treat your dog with a holiday present but obviously only if it was a good dog. Depending on the money in your wallet, you can either buy a new toy for 10 EUR or go on a nice long walk if you don't have any money. Write a nested if statement to test which present you can buy if your dog was a good dog. Your current endowment is 11 EUR."
   ]
  },
  {
   "cell_type": "code",
   "execution_count": null,
   "metadata": {
    "solution2": "hidden",
    "solution2_first": true
   },
   "outputs": [],
   "source": [
    "### Write your solution here ###\n"
   ]
  },
  {
   "cell_type": "code",
   "execution_count": null,
   "metadata": {
    "solution2": "hidden"
   },
   "outputs": [],
   "source": [
    "was_good_boy = True\n",
    "endowment = 11\n",
    "if was_good_boy:\n",
    "    if endowment >= 10:\n",
    "        print('Buy the toy')\n",
    "    else:\n",
    "        print('Can\\'t afford any present. Go on a walk.')\n",
    "else:\n",
    "    print('Only presents for good boys')"
   ]
  },
  {
   "cell_type": "markdown",
   "metadata": {
    "slideshow": {
     "slide_type": "slide"
    }
   },
   "source": [
    "\n",
    "These many `if` statements were very tedious. Can we not do this more efficiently?\n",
    "\n",
    "<center><img src=\"https://i.pinimg.com/736x/f1/be/86/f1be8629d5673e3261726e5011c46e5a.jpg\"></center>\n",
    "\n"
   ]
  },
  {
   "cell_type": "markdown",
   "metadata": {
    "slideshow": {
     "slide_type": "fragment"
    }
   },
   "source": [
    "Wait no more. We have a solution (at least for some situations)"
   ]
  },
  {
   "cell_type": "markdown",
   "metadata": {
    "slideshow": {
     "slide_type": "slide"
    }
   },
   "source": [
    "#### Loops\n",
    "\n",
    "In `python`, loops can be programmed in a number of different ways. The most common is the `for` loop, which is used together with `iterable objects`, such as `list`s. The `basic syntax` is:\n",
    "\n",
    "<center><img src=\"https://www.learnbyexample.org/wp-content/uploads/python/Python-for-Loop-Syntax.png\" width=600></center>\n",
    "<center><small><small><small>https://www.learnbyexample.org/wp-content/uploads/python/Python-for-Loop-Syntax.png</small></small></small></center>"
   ]
  },
  {
   "cell_type": "code",
   "execution_count": 165,
   "metadata": {
    "slideshow": {
     "slide_type": "subslide"
    }
   },
   "outputs": [
    {
     "name": "stdout",
     "output_type": "stream",
     "text": [
      "1\n",
      "2\n",
      "3\n"
     ]
    }
   ],
   "source": [
    "for x in [1,2,3]:\n",
    "    print(x)"
   ]
  },
  {
   "cell_type": "markdown",
   "metadata": {
    "slideshow": {
     "slide_type": "subslide"
    }
   },
   "source": [
    "The `for` loop iterates over the elements of the supplied list and executes the containing block once for each element. Any kind of list can be used in the `for` loop. For example:"
   ]
  },
  {
   "cell_type": "code",
   "execution_count": 166,
   "metadata": {},
   "outputs": [
    {
     "name": "stdout",
     "output_type": "stream",
     "text": [
      "0\n",
      "1\n",
      "2\n",
      "3\n"
     ]
    }
   ],
   "source": [
    "for x in range(4): # by default range start at 0\n",
    "    print(x)"
   ]
  },
  {
   "cell_type": "markdown",
   "metadata": {
    "slideshow": {
     "slide_type": "subslide"
    }
   },
   "source": [
    "Note: `range(4)` does not include `4`! Try to remember the aspects of `indexing` and `slicing` we addressed during the session on `string`s and `list`s. "
   ]
  },
  {
   "cell_type": "code",
   "execution_count": 167,
   "metadata": {},
   "outputs": [
    {
     "name": "stdout",
     "output_type": "stream",
     "text": [
      "-3\n",
      "-2\n",
      "-1\n",
      "0\n",
      "1\n",
      "2\n"
     ]
    }
   ],
   "source": [
    "for x in range(-3,3):\n",
    "    print(x)"
   ]
  },
  {
   "cell_type": "code",
   "execution_count": 168,
   "metadata": {
    "slideshow": {
     "slide_type": "subslide"
    }
   },
   "outputs": [
    {
     "name": "stdout",
     "output_type": "stream",
     "text": [
      "scientific\n",
      "computing\n",
      "with\n",
      "python\n"
     ]
    }
   ],
   "source": [
    "for word in [\"scientific\", \"computing\", \"with\", \"python\"]:\n",
    "    print(word)"
   ]
  },
  {
   "cell_type": "markdown",
   "metadata": {
    "slideshow": {
     "slide_type": "subslide"
    }
   },
   "source": [
    "To iterate over key-value pairs of a dictionary:"
   ]
  },
  {
   "cell_type": "code",
   "execution_count": 169,
   "metadata": {},
   "outputs": [
    {
     "name": "stdout",
     "output_type": "stream",
     "text": [
      "parameter1 = A\n",
      "parameter2 = B\n",
      "parameter3 = C\n",
      "parameter4 = D\n"
     ]
    }
   ],
   "source": [
    "params = {\n",
    "    'parameter1': 'A',\n",
    "    'parameter2': 'B',\n",
    "    'parameter3': 'C',\n",
    "    'parameter4': 'D'\n",
    "}\n",
    "\n",
    "for key, value in params.items():\n",
    "    print(key + \" = \" + str(value))"
   ]
  },
  {
   "cell_type": "markdown",
   "metadata": {
    "slideshow": {
     "slide_type": "subslide"
    }
   },
   "source": [
    "Sometimes it is useful to have access to the indices of the values when iterating over a `list`. We can use the `enumerate` function for this:"
   ]
  },
  {
   "cell_type": "code",
   "execution_count": 170,
   "metadata": {},
   "outputs": [
    {
     "name": "stdout",
     "output_type": "stream",
     "text": [
      "0 -3\n",
      "1 -2\n",
      "2 -1\n",
      "3 0\n",
      "4 1\n",
      "5 2\n"
     ]
    }
   ],
   "source": [
    "for idx, x in enumerate(range(-3,3)):\n",
    "    print(idx, x)"
   ]
  },
  {
   "cell_type": "markdown",
   "metadata": {
    "slideshow": {
     "slide_type": "subslide"
    }
   },
   "source": [
    "#### `break`, `continue` and `pass`\n",
    "\n",
    "To control the flow of a certain loop you can also use `break`, `continue` and `pass`.\n",
    "\n",
    "</br>\n",
    "\n",
    "<center><img src=\"https://raw.githubusercontent.com/PeerHerholz/Python_for_Psychologists_Winter2021/master/lecture/static/python_break_continue_pass.png\" width=900></center>\n"
   ]
  },
  {
   "cell_type": "code",
   "execution_count": 171,
   "metadata": {
    "slideshow": {
     "slide_type": "subslide"
    }
   },
   "outputs": [
    {
     "name": "stdout",
     "output_type": "stream",
     "text": [
      "[0, 1, 2, 3, 4, 5, 6, 7, 8, 9]\n",
      "0\n",
      "1\n",
      "2\n",
      "3\n"
     ]
    }
   ],
   "source": [
    "rangelist = list(range(10))\n",
    "print(list(rangelist))\n",
    "\n",
    "for number in rangelist:\n",
    "    # Check if number is one of\n",
    "    # the numbers in the tuple.\n",
    "    if number in [4, 5, 7, 9]:\n",
    "        # \"Break\" terminates a for without\n",
    "        # executing the \"else\" clause.\n",
    "        break\n",
    "    else:\n",
    "        # \"Continue\" starts the next iteration\n",
    "        # of the loop. It's rather useless here,\n",
    "        # as it's the last statement of the loop.\n",
    "        print(number)\n",
    "        continue\n",
    "else:\n",
    "    # The \"else\" clause is optional and is\n",
    "    # executed only if the loop didn't \"break\".\n",
    "    pass # Do nothing"
   ]
  },
  {
   "cell_type": "markdown",
   "metadata": {
    "slideshow": {
     "slide_type": "subslide"
    }
   },
   "source": [
    "#### Exercise 2.1\n",
    "\n",
    "Use a for loop to print every **even** number from 0 to 10\n",
    "\n",
    "Hint: you can check if a number is even with `number % 2 == 0`"
   ]
  },
  {
   "cell_type": "code",
   "execution_count": null,
   "metadata": {
    "solution2": "hidden",
    "solution2_first": true
   },
   "outputs": [],
   "source": [
    "### Write your solution here ###\n"
   ]
  },
  {
   "cell_type": "code",
   "execution_count": null,
   "metadata": {
    "solution2": "hidden"
   },
   "outputs": [],
   "source": [
    "for num in range(10):\n",
    "    if num % 2 == 0:\n",
    "        print(num)\n",
    "    else: \n",
    "        continue"
   ]
  },
  {
   "cell_type": "markdown",
   "metadata": {
    "slideshow": {
     "slide_type": "subslide"
    }
   },
   "source": [
    "#### Exercise 2.2\n",
    "\n",
    "Use a for loop that iterates over all days in december (31) and always prints the number of days left until christmas. This loop should break once christmas is reached and should wish you a merry christmas. \n"
   ]
  },
  {
   "cell_type": "code",
   "execution_count": null,
   "metadata": {
    "solution2": "hidden",
    "solution2_first": true
   },
   "outputs": [],
   "source": [
    "### Write your solution here ###\n"
   ]
  },
  {
   "cell_type": "code",
   "execution_count": null,
   "metadata": {
    "solution2": "hidden"
   },
   "outputs": [],
   "source": [
    "christmas_day = 24\n",
    "for i in range(31):\n",
    "    if i < christmas_day:\n",
    "        print(f'{christmas_day - i} days until christmas')\n",
    "    else:\n",
    "        print('It\\'s christmas day!')\n",
    "        break    "
   ]
  },
  {
   "cell_type": "markdown",
   "metadata": {
    "slideshow": {
     "slide_type": "subslide"
    }
   },
   "source": [
    "#### Exercise 2.3\n",
    "\n",
    "create a list of your three most favourite foods and iterate over it. In each iteration print the position and the food. For example:\n",
    "- 1. Pasta\n",
    "- 2. Nutella\n",
    "- 3. Wraps"
   ]
  },
  {
   "cell_type": "code",
   "execution_count": null,
   "metadata": {
    "solution2": "hidden",
    "solution2_first": true
   },
   "outputs": [],
   "source": [
    "### Write your solution here ###\n"
   ]
  },
  {
   "cell_type": "code",
   "execution_count": null,
   "metadata": {
    "solution2": "hidden"
   },
   "outputs": [],
   "source": [
    "fav_food = ['Pasta', 'Nutella', 'Wraps']\n",
    "for i, food in enumerate(fav_food):\n",
    "    print(f'{i+1}. {food}')"
   ]
  },
  {
   "cell_type": "markdown",
   "metadata": {
    "slideshow": {
     "slide_type": "subslide"
    }
   },
   "source": [
    "**List comprehensions: Creating lists using `for` loops**:\n",
    "\n",
    "A convenient and compact way to initialize lists:\n",
    "\n",
    "\n",
    "<center><img src=\"https://www.learnbyexample.org/wp-content/uploads/python/Python-List-Comprehension-Syntax.png\" width=600></center>\n",
    "<center><small><small><small><small><small><small><small>https://www.learnbyexample.org/wp-content/uploads/python/Python-List-Comprehension-Syntax.png</small></small></small></small></small></small></small></center>"
   ]
  },
  {
   "cell_type": "markdown",
   "metadata": {
    "slideshow": {
     "slide_type": "subslide"
    }
   },
   "source": [
    "<center><img src=\"https://4.bp.blogspot.com/-uRPZqKbIGwQ/XRtgWhC6qqI/AAAAAAAAH0w/--oGnwKsnpo00GwQgH2gV3RPwHwK8uONgCLcBGAs/s1600/comprehension.PNG\" width=600></center>\n",
    "<center><small><small><small><small><small><small><small>https://4.bp.blogspot.com/-uRPZqKbIGwQ/XRtgWhC6qqI/AAAAAAAAH0w/--oGnwKsnpo00GwQgH2gV3RPwHwK8uONgCLcBGAs/s1600/comprehension.PNG</small></small></small></small></small></small></small></center>"
   ]
  },
  {
   "cell_type": "code",
   "execution_count": 172,
   "metadata": {},
   "outputs": [
    {
     "name": "stdout",
     "output_type": "stream",
     "text": [
      "[0, 1, 4, 9, 16]\n"
     ]
    }
   ],
   "source": [
    "l1 = [x**2 for x in range(0,5)]\n",
    "\n",
    "print(l1)"
   ]
  },
  {
   "cell_type": "markdown",
   "metadata": {
    "slideshow": {
     "slide_type": "subslide"
    }
   },
   "source": [
    "You can also use an if statement in your list comprehension. But be careful with the ordering. A single if can be after the for loop. However, if and else together have to be in front. Lets see some examples."
   ]
  },
  {
   "cell_type": "code",
   "execution_count": 173,
   "metadata": {},
   "outputs": [
    {
     "name": "stdout",
     "output_type": "stream",
     "text": [
      "[9, 16]\n"
     ]
    }
   ],
   "source": [
    "l2 = [x**2 for x in range(0,5) if x > 2]\n",
    "print(l2)"
   ]
  },
  {
   "cell_type": "code",
   "execution_count": 174,
   "metadata": {},
   "outputs": [
    {
     "ename": "SyntaxError",
     "evalue": "invalid syntax (801299945.py, line 1)",
     "output_type": "error",
     "traceback": [
      "\u001b[0;36m  Cell \u001b[0;32mIn [174], line 1\u001b[0;36m\u001b[0m\n\u001b[0;31m    l3 = [x**2 for x in range(0,5) if x > 2 else x]\u001b[0m\n\u001b[0m                                            ^\u001b[0m\n\u001b[0;31mSyntaxError\u001b[0m\u001b[0;31m:\u001b[0m invalid syntax\n"
     ]
    }
   ],
   "source": [
    "l3 = [x**2 for x in range(0,5) if x > 2 else x]\n",
    "print(l3)"
   ]
  },
  {
   "cell_type": "markdown",
   "metadata": {
    "slideshow": {
     "slide_type": "subslide"
    }
   },
   "source": [
    "Now lets put the if-else statement before the `for` loop"
   ]
  },
  {
   "cell_type": "code",
   "execution_count": 175,
   "metadata": {},
   "outputs": [
    {
     "name": "stdout",
     "output_type": "stream",
     "text": [
      "[0, 1, 2, 9, 16]\n"
     ]
    }
   ],
   "source": [
    "l3 = [x**2 if x > 2 else x for x in range(0,5)]\n",
    "print(l3)"
   ]
  },
  {
   "cell_type": "markdown",
   "metadata": {
    "slideshow": {
     "slide_type": "subslide"
    }
   },
   "source": [
    "#### Exercise 2.4\n",
    "\n",
    "Use list comprehension to create a list containing all letters that are in the word 'human'"
   ]
  },
  {
   "cell_type": "code",
   "execution_count": null,
   "metadata": {
    "solution2": "hidden",
    "solution2_first": true
   },
   "outputs": [],
   "source": [
    "### Write your solution here ###\n"
   ]
  },
  {
   "cell_type": "code",
   "execution_count": null,
   "metadata": {
    "solution2": "hidden"
   },
   "outputs": [],
   "source": [
    "h_letters = [ letter for letter in 'human' ]\n",
    "print( h_letters)"
   ]
  },
  {
   "cell_type": "markdown",
   "metadata": {
    "slideshow": {
     "slide_type": "subslide"
    }
   },
   "source": [
    "#### Exercise 2.5\n",
    "Use list comprehension to create a list with all **even** numbers from 0 to 19 "
   ]
  },
  {
   "cell_type": "code",
   "execution_count": null,
   "metadata": {
    "solution2": "hidden",
    "solution2_first": true
   },
   "outputs": [],
   "source": [
    "### Write your solution here ###\n"
   ]
  },
  {
   "cell_type": "code",
   "execution_count": null,
   "metadata": {
    "solution2": "hidden"
   },
   "outputs": [],
   "source": [
    "number_list = [ x for x in range(20) if x % 2 == 0]\n",
    "print(number_list)"
   ]
  },
  {
   "cell_type": "markdown",
   "metadata": {
    "slideshow": {
     "slide_type": "subslide"
    }
   },
   "source": [
    "#### Exercise 2.6\n",
    "Use list comprehension to create a list with all **uneven** numbers from 0 to 19 and set all even numbers to zero"
   ]
  },
  {
   "cell_type": "code",
   "execution_count": null,
   "metadata": {
    "solution2": "hidden",
    "solution2_first": true
   },
   "outputs": [],
   "source": [
    "### Write your solution here ###\n"
   ]
  },
  {
   "cell_type": "code",
   "execution_count": null,
   "metadata": {
    "solution2": "hidden"
   },
   "outputs": [],
   "source": [
    "number_list = [ 0 if x % 2 == 0 else x for x in range(20) ]\n",
    "print(number_list)"
   ]
  },
  {
   "cell_type": "markdown",
   "metadata": {
    "slideshow": {
     "slide_type": "subslide"
    }
   },
   "source": [
    "#### `while` loops:\n",
    "\n",
    "A `while loop` is used when you want to perform a task `indefinitely`, until a particular `condition` is met. It is s a `condition-controlled loop`.\n",
    "\n",
    "<center><img src=\"https://www.learnbyexample.org/wp-content/uploads/python/Python-while-Loop-Syntax.png\" width=600></center>\n",
    "<center><small><small><small><small><small><small><small>https://www.learnbyexample.org/wp-content/uploads/python/Python-while-Loop-Syntax.png</small></small></small></small></small></small></small></center>"
   ]
  },
  {
   "cell_type": "markdown",
   "metadata": {
    "slideshow": {
     "slide_type": "subslide"
    }
   },
   "source": [
    "<center><img src=\"https://media.geeksforgeeks.org/wp-content/uploads/20191101170515/while-loop.jpg\" width=600></center>\n",
    "<center><small><small><small><small><small><small><small>https://media.geeksforgeeks.org/wp-content/uploads/20191101170515/while-loop.jpg</small></small></small></small></small></small></small></center>"
   ]
  },
  {
   "cell_type": "code",
   "execution_count": 176,
   "metadata": {
    "slideshow": {
     "slide_type": "subslide"
    }
   },
   "outputs": [
    {
     "name": "stdout",
     "output_type": "stream",
     "text": [
      "0\n",
      "1\n",
      "2\n",
      "3\n",
      "4\n",
      "done\n"
     ]
    }
   ],
   "source": [
    "i = 0\n",
    "\n",
    "while i < 5:\n",
    "    print(i)\n",
    "    \n",
    "    i = i + 1\n",
    "    \n",
    "print(\"done\")"
   ]
  },
  {
   "cell_type": "markdown",
   "metadata": {
    "slideshow": {
     "slide_type": "subslide"
    }
   },
   "source": [
    "Note that the `print \"done\"` statement is not part of the `while` loop body because of the difference in the indentation."
   ]
  },
  {
   "cell_type": "markdown",
   "metadata": {
    "slideshow": {
     "slide_type": "subslide"
    }
   },
   "source": [
    "`while`loops can be dangerous to use. For example if you would forget the `i = i+1` statement"
   ]
  },
  {
   "cell_type": "code",
   "execution_count": 177,
   "metadata": {
    "slideshow": {
     "slide_type": "-"
    }
   },
   "outputs": [],
   "source": [
    "# if you run this cell you will need to stop the kernel, as it is an infinite loop\n",
    "# i = 0\n",
    "# while i < 5:\n",
    "#     print(i)"
   ]
  },
  {
   "cell_type": "markdown",
   "metadata": {
    "slideshow": {
     "slide_type": "subslide"
    }
   },
   "source": [
    "You can also include an `else` statement after your `while` loop, to include a codeblock that should be executed once the condition returns False"
   ]
  },
  {
   "cell_type": "code",
   "execution_count": 178,
   "metadata": {},
   "outputs": [
    {
     "name": "stdout",
     "output_type": "stream",
     "text": [
      "Inside loop\n",
      "Inside loop\n",
      "Inside loop\n",
      "Inside else\n"
     ]
    }
   ],
   "source": [
    "counter = 0\n",
    "\n",
    "while counter < 3:\n",
    "    print(\"Inside loop\")\n",
    "    counter = counter + 1\n",
    "else:\n",
    "    print(\"Inside else\")"
   ]
  },
  {
   "cell_type": "markdown",
   "metadata": {
    "slideshow": {
     "slide_type": "subslide"
    }
   },
   "source": [
    "#### Exercise 2.7\n",
    "\n",
    "Calculate the number of friends that you can invite to the cinema using a `while`-loop\n",
    "\n",
    "Remember:\n",
    "- money = 43\n",
    "- ticket_price = 10\n",
    "\n",
    "Hint: You can alter your money to calculate this. \n",
    "    "
   ]
  },
  {
   "cell_type": "code",
   "execution_count": null,
   "metadata": {
    "solution2": "hidden",
    "solution2_first": true
   },
   "outputs": [],
   "source": [
    "### Write your solution here ###\n"
   ]
  },
  {
   "cell_type": "code",
   "execution_count": null,
   "metadata": {
    "solution2": "hidden"
   },
   "outputs": [],
   "source": [
    "# Given values\n",
    "money = 43\n",
    "ticket_price = 10\n",
    "\n",
    "# Initialize the counter for the number of tickets\n",
    "number_of_tickets = 0\n",
    "\n",
    "# Loop to calculate the number of friends you can invite\n",
    "while money >= ticket_price:\n",
    "    money -= ticket_price  # Deduct the price of one ticket from the money\n",
    "    number_of_tickets += 1  # Increment the number of tickets bought\n",
    "\n",
    "number_of_tickets"
   ]
  },
  {
   "cell_type": "markdown",
   "metadata": {
    "slideshow": {
     "slide_type": "subslide"
    }
   },
   "source": [
    "## Functions\n",
    "\n",
    "Rule of thumb for great `programming`: \"Whenever you copy-paste while coding, you do something wrong.'\n",
    "\n",
    "We use `functions` to solve problems that are `repetitive`. \n",
    "\n",
    "What should you put into a `function`: \n",
    "- Anything, that you will do more than once\n",
    "- All `code blocks` that have some kind of `meaning`, e.g. calculating the `square root` of a `value`\n",
    "- `Code` that can be increased in readability, where you would like to add a comment"
   ]
  },
  {
   "cell_type": "markdown",
   "metadata": {
    "slideshow": {
     "slide_type": "subslide"
    }
   },
   "source": [
    "A `function` ...\n",
    "- is a `block of code` that only runs when explicitly called\n",
    "- can accept `arguments` (or `parameters`) that `alter` its `behavior`\n",
    "- can accept any number/`type` of `inputs`, but always `return` a `single object`\n",
    "\n",
    "Note: `functions` can return `tuples` (may look like `multiple objects`)"
   ]
  },
  {
   "cell_type": "markdown",
   "metadata": {
    "slideshow": {
     "slide_type": "subslide"
    }
   },
   "source": [
    "A function in `Python` is defined using the keyword `def`, followed by a `function name`, a `signature` within parentheses `()`, and a colon `:`. The following `code`, with one additional level of `indentation`, is the `function body`. \n",
    "\n",
    "</br>\n",
    "</br>\n",
    "\n",
    "<center><img src=\"https://raw.githubusercontent.com/PeerHerholz/Python_for_Psychologists_Winter2021/master/lecture/static/python_functions.png\" width=700></center>\n",
    "\n",
    "Let's check this different components in further detail."
   ]
  },
  {
   "cell_type": "code",
   "execution_count": 179,
   "metadata": {
    "slideshow": {
     "slide_type": "subslide"
    }
   },
   "outputs": [
    {
     "name": "stdout",
     "output_type": "stream",
     "text": [
      "hello world\n"
     ]
    }
   ],
   "source": [
    "def say_hello():\n",
    "    # block belonging to the function\n",
    "    print('hello world')\n",
    "\n",
    "say_hello() # call the function"
   ]
  },
  {
   "cell_type": "markdown",
   "metadata": {
    "slideshow": {
     "slide_type": "-"
    }
   },
   "source": [
    "The `function` above does not take any `arguments` but only executes the `code` within. As there is no explicit `return statement` the function will simply return `None`. \n",
    "\n",
    "Let's check that. To access the `return value` of a `function`, you simply `assign` the `function` to a `variable`, as we learned above and in the previous sessions."
   ]
  },
  {
   "cell_type": "code",
   "execution_count": 180,
   "metadata": {},
   "outputs": [
    {
     "name": "stdout",
     "output_type": "stream",
     "text": [
      "hello world\n",
      "None\n"
     ]
    }
   ],
   "source": [
    "greetings = say_hello()\n",
    "print(greetings)"
   ]
  },
  {
   "cell_type": "markdown",
   "metadata": {
    "slideshow": {
     "slide_type": "subslide"
    }
   },
   "source": [
    "As you see, the `function` still printed the `'hello world'` but the returned `value` that was stored in `greetings` is `None`. \n",
    "\n",
    "A `function` can also accept `arguments` within the `parentheses`, making it super flexible. For example:"
   ]
  },
  {
   "cell_type": "code",
   "execution_count": 181,
   "metadata": {},
   "outputs": [
    {
     "name": "stdout",
     "output_type": "stream",
     "text": [
      "25\n",
      "27\n"
     ]
    }
   ],
   "source": [
    "def calc_power(x, p):\n",
    "    power = x ** p\n",
    "    return power\n",
    "\n",
    "print(calc_power(5,2))\n",
    "print(calc_power(3,3))\n"
   ]
  },
  {
   "cell_type": "markdown",
   "metadata": {
    "slideshow": {
     "slide_type": "subslide"
    }
   },
   "source": [
    "As we used a `return statement` this time, the `power` that we calculated is `returned` and can be `printed` or `assigned` to a `variable`. \n",
    "\n",
    "\n",
    "These were all simple examples, however, we can also put more complex `code blocks` into a `function`."
   ]
  },
  {
   "cell_type": "code",
   "execution_count": 182,
   "metadata": {},
   "outputs": [
    {
     "name": "stdout",
     "output_type": "stream",
     "text": [
      "4 is maximum\n",
      "7 is equal to 7\n"
     ]
    }
   ],
   "source": [
    "def get_maximum(a, b):\n",
    "    maximum = None\n",
    "    if a > b:\n",
    "        print( a, 'is maximum')\n",
    "        maximum = a\n",
    "    elif a == b:\n",
    "        print(a, 'is equal to', b)\n",
    "        maximum = a\n",
    "    else:\n",
    "        print(b, 'is maximum')\n",
    "        maximum = b\n",
    "    return maximum\n",
    "\n",
    "# directly pass literal values\n",
    "maximum = get_maximum(3, 4)\n",
    "\n",
    "x = 7\n",
    "y = 7\n",
    "\n",
    "# pass variables as arguments\n",
    "maximum = get_maximum(x, y)"
   ]
  },
  {
   "cell_type": "markdown",
   "metadata": {
    "slideshow": {
     "slide_type": "subslide"
    }
   },
   "source": [
    "We can also `return` multiple `values` from a `function` using `tuples`:"
   ]
  },
  {
   "cell_type": "code",
   "execution_count": 183,
   "metadata": {},
   "outputs": [],
   "source": [
    "def calc_powers(x):\n",
    "    \"\"\"\n",
    "    Return a few powers of x.\n",
    "    \"\"\"\n",
    "    return x ** 2, x ** 3, x ** 4"
   ]
  },
  {
   "cell_type": "code",
   "execution_count": 184,
   "metadata": {
    "slideshow": {
     "slide_type": "fragment"
    }
   },
   "outputs": [
    {
     "name": "stdout",
     "output_type": "stream",
     "text": [
      "(25, 125, 625)\n"
     ]
    }
   ],
   "source": [
    "x = 5\n",
    "powers = calc_powers(x)\n",
    "print(powers)"
   ]
  },
  {
   "cell_type": "markdown",
   "metadata": {
    "slideshow": {
     "slide_type": "subslide"
    }
   },
   "source": [
    "As you see, your `output variable` `powers` is a `tuple` that contains the `output values` of the `function`. We can however, split this `tuple` directly into the specific `values`. This can help to make your `code` more readable. "
   ]
  },
  {
   "cell_type": "code",
   "execution_count": 185,
   "metadata": {},
   "outputs": [
    {
     "name": "stdout",
     "output_type": "stream",
     "text": [
      "125\n"
     ]
    }
   ],
   "source": [
    "x2, x3, x4 = calc_powers(5)\n",
    "print(x3)"
   ]
  },
  {
   "cell_type": "markdown",
   "metadata": {
    "slideshow": {
     "slide_type": "subslide"
    }
   },
   "source": [
    "**Very important**: `Variables` inside a `function` are treated as `local variables` and therefore don't interfere with `variables` outside the scope of the `function`."
   ]
  },
  {
   "cell_type": "code",
   "execution_count": 186,
   "metadata": {},
   "outputs": [
    {
     "name": "stdout",
     "output_type": "stream",
     "text": [
      "x is 50\n",
      "Changed local x to 2\n",
      "x is still 50\n"
     ]
    }
   ],
   "source": [
    "x = 50\n",
    "\n",
    "def func(x):\n",
    "    print('x is', x)\n",
    "    x = 2\n",
    "    print('Changed local x to', x)\n",
    "\n",
    "func(x)\n",
    "print('x is still', x)"
   ]
  },
  {
   "cell_type": "markdown",
   "metadata": {
    "slideshow": {
     "slide_type": "subslide"
    }
   },
   "source": [
    "To access a `local function variable`, we can extend the `local scope` with the keyword `global`."
   ]
  },
  {
   "cell_type": "code",
   "execution_count": 187,
   "metadata": {},
   "outputs": [
    {
     "name": "stdout",
     "output_type": "stream",
     "text": [
      "x is 50\n",
      "Changed global x to 2\n",
      "Value of x is 2\n"
     ]
    }
   ],
   "source": [
    "x = 50\n",
    "\n",
    "def func():\n",
    "    global x\n",
    "\n",
    "    print('x is', x)\n",
    "    x = 2\n",
    "    print('Changed global x to', x)\n",
    "\n",
    "func()\n",
    "print('Value of x is', x)"
   ]
  },
  {
   "cell_type": "markdown",
   "metadata": {
    "slideshow": {
     "slide_type": "subslide"
    }
   },
   "source": [
    "Optionally, but highly recommended, we can define a so called `\"docstring\"`, which is a `description` of the `functions` purpose and behavior. The `docstring` should follow directly after the `function definition`, before the `code` in the `function body`.\n",
    "\n",
    "You can also define the `input` and `return` `parameters` in the `docstring`. There are several `conventions` to do this."
   ]
  },
  {
   "cell_type": "code",
   "execution_count": 188,
   "metadata": {},
   "outputs": [],
   "source": [
    "def func_with_docstring(s):\n",
    "    \"\"\"\n",
    "    Print a string 's' and tell how many characters it has    \n",
    "    :param s (string): input string of any length\n",
    "    :returns: None\n",
    "    \"\"\"\n",
    "    \n",
    "    print(s + \" has \" + str(len(s)) + \" characters\")"
   ]
  },
  {
   "cell_type": "code",
   "execution_count": 189,
   "metadata": {
    "slideshow": {
     "slide_type": "subslide"
    }
   },
   "outputs": [
    {
     "name": "stdout",
     "output_type": "stream",
     "text": [
      "Help on function func_with_docstring in module __main__:\n",
      "\n",
      "func_with_docstring(s)\n",
      "    Print a string 's' and tell how many characters it has    \n",
      "    :param s (string): input string of any length\n",
      "    :returns: None\n",
      "\n"
     ]
    }
   ],
   "source": [
    "help(func_with_docstring)"
   ]
  },
  {
   "cell_type": "code",
   "execution_count": 190,
   "metadata": {},
   "outputs": [
    {
     "name": "stdout",
     "output_type": "stream",
     "text": [
      "So much fun to write functions has 30 characters\n"
     ]
    }
   ],
   "source": [
    "func_with_docstring('So much fun to write functions')"
   ]
  },
  {
   "cell_type": "markdown",
   "metadata": {
    "slideshow": {
     "slide_type": "subslide"
    }
   },
   "source": [
    "### Positional vs. keyword arguments\n",
    "\n",
    "- `Positional arguments` are defined by `position` and must be passed\n",
    "    - `Arguments` in the `function signature` are filled _in order_\n",
    "- `Keyword arguments` have a `default value`\n",
    "    - `Arguments` can be passed in _arbitrary order_ (_after any `positional arguments`_)"
   ]
  },
  {
   "cell_type": "markdown",
   "metadata": {
    "slideshow": {
     "slide_type": "subslide"
    }
   },
   "source": [
    "You might not think that at the moment, but `coding` is all about readability. You only write it once, but you will probably read it several times. \n",
    "\n",
    "In `Python` we can increase readability when calling a `function` by also naming our `positional arguments`. For example:"
   ]
  },
  {
   "cell_type": "code",
   "execution_count": 191,
   "metadata": {},
   "outputs": [],
   "source": [
    "def calc_power(x, power):\n",
    "    return x ** power"
   ]
  },
  {
   "cell_type": "markdown",
   "metadata": {
    "slideshow": {
     "slide_type": "fragment"
    }
   },
   "source": [
    "We could now simply input the variables that we want to compute:"
   ]
  },
  {
   "cell_type": "code",
   "execution_count": 192,
   "metadata": {},
   "outputs": [
    {
     "data": {
      "text/plain": [
       "4"
      ]
     },
     "execution_count": 192,
     "metadata": {},
     "output_type": "execute_result"
    }
   ],
   "source": [
    "calc_power(2, 2)"
   ]
  },
  {
   "cell_type": "markdown",
   "metadata": {
    "slideshow": {
     "slide_type": "subslide"
    }
   },
   "source": [
    "The input in the function is **positionally** defined. Hence, the first parameter represents `x` and the second `power`. But does this really tell you what is happening, just from reading the `function`? \n",
    "We can increase readability by calling the `parameters` by their names:"
   ]
  },
  {
   "cell_type": "code",
   "execution_count": 193,
   "metadata": {},
   "outputs": [
    {
     "data": {
      "text/plain": [
       "4"
      ]
     },
     "execution_count": 193,
     "metadata": {},
     "output_type": "execute_result"
    }
   ],
   "source": [
    "calc_power(x=2, power=2)"
   ]
  },
  {
   "cell_type": "markdown",
   "metadata": {
    "slideshow": {
     "slide_type": "subslide"
    }
   },
   "source": [
    "Now everyone that looks at your code, can directly see what is happening. If we explicitly list the name of the `arguments` in the `function calls`, they do not need to come in the same order as in the `function definition`. This is called **keyword** `arguments` and is often very useful in `functions` that take a lot of `optional arguments`.\n",
    "\n",
    "Additionally we could also give `default values` to the `arguments` the `function` takes:"
   ]
  },
  {
   "cell_type": "code",
   "execution_count": 194,
   "metadata": {},
   "outputs": [],
   "source": [
    "def calc_power(x, power=2):\n",
    "    return x ** power"
   ]
  },
  {
   "cell_type": "markdown",
   "metadata": {
    "slideshow": {
     "slide_type": "subslide"
    }
   },
   "source": [
    "If we don’t provide a `value` for the `power` argument when calling the the function `calc_power` it `defaults` to the `value` provided in the `function definition`:"
   ]
  },
  {
   "cell_type": "code",
   "execution_count": 195,
   "metadata": {},
   "outputs": [
    {
     "data": {
      "text/plain": [
       "9"
      ]
     },
     "execution_count": 195,
     "metadata": {},
     "output_type": "execute_result"
    }
   ],
   "source": [
    "x = 3\n",
    "calc_power(x)"
   ]
  },
  {
   "cell_type": "markdown",
   "metadata": {
    "slideshow": {
     "slide_type": "subslide"
    }
   },
   "source": [
    "Such `default values` are especially useful for `functions` that take a lot of `arguments`, as it reduces the amount of `arguments` that you have to pass to the `function`. \n",
    "\n",
    "`Arguments` with a `default value` ...\n",
    "- have to be `defined` /called _AFTER_ the `positional values`\n",
    "- don't have to be called in order"
   ]
  },
  {
   "cell_type": "markdown",
   "metadata": {
    "slideshow": {
     "slide_type": "subslide"
    }
   },
   "source": [
    "#### Let's quickly talk about function names...\n",
    "\n",
    "`Function names` are very important. They will allow you to tell the story of your code. Time spent on naming is never wasted time in `coding`.\n",
    "\n",
    "The 'pythonic' way to write `functions` is to also imply in the name what the `function` will do. \n",
    "\n",
    "Some examples:\n",
    "- when you calculate something you can use `calc` in your `function name`. \n",
    "- when you want to test if something is `true` with your `function` you could use `is`. E.g., `is_above_value(x, value=10)` could return `True` if the `input value` `x` is above the `default value`.\n",
    "- use `print` if your `function` only `prints` `statements`\n",
    "\n"
   ]
  },
  {
   "cell_type": "markdown",
   "metadata": {
    "slideshow": {
     "slide_type": "subslide"
    }
   },
   "source": [
    "#### Exercise 3.1\n",
    "\n",
    "Define a `function` called `get_longest_string` that takes two `strings` as `input` and `returns` the `longer string`. If the `strings` have the same `length`, the `first` one should be `returned`. \n",
    "\n",
    "Call your `function` once, using `positional arguments` and once using `keyword arguments`."
   ]
  },
  {
   "cell_type": "code",
   "execution_count": null,
   "metadata": {
    "solution2": "hidden",
    "solution2_first": true
   },
   "outputs": [],
   "source": [
    "## Write your solution here"
   ]
  },
  {
   "cell_type": "code",
   "execution_count": null,
   "metadata": {
    "solution2": "hidden"
   },
   "outputs": [],
   "source": [
    "def get_longest_string(string_one, string_two):\n",
    "    if len(string_one) >= len(string_two):\n",
    "        return string_one\n",
    "    else:\n",
    "        string_two\n",
    "        \n",
    "longest_string = get_longest_string('yoda', 'skywalker')\n",
    "longest_string = get_longest_string(string_one='yoda', string_two='skywalker')"
   ]
  },
  {
   "cell_type": "markdown",
   "metadata": {
    "slideshow": {
     "slide_type": "subslide"
    }
   },
   "source": [
    "#### Exercise 3.2\n",
    "\n",
    "Define a `function` `happy_holidays` that wishes the user happy holidays. It takes the name of the `user` as `input` `argument`. When the `user` does not define a name, your `function` should use a `default value`. \n",
    "Then call it once, `inputting` a `user name` and once without. "
   ]
  },
  {
   "cell_type": "code",
   "execution_count": null,
   "metadata": {
    "solution2": "hidden",
    "solution2_first": true
   },
   "outputs": [],
   "source": [
    "## Write your solution here"
   ]
  },
  {
   "cell_type": "code",
   "execution_count": null,
   "metadata": {
    "solution2": "hidden"
   },
   "outputs": [],
   "source": [
    "def happy_holidays(name=\"there\"):\n",
    "    \"\"\"Function to wish happy holidays to the user\"\"\"\n",
    "    print(f\"Happy holidays, {name}!\")\n",
    "\n",
    "# Call the function with a specific user name\n",
    "happy_holidays(\"Frodo\")\n",
    "\n",
    "# Call the function without passing a name\n",
    "happy_holidays()\n"
   ]
  }
 ],
 "metadata": {
  "anaconda-cloud": {},
  "celltoolbar": "Slideshow",
  "kernelspec": {
   "display_name": "workshop_IRTG2150",
   "language": "python",
   "name": "workshop_irtg2150"
  },
  "language_info": {
   "codemirror_mode": {
    "name": "ipython",
    "version": 3
   },
   "file_extension": ".py",
   "mimetype": "text/x-python",
   "name": "python",
   "nbconvert_exporter": "python",
   "pygments_lexer": "ipython3",
   "version": "3.11.0"
  }
 },
 "nbformat": 4,
 "nbformat_minor": 4
}
