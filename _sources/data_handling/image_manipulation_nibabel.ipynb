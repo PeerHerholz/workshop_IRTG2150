{
 "cells": [
  {
   "cell_type": "markdown",
   "metadata": {},
   "source": [
    "# Using Python for neuroimaging data - [NiBabel](https://nipy.org/nibabel/)\n",
    "\n",
    "The primary goal of this section is to become familiar with `loading`, `modifying`, `saving`, and `visualizing` `neuroimages` in `Python`. A secondary goal is to develop a conceptual understanding of the `data structures` involved, to facilitate diagnosing problems in `data` or `analysis` `pipelines`.\n",
    "\n",
    "To these ends, we'll be exploring the core `python library` for `handling` and `wrangling` `neuroimaging` `data`: [nibabel](). While this short introduction should get you started, it is well worth your time to look through `nibabel's` excellent [documentation](http://nipy.org/nibabel/). "
   ]
  },
  {
   "cell_type": "markdown",
   "metadata": {},
   "source": [
    "# [Nibabel](https://nipy.org/nibabel/)\n",
    "\n",
    "![](https://nipy.org/nibabel/_static/nibabel-logo.svg)\n",
    "\n",
    "\n",
    "`Nibabel` is a low-level `Python library` that gives access to a variety of `imaging` `formats`, with a particular focus on providing a common interface to the various **volumetric** formats produced by `MRI scanners` and used in common `neuroimaging` toolkits such as [FSL](https://fsl.fmrib.ox.ac.uk/fsl/fslwiki/), [AFNI](https://afni.nimh.nih.gov/), [FreeSurfer](https://surfer.nmr.mgh.harvard.edu/) and [SPM](https://www.fil.ion.ucl.ac.uk/spm/):\n",
    "\n",
    " - `NIfTI-1`\n",
    " - `NIfTI-2`\n",
    " - `SPM Analyze`\n",
    " - `FreeSurfer` `.mgh`/`.mgz` files\n",
    " - Philips `PAR/REC`\n",
    " - Siemens `ECAT`\n",
    " - `DICOM` (limited support)\n",
    "\n",
    "It also supports **surface** file formats:\n",
    "\n",
    " - `GIFTI`\n",
    " - `FreeSurfer` `surfaces`, `labels` and `annotations`\n",
    "\n",
    "and others such as:\n",
    "\n",
    "**Connectivity**\n",
    "\n",
    " - `CIFTI-2`\n",
    "\n",
    "**Tractography**\n",
    "\n",
    " - `TrackViz` `.trk` files\n",
    "\n",
    "as well as a number of related `formats`.\n",
    "\n",
    "**Note:** Almost all of these can be `loaded` through the [nibabel.load](https://nipy.org/nibabel/reference/nibabel.loadsave.html#nibabel.loadsave.load) `interface`."
   ]
  },
  {
   "cell_type": "markdown",
   "metadata": {},
   "source": [
    "## Setup\n",
    "\n",
    "Before we actually start, we are going to need to `import` the `nibabel` `library` and a few others, more or less related to `basic computing` and `plotting`."
   ]
  },
  {
   "cell_type": "code",
   "execution_count": 1,
   "metadata": {},
   "outputs": [],
   "source": [
    "%matplotlib inline\n"
   ]
  },
  {
   "cell_type": "code",
   "execution_count": 2,
   "metadata": {},
   "outputs": [],
   "source": [
    "from nilearn import plotting\n",
    "import pylab as plt\n",
    "import numpy as np\n",
    "import nibabel as nb"
   ]
  },
  {
   "cell_type": "markdown",
   "metadata": {},
   "source": [
    "Great, let's get started.\n",
    "\n",
    "## Loading and inspecting images in `nibabel`\n",
    "\n",
    "At first, we are going to explore how we can `load` and `inspect` `neuroimages` in `nibabel`. To this end, we will use parts of the `tutorial datasets` you should've [downloaded during the course setup](https://peerherholz.github.io/workshop_IRTG2150/setup.html#getting-the-course-content). Specifically, we are going to have a closer look at a `functional MRI` of `sub-01`. As mentioned before, basically all `file formats` are accessible via the `nibabel load` `interface`. All we need to do is to provide the `path` to the file we want to `load`:"
   ]
  },
  {
   "cell_type": "code",
   "execution_count": 3,
   "metadata": {},
   "outputs": [],
   "source": [
    "img = nb.load('../data/ds000114/sub-01/ses-test/func/sub-01_ses-test_task-fingerfootlips_bold.nii.gz')"
   ]
  },
  {
   "cell_type": "markdown",
   "metadata": {},
   "source": [
    "That's all it takes and with that, we can directly inspect our now `loaded` `fMRI` `image`, for example via `print` which will give is the information stored in the `header` of the `image`: "
   ]
  },
  {
   "cell_type": "code",
   "execution_count": 4,
   "metadata": {},
   "outputs": [
    {
     "name": "stdout",
     "output_type": "stream",
     "text": [
      "\n",
      "<class 'nibabel.nifti1.Nifti1Image'>\n",
      "data shape (64, 64, 30, 184)\n",
      "affine:\n",
      "[[-3.99471426e+00 -2.04233140e-01  2.29353290e-02  1.30641693e+02]\n",
      " [-2.05448717e-01  3.98260689e+00 -3.10890853e-01 -9.74732285e+01]\n",
      " [ 6.95819734e-03  3.11659902e-01  3.98780894e+00 -8.06465759e+01]\n",
      " [ 0.00000000e+00  0.00000000e+00  0.00000000e+00  1.00000000e+00]]\n",
      "metadata:\n",
      "<class 'nibabel.nifti1.Nifti1Header'> object, endian='<'\n",
      "sizeof_hdr      : 348\n",
      "data_type       : b''\n",
      "db_name         : b'?TR:2500.000 TE:50'\n",
      "extents         : 0\n",
      "session_error   : 0\n",
      "regular         : b'r'\n",
      "dim_info        : 0\n",
      "dim             : [  4  64  64  30 184   1   1   1]\n",
      "intent_p1       : 0.0\n",
      "intent_p2       : 0.0\n",
      "intent_p3       : 0.0\n",
      "intent_code     : none\n",
      "datatype        : int16\n",
      "bitpix          : 16\n",
      "slice_start     : 0\n",
      "pixdim          : [-1.        4.        4.        3.999975  2.5       1.        1.\n",
      "  1.      ]\n",
      "vox_offset      : 0.0\n",
      "scl_slope       : nan\n",
      "scl_inter       : nan\n",
      "slice_end       : 0\n",
      "slice_code      : unknown\n",
      "xyzt_units      : 10\n",
      "cal_max         : 0.0\n",
      "cal_min         : 0.0\n",
      "slice_duration  : 0.0\n",
      "toffset         : 0.0\n",
      "glmax           : 255\n",
      "glmin           : 0\n",
      "descrip         : b''\n",
      "aux_file        : b''\n",
      "qform_code      : scanner\n",
      "sform_code      : scanner\n",
      "quatern_b       : 0.025633048\n",
      "quatern_c       : -0.9989105\n",
      "quatern_d       : -0.03895198\n",
      "qoffset_x       : 130.6417\n",
      "qoffset_y       : -97.47323\n",
      "qoffset_z       : -80.646576\n",
      "srow_x          : [-3.9947143e+00 -2.0423314e-01  2.2935329e-02  1.3064169e+02]\n",
      "srow_y          : [ -0.20544872   3.982607    -0.31089085 -97.47323   ]\n",
      "srow_z          : [ 6.9581973e-03  3.1165990e-01  3.9878089e+00 -8.0646576e+01]\n",
      "intent_name     : b''\n",
      "magic           : b'n+1'\n",
      "\n"
     ]
    }
   ],
   "source": [
    "print(img)"
   ]
  },
  {
   "cell_type": "markdown",
   "metadata": {},
   "source": [
    "This `data-affine-header structure` is common to `volumetric` `formats` in `nibabel`, though the details of the `header` will vary from `format` to `format`. As you can see above, the here utilized example entails `information` about the `data shape`, `dimensions`, `affine`, `meta-data` and much more. All of them are very useful and good to know (and should be identical to values indicated the corresponding [json sidecar file](https://bids-specification.readthedocs.io/en/stable/02-common-principles.html#keyvalue-files-dictionaries) if you use [BIDS](https://bids.neuroimaging.io/)). \n",
    "\n"
   ]
  },
  {
   "cell_type": "markdown",
   "metadata": {},
   "source": [
    "```{admonition} Question\n",
    ":class: dropdown\n",
    "\n",
    "Please have a look at each of the `field`s displayed above and try to answer the following questions: \n",
    "  * what does the `value` refer to?\n",
    "  * what does the respective `information` represent?\n",
    "```"
   ]
  },
  {
   "cell_type": "markdown",
   "metadata": {},
   "source": [
    "### Accessing specific parameters\n",
    "\n",
    "Seeing all these `parameters` entailed in the `header` we might want to evaluate and utilize some of them during various points of our `analysis pipeline`. With `nibabel` we can easily access all of them, either directly, e.g. the `affine`: \n",
    "\n"
   ]
  },
  {
   "cell_type": "code",
   "execution_count": 5,
   "metadata": {},
   "outputs": [
    {
     "data": {
      "text/plain": [
       "array([[-3.99471426e+00, -2.04233140e-01,  2.29353290e-02,\n",
       "         1.30641693e+02],\n",
       "       [-2.05448717e-01,  3.98260689e+00, -3.10890853e-01,\n",
       "        -9.74732285e+01],\n",
       "       [ 6.95819734e-03,  3.11659902e-01,  3.98780894e+00,\n",
       "        -8.06465759e+01],\n",
       "       [ 0.00000000e+00,  0.00000000e+00,  0.00000000e+00,\n",
       "         1.00000000e+00]])"
      ]
     },
     "execution_count": 5,
     "metadata": {},
     "output_type": "execute_result"
    }
   ],
   "source": [
    "affine = img.affine\n",
    "affine\n"
   ]
  },
  {
   "cell_type": "markdown",
   "metadata": {},
   "source": [
    "or through the `header` `object`:"
   ]
  },
  {
   "cell_type": "code",
   "execution_count": 6,
   "metadata": {},
   "outputs": [
    {
     "data": {
      "text/plain": [
       "array([-1.      ,  4.      ,  4.      ,  3.999975,  2.5     ,  1.      ,\n",
       "        1.      ,  1.      ], dtype=float32)"
      ]
     },
     "execution_count": 6,
     "metadata": {},
     "output_type": "execute_result"
    }
   ],
   "source": [
    "header = img.header['pixdim']\n",
    "header\n"
   ]
  },
  {
   "cell_type": "markdown",
   "metadata": {},
   "source": [
    "```{admonition} Note\n",
    "Note that in the `'pixdim'` above contains the voxel resolution  (`4., 4., 3.999`), as well as the TR (`2.5`).\n",
    "```"
   ]
  },
  {
   "cell_type": "markdown",
   "metadata": {},
   "source": [
    "Furthermore, we can also access the underlying `data` of the `image`:"
   ]
  },
  {
   "cell_type": "code",
   "execution_count": 7,
   "metadata": {},
   "outputs": [
    {
     "data": {
      "text/plain": [
       "(64, 64, 30, 184)"
      ]
     },
     "execution_count": 7,
     "metadata": {},
     "output_type": "execute_result"
    }
   ],
   "source": [
    "data = img.get_fdata()\n",
    "data.shape"
   ]
  },
  {
   "cell_type": "markdown",
   "metadata": {},
   "source": [
    "#### Notes on working with neuroimaging and memory allocation\n",
    "\n",
    "Why not just directly access the `data` via `img.data`? Working with `neuroimages` can use a lot of `memory`, so `nibabel` works hard to be `memory efficient`. If it can read some `data` while leaving the rest on `disk`, it will. `img.get_data()` reflects that it's doing exactly that via some work behind the scenes.\n",
    "\n",
    "Lets dive a bit further into this:\n",
    "\n",
    " - `img.get_data_dtype()` shows the `type` of the `data` on `disk`\n",
    " - `img.get_data().dtype` shows the `type` of the `data` that you're working with"
   ]
  },
  {
   "cell_type": "code",
   "execution_count": 8,
   "metadata": {},
   "outputs": [
    {
     "name": "stdout",
     "output_type": "stream",
     "text": [
      "(dtype('float64'), dtype('<i2'))\n"
     ]
    }
   ],
   "source": [
    "print((data.dtype, img.get_data_dtype()))"
   ]
  },
  {
   "cell_type": "markdown",
   "metadata": {},
   "source": [
    "Even though true here, these are not always the same, and not being clear on this [has caused problems](https://github.com/nipy/nibabel/issues/490). Further, modifying one does not update the other. This is especially important to keep in mind later when saving `files`."
   ]
  },
  {
   "cell_type": "markdown",
   "metadata": {},
   "source": [
    "### What's actually in the `neuroimaging` `data`?\n",
    "\n",
    "It might sound less crazy/fancy than you thought/hoped for but the `data` is a simple `numpy` `array`. It has a `shape`, it can be `sliced` and generally manipulated as you would any `array` as it contains `numerical values` in certain `dimensions` with certain expressions. Lets use `matplotlib` to visualize the `data` after directly accessing it via `numpy` to make this more clear:"
   ]
  },
  {
   "cell_type": "code",
   "execution_count": 9,
   "metadata": {},
   "outputs": [
    {
     "name": "stdout",
     "output_type": "stream",
     "text": [
      "(64, 64, 30, 184)\n"
     ]
    },
    {
     "data": {
      "image/png": "[encoded data removed]",
      "text/plain": [
       "<Figure size 640x480 with 1 Axes>"
      ]
     },
     "metadata": {},
     "output_type": "display_data"
    }
   ],
   "source": [
    "plt.imshow(data[:, :, data.shape[2] // 2, 0].T, cmap='Greys_r')\n",
    "print(data.shape)"
   ]
  },
  {
   "cell_type": "markdown",
   "metadata": {},
   "source": [
    "```{admonition} Question\n",
    ":class: dropdown\n",
    "\n",
    "Think about what the `data` and the respective `values` represents in terms of the discussed `MRI` principles and the signal we obtain through it. \n",
    "\n",
    "```"
   ]
  },
  {
   "cell_type": "markdown",
   "metadata": {
    "solution2": "hidden",
    "solution2_first": true
   },
   "source": [
    "### Practical exercise 1:\n",
    "\n",
    "How about some small practical exercise to further familiarize yourself with `nibabel` and `neuroimaging` `data` handling?\n",
    "\n",
    "Please load the `T1w` `data` from `subject 1` and then `plot` the `image` using the same `volume` `indexing` as before. Also, please `print` the `shape` of the `data`. Don't worry if get stuck: just give it your best try and if it doesn't work out, have a look at the solution below!"
   ]
  },
  {
   "cell_type": "code",
   "execution_count": null,
   "metadata": {},
   "outputs": [],
   "source": [
    "# work on solution here"
   ]
  },
  {
   "cell_type": "markdown",
   "metadata": {},
   "source": [
    "```{admonition} Solution\n",
    ":class: dropdown\n",
    "\n",
    "    t1 = nb.load('/data/ds000114/sub-01/ses-test/anat/sub-01_ses-test_T1w.nii.gz')\n",
    "    data = t1.get_data()\n",
    "    plt.imshow(data[:, :, data.shape[2] // 2].T, cmap='Greys_r')\n",
    "    print(data.shape)\n",
    "\n",
    "```"
   ]
  },
  {
   "cell_type": "markdown",
   "metadata": {},
   "source": [
    "### Visually inspecting `images` via `orthoview()`\n",
    "\n",
    "`Nibabel` has its own `viewer`, which can be accessed through **`img.orthoview()`** where `img` is the `image` you `loaded` via e.g. `.load`. It should present you with either `3` or `4` `subplots` for the respective `dimensions`, ie. `3` `spatial` (`x`, `y`, `z`) and in case of `fMRI` `images` `1` `temporal`(`time` indicated via `TR`). This `viewer` `scales` `voxels` to reflect their `size`, and `label` orientations. \n",
    "\n",
    "**Warning:** `img.orthoview()` may not work properly on OS X.\n",
    "\n",
    "#### Sidenote on plotting with `orthoview()`\n",
    "As with other figures, f you initiated `matplotlib` with `%matplotlib inline`, the output figure will be static. If you use `orthoview()` in a normal `IPython console`, it will create an `interactive` window, and you can click to select different slices, similar to `mricron` or comparable viewers. To get a similar experience in a `jupyter notebook`, use `%matplotlib notebook`. But don't forget to close `figures` afterward again or use `%matplotlib inline` again, otherwise, you cannot `plot` any other `figures`."
   ]
  },
  {
   "cell_type": "code",
   "execution_count": 12,
   "metadata": {},
   "outputs": [
    {
     "data": {
      "text/plain": [
       "<OrthoSlicer3D: ../data/ds000114/sub-01/ses-test/func/sub-01_ses-test_task-fingerfootlips_bold.nii.gz (64, 64, 30, 184)>"
      ]
     },
     "execution_count": 12,
     "metadata": {},
     "output_type": "execute_result"
    },
    {
     "data": {
      "image/png": "[encoded data removed]",
      "text/plain": [
       "<Figure size 800x800 with 4 Axes>"
      ]
     },
     "metadata": {},
     "output_type": "display_data"
    }
   ],
   "source": [
    "%matplotlib inline\n",
    "img.orthoview()"
   ]
  },
  {
   "cell_type": "markdown",
   "metadata": {},
   "source": [
    "After we got a broad and general overview of `neuroimaging data` and what it entails, we should spend a bit more time on more precise aspects of `neuroimaging` `data` and its handling using `nibabel`. Specifically, we will spend a closer look at the `header` and the `affine`. **Please note** that we will be using the `t1w` `data` of `sub-01` for this part. Thus, if you didn't went through the `previous` `exercise`, you should do so now or make sure to check/run the solution. To make sure everything works, please try to use `.orthoview()` to `plot` and `investigate` the `t1w` `image`.\n",
    "\n"
   ]
  },
  {
   "cell_type": "markdown",
   "metadata": {},
   "source": [
    "```{admonition} Solution\n",
    ":class: dropdown\n",
    "\n",
    "    t1.orthoview()\n",
    "\n",
    "```"
   ]
  },
  {
   "cell_type": "markdown",
   "metadata": {},
   "source": [
    "### Header\n",
    "\n",
    "The `header` is a general property of `neuroimaging data` in most `file formats` and in `nibabel` the structure that stores all of the `metadata` of the `image`. As indicated above, you can query it directly, if necessary. For example, getting the `description`:\n"
   ]
  },
  {
   "cell_type": "code",
   "execution_count": 18,
   "metadata": {},
   "outputs": [
    {
     "data": {
      "text/plain": [
       "array(b'FSL5.0', dtype='|S80')"
      ]
     },
     "execution_count": 18,
     "metadata": {},
     "output_type": "execute_result"
    }
   ],
   "source": [
    "t1.header['descrip']"
   ]
  },
  {
   "cell_type": "markdown",
   "metadata": {},
   "source": [
    "But it also provides `interfaces` for the more common information, such as `get_zooms`, `get_xyzt_units`, `get_qform`, `get_sform` which respectively provide `spatial`, `temporal` and `affine` `information` of the `image` at hand:"
   ]
  },
  {
   "cell_type": "code",
   "execution_count": 19,
   "metadata": {},
   "outputs": [
    {
     "data": {
      "text/plain": [
       "(1.0, 1.2993759, 1.0)"
      ]
     },
     "execution_count": 19,
     "metadata": {},
     "output_type": "execute_result"
    }
   ],
   "source": [
    "t1.header.get_zooms()"
   ]
  },
  {
   "cell_type": "code",
   "execution_count": 20,
   "metadata": {},
   "outputs": [
    {
     "data": {
      "text/plain": [
       "('mm', 'sec')"
      ]
     },
     "execution_count": 20,
     "metadata": {},
     "output_type": "execute_result"
    }
   ],
   "source": [
    "t1.header.get_xyzt_units()"
   ]
  },
  {
   "cell_type": "code",
   "execution_count": 21,
   "metadata": {},
   "outputs": [
    {
     "data": {
      "text/plain": [
       "array([[ 9.99131938e-01, -5.16292391e-02,  1.25136054e-02,\n",
       "        -1.25263863e+02],\n",
       "       [ 4.07721521e-02,  1.29202043e+00, -9.81179047e-02,\n",
       "        -7.31330109e+01],\n",
       "       [-8.54416425e-03,  1.28044319e-01,  9.95096119e-01,\n",
       "        -1.77554291e+02],\n",
       "       [ 0.00000000e+00,  0.00000000e+00,  0.00000000e+00,\n",
       "         1.00000000e+00]])"
      ]
     },
     "execution_count": 21,
     "metadata": {},
     "output_type": "execute_result"
    }
   ],
   "source": [
    "t1.header.get_qform()"
   ]
  },
  {
   "cell_type": "code",
   "execution_count": 22,
   "metadata": {},
   "outputs": [
    {
     "data": {
      "text/plain": [
       "array([[ 9.99131918e-01, -5.16291820e-02,  1.25127016e-02,\n",
       "        -1.25263863e+02],\n",
       "       [ 4.07721959e-02,  1.29202044e+00, -9.81179178e-02,\n",
       "        -7.31330109e+01],\n",
       "       [-8.54506902e-03,  1.28044292e-01,  9.95096147e-01,\n",
       "        -1.77554291e+02],\n",
       "       [ 0.00000000e+00,  0.00000000e+00,  0.00000000e+00,\n",
       "         1.00000000e+00]])"
      ]
     },
     "execution_count": 22,
     "metadata": {},
     "output_type": "execute_result"
    }
   ],
   "source": [
    "t1.header.get_sform()"
   ]
  },
  {
   "cell_type": "markdown",
   "metadata": {},
   "source": [
    "Speaking of the `affine`, lets check it out in more detail:\n",
    "\n",
    "### Affine\n",
    "\n",
    "In our case, the `affine` refers to a `4 x 4 numpy array`. This describes the `transformation` from the `voxel space` (`indices` `[i, j, k]`) to the `reference space` (`distance` in `mm` `(x, y, z)`).\n",
    "\n",
    "It can be used, for instance, to discover the `voxel` that contains the `origin` of the `image`: "
   ]
  },
  {
   "cell_type": "code",
   "execution_count": 23,
   "metadata": {},
   "outputs": [
    {
     "name": "stdout",
     "output_type": "stream",
     "text": [
      "Affine:\n",
      "[[-3.99471426e+00 -2.04233140e-01  2.29353290e-02  1.30641693e+02]\n",
      " [-2.05448717e-01  3.98260689e+00 -3.10890853e-01 -9.74732285e+01]\n",
      " [ 6.95819734e-03  3.11659902e-01  3.98780894e+00 -8.06465759e+01]\n",
      " [ 0.00000000e+00  0.00000000e+00  0.00000000e+00  1.00000000e+00]]\n",
      "Center: (31, 27, 18)\n"
     ]
    }
   ],
   "source": [
    "x, y, z, _ = np.linalg.pinv(affine).dot(np.array([0, 0, 0, 1])).astype(int)\n",
    "\n",
    "print(\"Affine:\")\n",
    "print(affine)\n",
    "print\n",
    "print(\"Center: ({:d}, {:d}, {:d})\".format(x, y, z))"
   ]
  },
  {
   "cell_type": "markdown",
   "metadata": {},
   "source": [
    "The `affine` also encodes the `axis` `orientation` and `voxel sizes`:"
   ]
  },
  {
   "cell_type": "code",
   "execution_count": 24,
   "metadata": {},
   "outputs": [
    {
     "data": {
      "text/plain": [
       "('L', 'A', 'S')"
      ]
     },
     "execution_count": 24,
     "metadata": {},
     "output_type": "execute_result"
    }
   ],
   "source": [
    "nb.aff2axcodes(affine)"
   ]
  },
  {
   "cell_type": "code",
   "execution_count": 25,
   "metadata": {},
   "outputs": [
    {
     "data": {
      "text/plain": [
       "array([3.99999995, 4.00000009, 3.99997491])"
      ]
     },
     "execution_count": 25,
     "metadata": {},
     "output_type": "execute_result"
    }
   ],
   "source": [
    "nb.affines.voxel_sizes(affine)"
   ]
  },
  {
   "cell_type": "code",
   "execution_count": 26,
   "metadata": {},
   "outputs": [
    {
     "data": {
      "text/plain": [
       "('L', 'A', 'S')"
      ]
     },
     "execution_count": 26,
     "metadata": {},
     "output_type": "execute_result"
    }
   ],
   "source": [
    "nb.aff2axcodes(affine)"
   ]
  },
  {
   "cell_type": "code",
   "execution_count": 27,
   "metadata": {},
   "outputs": [
    {
     "data": {
      "text/plain": [
       "array([3.99999995, 4.00000009, 3.99997491])"
      ]
     },
     "execution_count": 27,
     "metadata": {},
     "output_type": "execute_result"
    }
   ],
   "source": [
    "nb.affines.voxel_sizes(affine)"
   ]
  },
  {
   "cell_type": "markdown",
   "metadata": {},
   "source": [
    "Normally, we're not particularly interested in the `header` or the `affine`. But it's important to know they're there. And especially, to remember to copy them when making new `images` or working with `derivatives`, so that they stay aligned with the original `image` (if required).\n",
    "\n",
    "Now you might think: it seems a bit cumbersome to get/access all that information to e.g. check and/or evaluate a given `image`. First of all: come on, it's just a few lines of rather simple code. Second, if you really don't want to fire up a `python` session and run a few commands/functions: `nibabel` also has your back here.   "
   ]
  },
  {
   "cell_type": "markdown",
   "metadata": {},
   "source": [
    "## `nib-ls`\n",
    "\n",
    "`Nibabel` comes packaged with a `command-line tool` called [nib-lis](https://nipy.org/nibabel/reference/nibabel.cmdline.html?highlight=nib%20ls#module-nibabel.cmdline.ls) to `print` `common` `metadata` about any (`volumetric`) `neuroimaging` `format` `nibabel` supports. By default, it shows (**`on-disk`**) `data type`, `dimensions` and `voxel sizes`. Lets try it out via using the `fMRI` `data` of `sub-01` again:"
   ]
  },
  {
   "cell_type": "code",
   "execution_count": 29,
   "metadata": {},
   "outputs": [
    {
     "name": "stdout",
     "output_type": "stream",
     "text": [
      "../data/ds000114/sub-01/ses-test/func/sub-01_ses-test_task-fingerfootlips_bold.nii.gz int16 [ 64,  64,  30, 184] 4.00x4.00x4.00x2.50   sform\n",
      "\n"
     ]
    }
   ],
   "source": [
    "!nib-ls ../data/ds000114/sub-01/ses-test/func/sub-01_ses-test_task-fingerfootlips_bold.nii.gz"
   ]
  },
  {
   "cell_type": "markdown",
   "metadata": {},
   "source": [
    "We can also inspect `header` `fields` by name, for instance, `descrip`:"
   ]
  },
  {
   "cell_type": "code",
   "execution_count": 30,
   "metadata": {},
   "outputs": [
    {
     "name": "stdout",
     "output_type": "stream",
     "text": [
      "../data/ds000114/sub-01/ses-test/anat/sub-01_ses-test_T1w.nii.gz float32 [256, 156, 256] 1.00x1.30x1.00   b'FSL5.0' sform\n",
      "\n"
     ]
    }
   ],
   "source": [
    "!nib-ls -H descrip ../data/ds000114/sub-01/ses-test/anat/sub-01_ses-test_T1w.nii.gz"
   ]
  },
  {
   "cell_type": "markdown",
   "metadata": {},
   "source": [
    "This concludes the basic `neuroimaging data` exploration section which discussed `commands` and `functions` should already allow you to do a lot of common tasks and work with `neuroimaging data`. However, there's obviously way more to it. For example, `creating` and `saving` `images`.\n",
    "\n",
    "## Creating and saving images\n",
    "\n",
    "Suppose we want to save `space` by `rescaling` our `image` to a smaller `datatype`, such as an `unsigned byte`. To do this, we first need to take the `data`, change its `datatype` and `save` this new `data` in a new `NIfTI image` with the **same** `header` and `affine` as the `original image`. At first, we need to `load` the `image` and `get` the `data` (using the `fMRI` `data` of `sub-01` once more):"
   ]
  },
  {
   "cell_type": "code",
   "execution_count": 31,
   "metadata": {},
   "outputs": [],
   "source": [
    "img = nb.load('../data/ds000114/sub-01/ses-test/func/sub-01_ses-test_task-fingerfootlips_bold.nii.gz')\n",
    "data = img.get_fdata()"
   ]
  },
  {
   "cell_type": "markdown",
   "metadata": {},
   "source": [
    "Now we force the `values` to be between `0` and `255` and `change` the `datatype` to `unsigned 8-bit`:"
   ]
  },
  {
   "cell_type": "code",
   "execution_count": 32,
   "metadata": {},
   "outputs": [],
   "source": [
    "rescaled = ((data - data.min()) * 255. / (data.max() - data.min())).astype(np.uint8)"
   ]
  },
  {
   "cell_type": "markdown",
   "metadata": {},
   "source": [
    "Now we can `save` the changed `data` into a new `NIfTI file`:"
   ]
  },
  {
   "cell_type": "code",
   "execution_count": 33,
   "metadata": {},
   "outputs": [],
   "source": [
    "new_img = nb.Nifti1Image(rescaled, affine=img.affine, header=img.header)\n",
    "nb.save(new_img, 'rescaled_image.nii.gz')"
   ]
  },
  {
   "cell_type": "markdown",
   "metadata": {},
   "source": [
    "Let's look at the `datatypes` of the `data array`, as well as of the `nifti image`:"
   ]
  },
  {
   "cell_type": "code",
   "execution_count": 34,
   "metadata": {},
   "outputs": [
    {
     "name": "stdout",
     "output_type": "stream",
     "text": [
      "(dtype('float64'), dtype('<i2'))\n"
     ]
    }
   ],
   "source": [
    "print((new_img.get_fdata().dtype, new_img.get_data_dtype()))"
   ]
  },
  {
   "cell_type": "markdown",
   "metadata": {},
   "source": [
    "That's not optimal. Our `data array` has the correct `type`, but the `on-disk format` is determined by the `header`, so `saving` it with `img.header` will not do what we want. Also, let's take a look at the `size` of the `original` and `new` `file`."
   ]
  },
  {
   "cell_type": "code",
   "execution_count": 35,
   "metadata": {},
   "outputs": [
    {
     "name": "stdout",
     "output_type": "stream",
     "text": [
      " 12M\trescaled_image.nii.gz\n",
      " 23M\t../data/ds000114/sub-01/ses-test/func/sub-01_ses-test_task-fingerfootlips_bold.nii.gz\n"
     ]
    }
   ],
   "source": [
    "orig_filename = img.get_filename()\n",
    "!du -hL rescaled_image.nii.gz $orig_filename"
   ]
  },
  {
   "cell_type": "markdown",
   "metadata": {},
   "source": [
    "So, let's correct the `header` issue with the `set_data_dtype()` `function`:"
   ]
  },
  {
   "cell_type": "code",
   "execution_count": 36,
   "metadata": {},
   "outputs": [],
   "source": [
    "img.set_data_dtype(np.uint8)"
   ]
  },
  {
   "cell_type": "markdown",
   "metadata": {},
   "source": [
    "and then saving `image` again:\n"
   ]
  },
  {
   "cell_type": "code",
   "execution_count": 37,
   "metadata": {},
   "outputs": [],
   "source": [
    "new_img = nb.Nifti1Image(rescaled, affine=img.affine, header=img.header)\n",
    "nb.save(new_img, 'rescaled_image.nii.gz')"
   ]
  },
  {
   "cell_type": "markdown",
   "metadata": {},
   "source": [
    "After which we evaluate our `image` again:"
   ]
  },
  {
   "cell_type": "code",
   "execution_count": 38,
   "metadata": {},
   "outputs": [
    {
     "name": "stdout",
     "output_type": "stream",
     "text": [
      "(dtype('float64'), dtype('uint8'))\n"
     ]
    }
   ],
   "source": [
    "print((new_img.get_fdata().dtype, new_img.get_data_dtype()))"
   ]
  },
  {
   "cell_type": "markdown",
   "metadata": {},
   "source": [
    "Perfect! Now the `data` `types` are correct. And if we look at the `size` of the `image` we even see that it got a bit smaller."
   ]
  },
  {
   "cell_type": "code",
   "execution_count": 39,
   "metadata": {},
   "outputs": [
    {
     "name": "stdout",
     "output_type": "stream",
     "text": [
      " 10M\trescaled_image.nii.gz\n"
     ]
    }
   ],
   "source": [
    "!du -hL rescaled_image.nii.gz"
   ]
  },
  {
   "cell_type": "markdown",
   "metadata": {},
   "source": [
    "# Conclusions\n",
    "\n",
    "In this first introduction of how to work with `neuroimaging data` using `python`, we've explored `load`ing, `saving` and `visualizing` `neuroimages` via `nibabel`, as well as how it can make some more sophisticated manipulations easy. At this point, you should be able to `inspect` and `plot` most `images` you encounter, as well as make modifications while preserving the `alignment` (at least for basic operations)."
   ]
  }
 ],
 "metadata": {
  "anaconda-cloud": {},
  "kernelspec": {
   "display_name": "workshop_IRTG2150",
   "language": "python",
   "name": "workshop_irtg2150"
  },
  "language_info": {
   "codemirror_mode": {
    "name": "ipython",
    "version": 3
   },
   "file_extension": ".py",
   "mimetype": "text/x-python",
   "name": "python",
   "nbconvert_exporter": "python",
   "pygments_lexer": "ipython3",
   "version": "3.11.0"
  },
  "vscode": {
   "interpreter": {
    "hash": "aa3294e16c73365073ee846a76e7d53b5b9e5a293a3115a87882950862aae9bc"
   }
  }
 },
 "nbformat": 4,
 "nbformat_minor": 4
}
